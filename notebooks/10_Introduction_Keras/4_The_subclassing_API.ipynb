{
 "cells": [
  {
   "cell_type": "markdown",
   "id": "9f7df237-37f1-4ad8-a867-0d1db0cdd9b5",
   "metadata": {},
   "source": [
    "# The sublcassing API"
   ]
  },
  {
   "cell_type": "markdown",
   "id": "7c043f6a-0018-47ef-92a4-a1bc306df856",
   "metadata": {},
   "source": [
    "_Subclassing API is more dynamic as the sequentiell or functional keras API._\n",
    "\n",
    "__Beneftis functional API:__\n",
    "\n",
    "1. Model can be easily saved, cloned and shared. \n",
    "2. Structure can be displayed an analyzed\n",
    "3. Type checking - Errors are caught early. \n",
    "\n",
    "__Drawbacks functional API:__ \n",
    "\n",
    "1. It's static\n",
    "\n",
    "__Benefits dynamic subclassing API:__ \n",
    "\n",
    "1. Conditional Breaching\n",
    "2. Loops\n",
    "3. Boundaries are endless -> Subclassing API perfect for individualization\n",
    "\n",
    "__Drawbacks dynamic subclassing API:__\n",
    "\n",
    "1. Model Architecture is hidden \n",
    "2. Can not be saved or cloned easily \n",
    "3. ```.summary()``` does only return list of layers but not their dependencies. "
   ]
  },
  {
   "cell_type": "markdown",
   "id": "9344106e-c829-4f36-9028-0fe7564f53bd",
   "metadata": {},
   "source": [
    "## Idea"
   ]
  },
  {
   "cell_type": "markdown",
   "id": "da654432-c37b-4449-a1ac-befa9132130e",
   "metadata": {},
   "source": [
    "1. Class needs to inherit from keras.Model\n",
    "2. The constructor initializes the layers\n",
    "3. The ```.call()``` method performs the computations"
   ]
  },
  {
   "cell_type": "markdown",
   "id": "9355c109-9b65-4001-a801-6b5a76356bb4",
   "metadata": {},
   "source": [
    "<img src = \"../../img/1016.png\" />"
   ]
  },
  {
   "cell_type": "code",
   "execution_count": 4,
   "id": "5d654093-d092-4a71-977e-827f1e948004",
   "metadata": {},
   "outputs": [],
   "source": [
    "import tensorflow as tf\n",
    "from tensorflow import keras"
   ]
  },
  {
   "cell_type": "code",
   "execution_count": 7,
   "id": "1f974f61-ec98-4afb-a88d-6a9d9ad03204",
   "metadata": {},
   "outputs": [],
   "source": [
    "class WideAndDeppModel(keras.Model):\n",
    "    \n",
    "    def __init__(units = 30, activation = keras.activations.relu, **kwargs):\n",
    "        super().__init__(**kwargs) # handels standard args (e.g. name)\n",
    "        self.hidden_1 = keras.layers.Dense(units, activation = activation)\n",
    "        self.hidden_2 = keras.layers.Dense(units, activation = activation)\n",
    "        \n",
    "        self.main_output = keras.layers.Dense(1)\n",
    "        self.aux_output = keras.layers.Dense(1)\n",
    "    \n",
    "    def __call__(inputs):\n",
    "        input_a, input_b = inputs\n",
    "        hidden_1 = self.hidden_1(input_B)\n",
    "        hidden2 = self.hidden_2(hidden_1)\n",
    "        concat = keras.layers.concatenate([input_a, hidden_2])\n",
    "        main_out = self.main_output(concat)\n",
    "        aux_output = self.aux_output(hidden_2)\n",
    "        return main_output, aux_output"
   ]
  },
  {
   "cell_type": "code",
   "execution_count": null,
   "id": "bbc770f2-71ba-4ce4-8eac-9b154ec01dea",
   "metadata": {},
   "outputs": [],
   "source": []
  }
 ],
 "metadata": {
  "kernelspec": {
   "display_name": "Python 3 (ipykernel)",
   "language": "python",
   "name": "python3"
  },
  "language_info": {
   "codemirror_mode": {
    "name": "ipython",
    "version": 3
   },
   "file_extension": ".py",
   "mimetype": "text/x-python",
   "name": "python",
   "nbconvert_exporter": "python",
   "pygments_lexer": "ipython3",
   "version": "3.7.0"
  }
 },
 "nbformat": 4,
 "nbformat_minor": 5
}
