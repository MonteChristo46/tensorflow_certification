{
 "cells": [
  {
   "cell_type": "markdown",
   "id": "c88caa1d-fd89-41ac-93de-14cc0390d40c",
   "metadata": {},
   "source": [
    "# Introduction Keras"
   ]
  },
  {
   "cell_type": "raw",
   "id": "8e601479-988c-4c3b-91a6-2029698d0dfc",
   "metadata": {},
   "source": [
    "Keras has many 3 ways of building neural nets: \n",
    "\n",
    "1. The sequential API \n",
    "2. The functional API\n",
    "3. The subclassing API\n"
   ]
  },
  {
   "cell_type": "code",
   "execution_count": null,
   "id": "231214bf-2539-48ca-890b-98ae7c102edd",
   "metadata": {},
   "outputs": [],
   "source": []
  }
 ],
 "metadata": {
  "kernelspec": {
   "display_name": "Python 3 (ipykernel)",
   "language": "python",
   "name": "python3"
  },
  "language_info": {
   "codemirror_mode": {
    "name": "ipython",
    "version": 3
   },
   "file_extension": ".py",
   "mimetype": "text/x-python",
   "name": "python",
   "nbconvert_exporter": "python",
   "pygments_lexer": "ipython3",
   "version": "3.8.0"
  }
 },
 "nbformat": 4,
 "nbformat_minor": 5
}
