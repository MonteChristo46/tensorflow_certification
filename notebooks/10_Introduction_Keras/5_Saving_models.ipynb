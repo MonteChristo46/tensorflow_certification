{
 "cells": [
  {
   "cell_type": "markdown",
   "id": "a05612e3-25a1-4008-847e-5069b462b023",
   "metadata": {},
   "source": [
    "# Saving a model and Callbacks"
   ]
  },
  {
   "cell_type": "code",
   "execution_count": 3,
   "id": "9670f3b5-2816-4034-9206-5da8efdf86f3",
   "metadata": {},
   "outputs": [],
   "source": [
    "import tensorflow as tf\n",
    "from tensorflow import keras\n",
    "import pandas as pd\n",
    "import numpy as np\n",
    "import matplotlib.pyplot as plt"
   ]
  },
  {
   "cell_type": "markdown",
   "id": "1e42a141-bd8a-4bb4-bd6b-75148a114d41",
   "metadata": {},
   "source": [
    "## Loading dataset & building model "
   ]
  },
  {
   "cell_type": "markdown",
   "id": "c6f53101-376c-42a6-a07d-b24bdafda136",
   "metadata": {},
   "source": [
    "### Dataset"
   ]
  },
  {
   "cell_type": "code",
   "execution_count": 4,
   "id": "029f80cd-09e5-4fb0-9602-6548ca2843e2",
   "metadata": {},
   "outputs": [],
   "source": [
    "fashion_mnist = keras.datasets.fashion_mnist"
   ]
  },
  {
   "cell_type": "code",
   "execution_count": 5,
   "id": "e46b2b71-969f-4f60-9008-87c450d33550",
   "metadata": {},
   "outputs": [],
   "source": [
    "## Validation Dataset is missing"
   ]
  },
  {
   "cell_type": "code",
   "execution_count": 6,
   "id": "447a0dd4-355d-4287-b74c-b3b79ee66df6",
   "metadata": {},
   "outputs": [],
   "source": [
    "(x_train, y_train), (x_test, y_test) = fashion_mnist.load_data()"
   ]
  },
  {
   "cell_type": "code",
   "execution_count": 7,
   "id": "5aee4e67-a3b9-4512-acfc-52e19671f470",
   "metadata": {},
   "outputs": [],
   "source": [
    "x_valid, x_train = x_train[:5000], x_train[5000:]"
   ]
  },
  {
   "cell_type": "code",
   "execution_count": 8,
   "id": "30459a19-eb14-477a-887d-e1bcaee7eacb",
   "metadata": {},
   "outputs": [],
   "source": [
    "# Creating the validation dataset from the training data. We use 5000 the rest will be used for training. "
   ]
  },
  {
   "cell_type": "code",
   "execution_count": 9,
   "id": "c72aefa8-838b-4a17-b106-f7e1d1e36e02",
   "metadata": {},
   "outputs": [],
   "source": [
    "y_valid, y_train = y_train[:5000], y_train[5000:]"
   ]
  },
  {
   "cell_type": "code",
   "execution_count": 10,
   "id": "656fbc03-fac0-42ae-a0a4-3346a046eefb",
   "metadata": {},
   "outputs": [],
   "source": [
    "## We should scale our data because we're gonna use Gradient Descent."
   ]
  },
  {
   "cell_type": "code",
   "execution_count": 11,
   "id": "95d3edb5-dc4e-4a85-8e7e-f3d758f0508b",
   "metadata": {},
   "outputs": [],
   "source": [
    "x_valid, x_train, x_test = x_valid/255, x_train/255, x_test/255"
   ]
  },
  {
   "cell_type": "code",
   "execution_count": 12,
   "id": "096dd654-706b-48ac-9bac-4e28b6f54f37",
   "metadata": {},
   "outputs": [],
   "source": [
    "# Label-Map for Y"
   ]
  },
  {
   "cell_type": "code",
   "execution_count": 13,
   "id": "e90deb18-e9de-40b9-9450-0069e3e12dbc",
   "metadata": {},
   "outputs": [],
   "source": [
    "class_names = [\"T-shirt/top\", \"Trouser\", \"Pullover\", \"Dress\", \"Coat\", \"Sandal\", \"Shirt\", \"Sneaker\", \"Bag\", \"Ankle boot\"]"
   ]
  },
  {
   "cell_type": "markdown",
   "id": "2c0415f0-0812-4c51-97f0-9ee641eb1ed7",
   "metadata": {},
   "source": [
    "### Creating the sequential model"
   ]
  },
  {
   "cell_type": "code",
   "execution_count": 14,
   "id": "1823aa0a-2ef5-4621-bd05-5bce6cf53ad5",
   "metadata": {},
   "outputs": [],
   "source": [
    "model = keras.models.Sequential([\n",
    "    keras.layers.Flatten(input_shape=[28,28]),\n",
    "    keras.layers.Dense(300, activation = keras.activations.relu),\n",
    "    keras.layers.Dense(100, activation = keras.activations.relu),\n",
    "    keras.layers.Dense(10, activation = keras.activations.softmax)\n",
    "])"
   ]
  },
  {
   "cell_type": "code",
   "execution_count": 15,
   "id": "d7033e4b-cbcf-465b-80c0-65fd317870fa",
   "metadata": {},
   "outputs": [],
   "source": [
    "model.compile(loss = keras.losses.sparse_categorical_crossentropy, optimizer = keras.optimizers.SGD(learning_rate=0.01), metrics = [\"accuracy\"])"
   ]
  },
  {
   "cell_type": "markdown",
   "id": "fb7fb412-1238-4c96-940b-3502c64844e1",
   "metadata": {},
   "source": [
    "## Training and ```fit()```"
   ]
  },
  {
   "cell_type": "markdown",
   "id": "f3da0546-6672-4965-8981-03268afe59da",
   "metadata": {},
   "source": [
    "## ```Keras.model.save()```\n",
    "\n",
    "keras provides an own function for saving model. Each keras.Model class provides a save method to save the model in h5 format: \n",
    "\n",
    "What will be saved? \n",
    "1. Model's architectrure\n",
    "2. Hyperparamters\n",
    "3. Model Parameters + Weight\n",
    "4. Optimizer + Hyperparamter"
   ]
  },
  {
   "cell_type": "code",
   "execution_count": 22,
   "id": "38fed5a6-7dbf-4aff-a540-d770acd3b61a",
   "metadata": {},
   "outputs": [],
   "source": [
    "# Keras saves model in h5 format ' it's easy"
   ]
  },
  {
   "cell_type": "code",
   "execution_count": 23,
   "id": "33629796-2185-4ef5-a37f-7c815109ab6b",
   "metadata": {},
   "outputs": [
    {
     "name": "stdout",
     "output_type": "stream",
     "text": [
      "Epoch 1/2\n",
      "1719/1719 [==============================] - 2s 1ms/step - loss: 0.3957 - accuracy: 0.8615 - val_loss: 0.3935 - val_accuracy: 0.8612\n",
      "Epoch 2/2\n",
      "1719/1719 [==============================] - 2s 1ms/step - loss: 0.3808 - accuracy: 0.8656 - val_loss: 0.3701 - val_accuracy: 0.8748\n"
     ]
    },
    {
     "data": {
      "text/plain": [
       "<keras.callbacks.History at 0x212f55f9400>"
      ]
     },
     "execution_count": 23,
     "metadata": {},
     "output_type": "execute_result"
    }
   ],
   "source": [
    "model.fit(x_train, y_train, epochs = 2, validation_data = (x_valid, y_valid))"
   ]
  },
  {
   "cell_type": "code",
   "execution_count": 24,
   "id": "25469dfa-b492-4a77-8bc9-369104c57445",
   "metadata": {},
   "outputs": [],
   "source": [
    "model.save(\"models/firstModel.h5\")"
   ]
  },
  {
   "cell_type": "markdown",
   "id": "509918db-dc5b-4eb0-a75c-16af72eadfc2",
   "metadata": {},
   "source": [
    "## Using Callbacks\n",
    "\n",
    "The ```fit()``` methods allows us to provide a callback function, which is executed when: \n",
    "\n",
    "- Start & end of the training\n",
    "- start & end of each poch\n",
    "- Before & after processing batch\n",
    "\n",
    "Will be used to store checkpoint files. __The keras.callbacks API already provides some common callback functions!__"
   ]
  },
  {
   "cell_type": "code",
   "execution_count": 28,
   "id": "ff9bf379-592e-4094-982a-80f32c6b126c",
   "metadata": {},
   "outputs": [],
   "source": [
    "checkpoint_cb = keras.callbacks.ModelCheckpoint(\"models/firstModel_checkpoint.h5\")"
   ]
  },
  {
   "cell_type": "code",
   "execution_count": 29,
   "id": "8bf7afb4-461a-43a7-89aa-16dccf5f02f6",
   "metadata": {},
   "outputs": [
    {
     "name": "stdout",
     "output_type": "stream",
     "text": [
      "Epoch 1/2\n",
      "1719/1719 [==============================] - 2s 1ms/step - loss: 0.3467 - accuracy: 0.8766\n",
      "Epoch 2/2\n",
      "1719/1719 [==============================] - 2s 1ms/step - loss: 0.3360 - accuracy: 0.8799\n"
     ]
    }
   ],
   "source": [
    "history = model.fit(x_train, y_train, epochs = 2, callbacks = [checkpoint_cb])"
   ]
  },
  {
   "cell_type": "markdown",
   "id": "ae157d7c-523f-4ad9-b6f4-e9159bf38f65",
   "metadata": {},
   "source": [
    "### ```save_best_only```\n",
    "\n",
    "To keep only the model with the best validation score we can also provide the ```save_best_only=True``` argument to ModelCheckpoint-Callback. "
   ]
  },
  {
   "cell_type": "code",
   "execution_count": 31,
   "id": "a9aa8795-0e6b-4ed3-b598-565d2cf45bd1",
   "metadata": {},
   "outputs": [],
   "source": [
    "checkpoint_cb = keras.callbacks.ModelCheckpoint(\"models/firstModel_checkpoint.h5\", save_best_only = True)"
   ]
  },
  {
   "cell_type": "code",
   "execution_count": 32,
   "id": "f77b7859-2587-4d60-99f2-854dc1730ba8",
   "metadata": {},
   "outputs": [
    {
     "name": "stdout",
     "output_type": "stream",
     "text": [
      "Epoch 1/2\n",
      "1719/1719 [==============================] - 2s 1ms/step - loss: 0.3286 - accuracy: 0.8833\n",
      "WARNING:tensorflow:Can save best model only with val_loss available, skipping.\n",
      "Epoch 2/2\n",
      "1719/1719 [==============================] - 2s 1ms/step - loss: 0.3202 - accuracy: 0.8865\n",
      "WARNING:tensorflow:Can save best model only with val_loss available, skipping.\n"
     ]
    }
   ],
   "source": [
    "history = model.fit(x_train, y_train, epochs = 2, callbacks = [checkpoint_cb])"
   ]
  },
  {
   "cell_type": "markdown",
   "id": "c525e107-6f7a-420e-bb0e-5a92135e5d74",
   "metadata": {},
   "source": [
    "### Early Stopping\n",
    "\n",
    "Will interrupt if no progress is measured on the validation set"
   ]
  },
  {
   "cell_type": "code",
   "execution_count": 33,
   "id": "fcc42c2a-27e5-4859-bd96-205b4f7ab7ed",
   "metadata": {},
   "outputs": [],
   "source": [
    "early_stopping_cb = keras.callbacks.EarlyStopping(patience=10, restore_best_weights = True)"
   ]
  },
  {
   "cell_type": "code",
   "execution_count": 34,
   "id": "508286ed-a576-4a4b-96b1-7f4219665bb4",
   "metadata": {},
   "outputs": [
    {
     "name": "stdout",
     "output_type": "stream",
     "text": [
      "Epoch 1/2\n",
      "1719/1719 [==============================] - 2s 1ms/step - loss: 0.3131 - accuracy: 0.8889\n",
      "WARNING:tensorflow:Can save best model only with val_loss available, skipping.\n",
      "WARNING:tensorflow:Early stopping conditioned on metric `val_loss` which is not available. Available metrics are: loss,accuracy\n",
      "Epoch 2/2\n",
      "1719/1719 [==============================] - 2s 1ms/step - loss: 0.3062 - accuracy: 0.8910\n",
      "WARNING:tensorflow:Can save best model only with val_loss available, skipping.\n",
      "WARNING:tensorflow:Early stopping conditioned on metric `val_loss` which is not available. Available metrics are: loss,accuracy\n"
     ]
    }
   ],
   "source": [
    "history = model.fit(x_train, y_train, epochs = 2, callbacks = [checkpoint_cb, early_stopping_cb])"
   ]
  },
  {
   "cell_type": "markdown",
   "id": "de321945-0457-4749-899e-adad2257e0c8",
   "metadata": {},
   "source": [
    "## Writing your own callback\n",
    "\n",
    "Basically we are creating our own callback by overwritting specific function of the Callback class. \n",
    "\n",
    "Template Methods are: \n",
    "\n",
    "1. ```on_epoch_end()```\n",
    "2. ```on_train_begin()```\n",
    "3. ```on_batch_end()```\n",
    "4. ..."
   ]
  },
  {
   "cell_type": "code",
   "execution_count": 38,
   "id": "0a8c187a-3bb1-4a80-89c7-06c73c45a94d",
   "metadata": {},
   "outputs": [],
   "source": [
    "class MyCallback(keras.callbacks.Callback):\n",
    "    def on_epoch_end(self, epoch, logs):\n",
    "        print(\"Epoch finished!\")"
   ]
  },
  {
   "cell_type": "code",
   "execution_count": 39,
   "id": "0af691c9-3650-40d8-88c5-5f38277bc79d",
   "metadata": {},
   "outputs": [
    {
     "name": "stdout",
     "output_type": "stream",
     "text": [
      "Epoch 1/2\n",
      "1719/1719 [==============================] - 2s 1ms/step - loss: 0.2927 - accuracy: 0.8960\n",
      "Epoch finished!\n",
      "Epoch 2/2\n",
      "1719/1719 [==============================] - 2s 1ms/step - loss: 0.2875 - accuracy: 0.8962\n",
      "Epoch finished!\n"
     ]
    }
   ],
   "source": [
    "history = model.fit(x_train, y_train, epochs = 2, callbacks = [MyCallback()])"
   ]
  },
  {
   "cell_type": "code",
   "execution_count": null,
   "id": "4d4b148b-1aa1-4ad2-b2b8-05152291e77c",
   "metadata": {},
   "outputs": [],
   "source": []
  }
 ],
 "metadata": {
  "kernelspec": {
   "display_name": "Python 3 (ipykernel)",
   "language": "python",
   "name": "python3"
  },
  "language_info": {
   "codemirror_mode": {
    "name": "ipython",
    "version": 3
   },
   "file_extension": ".py",
   "mimetype": "text/x-python",
   "name": "python",
   "nbconvert_exporter": "python",
   "pygments_lexer": "ipython3",
   "version": "3.8.0"
  }
 },
 "nbformat": 4,
 "nbformat_minor": 5
}
