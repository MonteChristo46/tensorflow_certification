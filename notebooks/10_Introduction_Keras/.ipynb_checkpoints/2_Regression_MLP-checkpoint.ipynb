{
 "cells": [
  {
   "cell_type": "markdown",
   "id": "38352366-8950-4dbc-b3aa-d2ee4407a3f4",
   "metadata": {},
   "source": [
    "# Regression MLP"
   ]
  },
  {
   "cell_type": "code",
   "execution_count": 1,
   "id": "b0f0a7da-fcee-4960-8083-7b57372b8f37",
   "metadata": {},
   "outputs": [],
   "source": [
    "import tensorflow as tf\n",
    "from tensorflow import keras\n",
    "import pandas as pd\n",
    "import numpy as np\n",
    "import matplotlib.pyplot as plt"
   ]
  },
  {
   "cell_type": "code",
   "execution_count": 2,
   "id": "827e731d-952a-4e19-a0a6-0c037186e7bd",
   "metadata": {},
   "outputs": [],
   "source": [
    "from sklearn.datasets import fetch_california_housing\n",
    "from sklearn.model_selection import train_test_split\n",
    "from sklearn.preprocessing import StandardScaler"
   ]
  },
  {
   "cell_type": "markdown",
   "id": "2c39d9dd-0fc0-4c8d-989d-e51f4c2cda35",
   "metadata": {},
   "source": [
    "# Fetching the data"
   ]
  },
  {
   "cell_type": "code",
   "execution_count": 3,
   "id": "f7fa521e-9699-4521-b8a4-a75c04222912",
   "metadata": {},
   "outputs": [],
   "source": [
    "housing = fetch_california_housing()"
   ]
  },
  {
   "cell_type": "code",
   "execution_count": 4,
   "id": "8fcc6cd4-38cd-428b-a225-adf866c1f4cf",
   "metadata": {},
   "outputs": [
    {
     "data": {
      "text/plain": [
       "(20640, 8)"
      ]
     },
     "execution_count": 4,
     "metadata": {},
     "output_type": "execute_result"
    }
   ],
   "source": [
    "housing.data.shape"
   ]
  },
  {
   "cell_type": "code",
   "execution_count": null,
   "id": "2c79a758-323c-4ab7-96c9-938fcad85141",
   "metadata": {},
   "outputs": [],
   "source": []
  },
  {
   "cell_type": "code",
   "execution_count": 5,
   "id": "a08f727e-0ac5-4720-bf86-26dabd04c924",
   "metadata": {},
   "outputs": [
    {
     "data": {
      "text/plain": [
       "['MedInc',\n",
       " 'HouseAge',\n",
       " 'AveRooms',\n",
       " 'AveBedrms',\n",
       " 'Population',\n",
       " 'AveOccup',\n",
       " 'Latitude',\n",
       " 'Longitude']"
      ]
     },
     "execution_count": 5,
     "metadata": {},
     "output_type": "execute_result"
    }
   ],
   "source": [
    "housing['feature_names']"
   ]
  },
  {
   "cell_type": "code",
   "execution_count": 6,
   "id": "8db46525-cbd8-4d0b-9508-0071428ba688",
   "metadata": {},
   "outputs": [
    {
     "data": {
      "text/plain": [
       "array([   8.3252    ,   41.        ,    6.98412698,    1.02380952,\n",
       "        322.        ,    2.55555556,   37.88      , -122.23      ])"
      ]
     },
     "execution_count": 6,
     "metadata": {},
     "output_type": "execute_result"
    }
   ],
   "source": [
    "housing[\"data\"][0]"
   ]
  },
  {
   "cell_type": "code",
   "execution_count": 7,
   "id": "5c3fb508-67c3-4b6a-a32a-ee57c7b1e1ff",
   "metadata": {},
   "outputs": [
    {
     "data": {
      "text/plain": [
       "array([4.526, 3.585, 3.521, ..., 0.923, 0.847, 0.894])"
      ]
     },
     "execution_count": 7,
     "metadata": {},
     "output_type": "execute_result"
    }
   ],
   "source": [
    "housing[\"target\"]"
   ]
  },
  {
   "cell_type": "markdown",
   "id": "b784f1c6-355e-4bc3-b890-3fc103532cc4",
   "metadata": {},
   "source": [
    "## Train, Test & Validation set"
   ]
  },
  {
   "cell_type": "code",
   "execution_count": 8,
   "id": "ae564460-c703-49b6-a946-4de688c91dc2",
   "metadata": {},
   "outputs": [],
   "source": [
    "x_train, x_test, y_train, y_test = train_test_split(housing.data, housing.target, test_size = 0.25)"
   ]
  },
  {
   "cell_type": "code",
   "execution_count": 9,
   "id": "7eacc0f1-af1c-4e4a-a704-5aeeaba08d71",
   "metadata": {},
   "outputs": [],
   "source": [
    "x_valid, y_valid, x_train, y_train = x_train[:5000], y_train[:5000], x_train[5000:], y_train[5000:]"
   ]
  },
  {
   "cell_type": "markdown",
   "id": "5144f1ba-23cb-4630-bae0-2690ba77fcc4",
   "metadata": {},
   "source": [
    "## Scaling Data\n",
    "Scaling means that we gonna normalize the range of variables (feature space). For e.g. that all values are between 0-1\n",
    "\n",
    "Scaling is in some machine learning tasks essentiel: \n",
    "\n",
    "__1. When calculating distances__ (e.g. Euclidian Distance)  \n",
    "__2. When using Gradient Descent Optimizers__ (Without scaling optimizer may doesn't find optimum and optimization takes much longer..)  \n",
    "__3. When Regularization is used__"
   ]
  },
  {
   "cell_type": "code",
   "execution_count": 10,
   "id": "2742fa04-a2c2-4bac-9064-ee8089a3fe37",
   "metadata": {},
   "outputs": [],
   "source": [
    "scaler = StandardScaler()\n",
    "x_train = scaler.fit_transform(x_train)\n",
    "x_test = scaler.transform(x_test)\n",
    "x_valid = scaler.transform(x_valid)"
   ]
  },
  {
   "cell_type": "markdown",
   "id": "fdd1172e-12e7-4628-a07b-f508316d5535",
   "metadata": {},
   "source": [
    "## Building the model"
   ]
  },
  {
   "cell_type": "code",
   "execution_count": 11,
   "id": "b94cdec3-acd1-4f19-9ae0-10c1b687cb89",
   "metadata": {},
   "outputs": [],
   "source": [
    "model = keras.models.Sequential([\n",
    "    keras.layers.Dense(30, activation = keras.activations.relu, input_shape = x_train.shape[1:]),\n",
    "    keras.layers.Dense(1)                                                                                                                                                \n",
    "])"
   ]
  },
  {
   "cell_type": "markdown",
   "id": "6eb3c51e-c8df-4da7-853e-ffa259ab46dc",
   "metadata": {},
   "source": [
    "## Compiling the model"
   ]
  },
  {
   "cell_type": "code",
   "execution_count": 12,
   "id": "888fef65-be18-45be-bf8f-ed949b2f9655",
   "metadata": {},
   "outputs": [],
   "source": [
    "model.compile(optimizer = \"sgd\", loss = keras.losses.mean_squared_error)"
   ]
  },
  {
   "cell_type": "markdown",
   "id": "3deea903-a17a-4ae2-9f81-aaecd55a4250",
   "metadata": {},
   "source": [
    "## Training the model"
   ]
  },
  {
   "cell_type": "code",
   "execution_count": 13,
   "id": "3ce5bc41-47ee-4a34-b58c-56a3dc74bddf",
   "metadata": {},
   "outputs": [
    {
     "name": "stdout",
     "output_type": "stream",
     "text": [
      "Epoch 1/30\n",
      "328/328 [==============================] - 0s 908us/step - loss: 0.9543 - val_loss: 0.5850\n",
      "Epoch 2/30\n",
      "328/328 [==============================] - 0s 694us/step - loss: 0.6683 - val_loss: 0.5089\n",
      "Epoch 3/30\n",
      "328/328 [==============================] - 0s 688us/step - loss: 0.4948 - val_loss: 0.4916\n",
      "Epoch 4/30\n",
      "328/328 [==============================] - 0s 673us/step - loss: 0.4766 - val_loss: 0.4812\n",
      "Epoch 5/30\n",
      "328/328 [==============================] - 0s 673us/step - loss: 0.4638 - val_loss: 0.4602\n",
      "Epoch 6/30\n",
      "328/328 [==============================] - 0s 709us/step - loss: 0.4517 - val_loss: 0.4534\n",
      "Epoch 7/30\n",
      "328/328 [==============================] - 0s 731us/step - loss: 0.4421 - val_loss: 0.4443\n",
      "Epoch 8/30\n",
      "328/328 [==============================] - 0s 706us/step - loss: 0.4342 - val_loss: 0.4378\n",
      "Epoch 9/30\n",
      "328/328 [==============================] - 0s 694us/step - loss: 0.4251 - val_loss: 0.4412\n",
      "Epoch 10/30\n",
      "328/328 [==============================] - 0s 645us/step - loss: 0.4168 - val_loss: 0.4527\n",
      "Epoch 11/30\n",
      "328/328 [==============================] - 0s 676us/step - loss: 0.4126 - val_loss: 0.4240\n",
      "Epoch 12/30\n",
      "328/328 [==============================] - 0s 654us/step - loss: 0.4116 - val_loss: 0.4281\n",
      "Epoch 13/30\n",
      "328/328 [==============================] - 0s 682us/step - loss: 0.4047 - val_loss: 0.4292\n",
      "Epoch 14/30\n",
      "328/328 [==============================] - 0s 657us/step - loss: 0.4053 - val_loss: 0.4194\n",
      "Epoch 15/30\n",
      "328/328 [==============================] - 0s 654us/step - loss: 0.3951 - val_loss: 0.4133\n",
      "Epoch 16/30\n",
      "328/328 [==============================] - 0s 661us/step - loss: 0.3937 - val_loss: 0.4030\n",
      "Epoch 17/30\n",
      "328/328 [==============================] - 0s 636us/step - loss: 0.3919 - val_loss: 0.4170\n",
      "Epoch 18/30\n",
      "328/328 [==============================] - 0s 676us/step - loss: 0.3892 - val_loss: 0.4011\n",
      "Epoch 19/30\n",
      "328/328 [==============================] - 0s 670us/step - loss: 0.3844 - val_loss: 0.3989\n",
      "Epoch 20/30\n",
      "328/328 [==============================] - 0s 722us/step - loss: 0.3823 - val_loss: 0.3977\n",
      "Epoch 21/30\n",
      "328/328 [==============================] - 0s 694us/step - loss: 0.3944 - val_loss: 0.3953\n",
      "Epoch 22/30\n",
      "328/328 [==============================] - 0s 700us/step - loss: 0.3884 - val_loss: 0.3929\n",
      "Epoch 23/30\n",
      "328/328 [==============================] - 0s 700us/step - loss: 0.3772 - val_loss: 0.4101\n",
      "Epoch 24/30\n",
      "328/328 [==============================] - 0s 694us/step - loss: 0.3784 - val_loss: 0.3919\n",
      "Epoch 25/30\n",
      "328/328 [==============================] - 0s 716us/step - loss: 0.3767 - val_loss: 0.3928\n",
      "Epoch 26/30\n",
      "328/328 [==============================] - 0s 694us/step - loss: 0.3717 - val_loss: 0.3913\n",
      "Epoch 27/30\n",
      "328/328 [==============================] - 0s 697us/step - loss: 0.3704 - val_loss: 0.3954\n",
      "Epoch 28/30\n",
      "328/328 [==============================] - 0s 685us/step - loss: 0.3686 - val_loss: 0.3973\n",
      "Epoch 29/30\n",
      "328/328 [==============================] - 0s 688us/step - loss: 0.3713 - val_loss: 0.3829\n",
      "Epoch 30/30\n",
      "328/328 [==============================] - 0s 709us/step - loss: 0.3662 - val_loss: 0.3896\n"
     ]
    }
   ],
   "source": [
    "history = model.fit(x_train, y_train, epochs=30, validation_data=(x_valid, y_valid))"
   ]
  },
  {
   "cell_type": "markdown",
   "id": "fd2d5b32-15eb-49ec-8543-dcc44b2f6cb6",
   "metadata": {},
   "source": [
    "## Evaluation"
   ]
  },
  {
   "cell_type": "code",
   "execution_count": 14,
   "id": "9bf5290a-a8ca-40cc-abeb-836b0f7f5f5b",
   "metadata": {},
   "outputs": [
    {
     "name": "stdout",
     "output_type": "stream",
     "text": [
      "162/162 [==============================] - 0s 435us/step - loss: 0.3635\n"
     ]
    }
   ],
   "source": [
    "mse_test = model.evaluate(x_test, y_test)"
   ]
  },
  {
   "cell_type": "markdown",
   "id": "c5eb7b4b-f4d7-46fd-a6d7-861bb126283e",
   "metadata": {},
   "source": [
    "## Making a prediction"
   ]
  },
  {
   "cell_type": "code",
   "execution_count": 15,
   "id": "b24e1d18-ea37-4101-823a-aff1c992f24a",
   "metadata": {},
   "outputs": [
    {
     "data": {
      "text/plain": [
       "array([[1.3421957],\n",
       "       [4.241539 ],\n",
       "       [1.1989567]], dtype=float32)"
      ]
     },
     "execution_count": 15,
     "metadata": {},
     "output_type": "execute_result"
    }
   ],
   "source": [
    "model.predict(x_test[:3])"
   ]
  },
  {
   "cell_type": "markdown",
   "id": "fac44bc6-2c89-4e5a-b24b-7ae4333a71af",
   "metadata": {},
   "source": [
    "## Model summary"
   ]
  },
  {
   "cell_type": "code",
   "execution_count": 16,
   "id": "3a8f2125-939e-4183-a77b-227c98c21b07",
   "metadata": {},
   "outputs": [],
   "source": [
    "def plt_history(history: \"history\"):\n",
    "    df = pd.DataFrame(history.history)\n",
    "    df.plot(figsize = (8,5))\n",
    "    plt.grid(True)\n",
    "    plt.gca().set_ylim(0,1)"
   ]
  },
  {
   "cell_type": "code",
   "execution_count": 17,
   "id": "6ad6c737-fdc1-4c1c-b326-57cf547891e5",
   "metadata": {},
   "outputs": [
    {
     "data": {
      "image/png": "[encoded data removed]",
      "text/plain": [
       "<Figure size 576x360 with 1 Axes>"
      ]
     },
     "metadata": {
      "needs_background": "light"
     },
     "output_type": "display_data"
    }
   ],
   "source": [
    "plt_history(history)"
   ]
  },
  {
   "cell_type": "code",
   "execution_count": 18,
   "id": "49b8d815-bd56-47ec-91df-3cd22c601e06",
   "metadata": {},
   "outputs": [
    {
     "name": "stdout",
     "output_type": "stream",
     "text": [
      "Model: \"sequential\"\n",
      "_________________________________________________________________\n",
      "Layer (type)                 Output Shape              Param #   \n",
      "=================================================================\n",
      "dense (Dense)                (None, 30)                270       \n",
      "_________________________________________________________________\n",
      "dense_1 (Dense)              (None, 1)                 31        \n",
      "=================================================================\n",
      "Total params: 301\n",
      "Trainable params: 301\n",
      "Non-trainable params: 0\n",
      "_________________________________________________________________\n"
     ]
    }
   ],
   "source": [
    "model.summary()"
   ]
  },
  {
   "cell_type": "code",
   "execution_count": 19,
   "id": "b9120bc5-0e9b-4afc-8a41-a7b162b56e82",
   "metadata": {},
   "outputs": [
    {
     "data": {
      "text/plain": [
       "{'verbose': 1, 'epochs': 30, 'steps': 328}"
      ]
     },
     "execution_count": 19,
     "metadata": {},
     "output_type": "execute_result"
    }
   ],
   "source": [
    "history.params"
   ]
  },
  {
   "cell_type": "code",
   "execution_count": null,
   "id": "c413b2f3-0f14-4ba4-af2a-35cfc7e78019",
   "metadata": {},
   "outputs": [],
   "source": []
  }
 ],
 "metadata": {
  "kernelspec": {
   "display_name": "Python 3 (ipykernel)",
   "language": "python",
   "name": "python3"
  },
  "language_info": {
   "codemirror_mode": {
    "name": "ipython",
    "version": 3
   },
   "file_extension": ".py",
   "mimetype": "text/x-python",
   "name": "python",
   "nbconvert_exporter": "python",
   "pygments_lexer": "ipython3",
   "version": "3.7.0"
  }
 },
 "nbformat": 4,
 "nbformat_minor": 5
}
