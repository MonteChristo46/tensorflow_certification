{
 "cells": [
  {
   "cell_type": "markdown",
   "id": "a50ea577-1a92-4392-bb49-5e9e084148b0",
   "metadata": {},
   "source": [
    "# The sequential API"
   ]
  },
  {
   "cell_type": "code",
   "execution_count": 68,
   "id": "9831b304-4298-4f08-90e7-fd5cabf98a97",
   "metadata": {},
   "outputs": [],
   "source": [
    "import tensorflow as tf\n",
    "from tensorflow import keras\n",
    "import pandas as pd\n",
    "import numpy as np\n",
    "import matplotlib.pyplot as plt"
   ]
  },
  {
   "cell_type": "code",
   "execution_count": 50,
   "id": "c18f05ba-0036-4b9d-b242-4a44db0b4105",
   "metadata": {},
   "outputs": [
    {
     "data": {
      "text/plain": [
       "'2.6.0'"
      ]
     },
     "execution_count": 50,
     "metadata": {},
     "output_type": "execute_result"
    }
   ],
   "source": [
    "tf.__version__"
   ]
  },
  {
   "cell_type": "code",
   "execution_count": 51,
   "id": "e0a90309-b1a8-4acb-adda-efd756c64a90",
   "metadata": {},
   "outputs": [
    {
     "data": {
      "text/plain": [
       "'2.6.0'"
      ]
     },
     "execution_count": 51,
     "metadata": {},
     "output_type": "execute_result"
    }
   ],
   "source": [
    "keras.__version__"
   ]
  },
  {
   "cell_type": "markdown",
   "id": "e449a4d9-3e71-4378-bb23-8ab265a3ac3d",
   "metadata": {},
   "source": [
    "## Loading the dataset"
   ]
  },
  {
   "cell_type": "code",
   "execution_count": 52,
   "id": "7187d1b0-be21-4ff3-ae3f-058630edfc48",
   "metadata": {},
   "outputs": [],
   "source": [
    "fashion_mnist = keras.datasets.fashion_mnist"
   ]
  },
  {
   "cell_type": "code",
   "execution_count": 53,
   "id": "d59135ee-f8ea-43cf-839e-113cc43e129a",
   "metadata": {},
   "outputs": [],
   "source": [
    "## Validation Dataset is missing"
   ]
  },
  {
   "cell_type": "code",
   "execution_count": 54,
   "id": "cc82825e-3b09-4550-aa22-3a2d0b970d06",
   "metadata": {},
   "outputs": [],
   "source": [
    "(x_train, y_train), (x_test, y_test) = fashion_mnist.load_data()"
   ]
  },
  {
   "cell_type": "code",
   "execution_count": 55,
   "id": "9da67b8b-ce9f-4b66-825e-1c0192cf326f",
   "metadata": {},
   "outputs": [],
   "source": [
    "x_valid, x_train = x_train[:5000], x_train[5000:]"
   ]
  },
  {
   "cell_type": "code",
   "execution_count": 56,
   "id": "4d3dba4a-f8c1-494b-a0b7-736c1992da73",
   "metadata": {},
   "outputs": [],
   "source": [
    "# Creating the validation dataset from the training data. We use 5000 the rest will be used for training. "
   ]
  },
  {
   "cell_type": "code",
   "execution_count": 57,
   "id": "6410485a-05bb-4680-afb8-a653608b6915",
   "metadata": {},
   "outputs": [],
   "source": [
    "y_valid, y_train = y_train[:5000], y_train[5000:]"
   ]
  },
  {
   "cell_type": "code",
   "execution_count": 58,
   "id": "d101fd8d-3dc5-499d-a5c2-e6319149435f",
   "metadata": {},
   "outputs": [],
   "source": [
    "## We should scale our data because we're gonna use Gradient Descent."
   ]
  },
  {
   "cell_type": "markdown",
   "id": "8a9f8683-bca0-433b-9f6e-61b097288f1e",
   "metadata": {},
   "source": [
    "```\n",
    "Gradient Descent Based Algorithms\n",
    "If an algorithm uses gradient descent, then the difference in ranges of features will cause different step sizes for each feature. To ensure that the gradient descent moves smoothly towards the minima and that the steps for gradient descent are updated at the same rate for all the features, we scale the data before feeding it to the model. Having features on a similar scale will help the gradient descent converge more quickly towards the minima.\n",
    "\n",
    "Specifically, in the case of Neural Networks Algorithms, feature scaling benefits optimization by:\n",
    "\n",
    "It makes the training faster\n",
    "It prevents the optimization from getting stuck in local optima\n",
    "It gives a better error surface shape\n",
    "Weight decay and Bayes optimization can be done more conveniently\n",
    "```\n"
   ]
  },
  {
   "cell_type": "code",
   "execution_count": 59,
   "id": "738b07a6-7ae7-453a-bafe-38e463c11eeb",
   "metadata": {},
   "outputs": [],
   "source": [
    "x_valid, x_train, x_test = x_valid/255, x_train/255, x_test/255"
   ]
  },
  {
   "cell_type": "code",
   "execution_count": 60,
   "id": "7f8769c9-01e9-4aee-991d-9944d0f57f8e",
   "metadata": {},
   "outputs": [],
   "source": [
    "# Label-Map for Y"
   ]
  },
  {
   "cell_type": "code",
   "execution_count": 61,
   "id": "850b426b-a3b0-463e-8dd0-6f6fef603b1f",
   "metadata": {},
   "outputs": [],
   "source": [
    "class_names = [\"T-shirt/top\", \"Trouser\", \"Pullover\", \"Dress\", \"Coat\", \"Sandal\", \"Shirt\", \"Sneaker\", \"Bag\", \"Ankle boot\"]"
   ]
  },
  {
   "cell_type": "code",
   "execution_count": 62,
   "id": "f60280f6-0fc8-488c-96cf-e762ece32c3d",
   "metadata": {
    "jupyter": {
     "source_hidden": true
    }
   },
   "outputs": [
    {
     "data": {
      "text/plain": [
       "'Coat'"
      ]
     },
     "execution_count": 62,
     "metadata": {},
     "output_type": "execute_result"
    }
   ],
   "source": [
    "class_names[y_train[9]]"
   ]
  },
  {
   "cell_type": "markdown",
   "id": "11a2029c-8b4c-41fc-aca7-9a8199f10d78",
   "metadata": {},
   "source": [
    "## Creating the sequential model\n",
    "\n",
    "There are two ways to create a sequential model.  \n",
    "    1. With the ```add()``` method  \n",
    "    2. By providing a list of layers to the model"
   ]
  },
  {
   "cell_type": "code",
   "execution_count": 63,
   "id": "57befb39-04bc-450e-b7c3-5eabcf3115c6",
   "metadata": {},
   "outputs": [],
   "source": [
    "model = keras.models.Sequential([\n",
    "    keras.layers.Flatten(input_shape=[28,28]),\n",
    "    keras.layers.Dense(300, activation = keras.activations.relu),\n",
    "    keras.layers.Dense(100, activation = keras.activations.relu),\n",
    "    keras.layers.Dense(10, activation = keras.activations.softmax)\n",
    "])"
   ]
  },
  {
   "cell_type": "markdown",
   "id": "f2cab807-cff6-48d9-a95b-c6981aa6cb98",
   "metadata": {},
   "source": [
    "### Model Summary"
   ]
  },
  {
   "cell_type": "code",
   "execution_count": 64,
   "id": "2113c710-e9d8-464e-95b5-887aec981698",
   "metadata": {},
   "outputs": [
    {
     "name": "stdout",
     "output_type": "stream",
     "text": [
      "Model: \"sequential_4\"\n",
      "_________________________________________________________________\n",
      "Layer (type)                 Output Shape              Param #   \n",
      "=================================================================\n",
      "flatten_6 (Flatten)          (None, 784)               0         \n",
      "_________________________________________________________________\n",
      "dense_13 (Dense)             (None, 300)               235500    \n",
      "_________________________________________________________________\n",
      "dense_14 (Dense)             (None, 100)               30100     \n",
      "_________________________________________________________________\n",
      "dense_15 (Dense)             (None, 10)                1010      \n",
      "=================================================================\n",
      "Total params: 266,610\n",
      "Trainable params: 266,610\n",
      "Non-trainable params: 0\n",
      "_________________________________________________________________\n"
     ]
    }
   ],
   "source": [
    "model.summary()"
   ]
  },
  {
   "cell_type": "code",
   "execution_count": 65,
   "id": "bf32449c-2599-4a99-a77f-dcf7c8fa9ebc",
   "metadata": {},
   "outputs": [
    {
     "data": {
      "text/plain": [
       "[array([[ 0.02001284,  0.01778483,  0.04943112, ...,  0.00731779,\n",
       "          0.03486599,  0.01256175],\n",
       "        [-0.03259066, -0.0238338 ,  0.0102523 , ..., -0.0549211 ,\n",
       "          0.0108564 ,  0.06925394],\n",
       "        [-0.04067121,  0.05877158,  0.0081384 , ..., -0.0660229 ,\n",
       "         -0.02057009,  0.01253277],\n",
       "        ...,\n",
       "        [-0.06404612,  0.04192673, -0.03860871, ..., -0.03037776,\n",
       "          0.01528375,  0.04436179],\n",
       "        [-0.06139128, -0.05789433, -0.0099578 , ..., -0.00622477,\n",
       "         -0.05419588,  0.03785487],\n",
       "        [ 0.05021459, -0.05970868, -0.00679434, ...,  0.02506815,\n",
       "          0.01285583,  0.0631797 ]], dtype=float32),\n",
       " array([0., 0., 0., 0., 0., 0., 0., 0., 0., 0., 0., 0., 0., 0., 0., 0., 0.,\n",
       "        0., 0., 0., 0., 0., 0., 0., 0., 0., 0., 0., 0., 0., 0., 0., 0., 0.,\n",
       "        0., 0., 0., 0., 0., 0., 0., 0., 0., 0., 0., 0., 0., 0., 0., 0., 0.,\n",
       "        0., 0., 0., 0., 0., 0., 0., 0., 0., 0., 0., 0., 0., 0., 0., 0., 0.,\n",
       "        0., 0., 0., 0., 0., 0., 0., 0., 0., 0., 0., 0., 0., 0., 0., 0., 0.,\n",
       "        0., 0., 0., 0., 0., 0., 0., 0., 0., 0., 0., 0., 0., 0., 0., 0., 0.,\n",
       "        0., 0., 0., 0., 0., 0., 0., 0., 0., 0., 0., 0., 0., 0., 0., 0., 0.,\n",
       "        0., 0., 0., 0., 0., 0., 0., 0., 0., 0., 0., 0., 0., 0., 0., 0., 0.,\n",
       "        0., 0., 0., 0., 0., 0., 0., 0., 0., 0., 0., 0., 0., 0., 0., 0., 0.,\n",
       "        0., 0., 0., 0., 0., 0., 0., 0., 0., 0., 0., 0., 0., 0., 0., 0., 0.,\n",
       "        0., 0., 0., 0., 0., 0., 0., 0., 0., 0., 0., 0., 0., 0., 0., 0., 0.,\n",
       "        0., 0., 0., 0., 0., 0., 0., 0., 0., 0., 0., 0., 0., 0., 0., 0., 0.,\n",
       "        0., 0., 0., 0., 0., 0., 0., 0., 0., 0., 0., 0., 0., 0., 0., 0., 0.,\n",
       "        0., 0., 0., 0., 0., 0., 0., 0., 0., 0., 0., 0., 0., 0., 0., 0., 0.,\n",
       "        0., 0., 0., 0., 0., 0., 0., 0., 0., 0., 0., 0., 0., 0., 0., 0., 0.,\n",
       "        0., 0., 0., 0., 0., 0., 0., 0., 0., 0., 0., 0., 0., 0., 0., 0., 0.,\n",
       "        0., 0., 0., 0., 0., 0., 0., 0., 0., 0., 0., 0., 0., 0., 0., 0., 0.,\n",
       "        0., 0., 0., 0., 0., 0., 0., 0., 0., 0., 0.], dtype=float32)]"
      ]
     },
     "execution_count": 65,
     "metadata": {},
     "output_type": "execute_result"
    }
   ],
   "source": [
    "model.layers[1].get_weights()"
   ]
  },
  {
   "cell_type": "code",
   "execution_count": 66,
   "id": "7699d8f4-d71c-4deb-a99c-0ca0dacec6ef",
   "metadata": {},
   "outputs": [],
   "source": [
    "model.compile(loss = keras.losses.sparse_categorical_crossentropy, optimizer = keras.optimizers.SGD(learning_rate=0.01), metrics = [\"accuracy\"])"
   ]
  },
  {
   "cell_type": "code",
   "execution_count": 67,
   "id": "9788e2e7-f409-4c7d-810a-0b2629410d66",
   "metadata": {},
   "outputs": [
    {
     "name": "stdout",
     "output_type": "stream",
     "text": [
      "Epoch 1/30\n",
      "1719/1719 [==============================] - 2s 1ms/step - loss: 0.7209 - accuracy: 0.7645 - val_loss: 0.5127 - val_accuracy: 0.8304\n",
      "Epoch 2/30\n",
      "1719/1719 [==============================] - 2s 1ms/step - loss: 0.4903 - accuracy: 0.8303 - val_loss: 0.4404 - val_accuracy: 0.8498\n",
      "Epoch 3/30\n",
      "1719/1719 [==============================] - 2s 1ms/step - loss: 0.4440 - accuracy: 0.8455 - val_loss: 0.5044 - val_accuracy: 0.8064\n",
      "Epoch 4/30\n",
      "1719/1719 [==============================] - 2s 1ms/step - loss: 0.4162 - accuracy: 0.8535 - val_loss: 0.4117 - val_accuracy: 0.8566\n",
      "Epoch 5/30\n",
      "1719/1719 [==============================] - 2s 1ms/step - loss: 0.3952 - accuracy: 0.8619 - val_loss: 0.3873 - val_accuracy: 0.8682\n",
      "Epoch 6/30\n",
      "1719/1719 [==============================] - 2s 1ms/step - loss: 0.3787 - accuracy: 0.8677 - val_loss: 0.3644 - val_accuracy: 0.8756\n",
      "Epoch 7/30\n",
      "1719/1719 [==============================] - 2s 1ms/step - loss: 0.3652 - accuracy: 0.8713 - val_loss: 0.3639 - val_accuracy: 0.8728\n",
      "Epoch 8/30\n",
      "1719/1719 [==============================] - 2s 1ms/step - loss: 0.3531 - accuracy: 0.8747 - val_loss: 0.3598 - val_accuracy: 0.8736\n",
      "Epoch 9/30\n",
      "1719/1719 [==============================] - 2s 1ms/step - loss: 0.3422 - accuracy: 0.8784 - val_loss: 0.4053 - val_accuracy: 0.8548\n",
      "Epoch 10/30\n",
      "1719/1719 [==============================] - 2s 1ms/step - loss: 0.3333 - accuracy: 0.8816 - val_loss: 0.3447 - val_accuracy: 0.8762\n",
      "Epoch 11/30\n",
      "1719/1719 [==============================] - 2s 1ms/step - loss: 0.3256 - accuracy: 0.8837 - val_loss: 0.3373 - val_accuracy: 0.8840\n",
      "Epoch 12/30\n",
      "1719/1719 [==============================] - 2s 1ms/step - loss: 0.3175 - accuracy: 0.8871 - val_loss: 0.3287 - val_accuracy: 0.8790\n",
      "Epoch 13/30\n",
      "1719/1719 [==============================] - 2s 1ms/step - loss: 0.3103 - accuracy: 0.8902 - val_loss: 0.3272 - val_accuracy: 0.8826\n",
      "Epoch 14/30\n",
      "1719/1719 [==============================] - 2s 1ms/step - loss: 0.3030 - accuracy: 0.8919 - val_loss: 0.3334 - val_accuracy: 0.8792\n",
      "Epoch 15/30\n",
      "1719/1719 [==============================] - 2s 1ms/step - loss: 0.2975 - accuracy: 0.8934 - val_loss: 0.3305 - val_accuracy: 0.8776\n",
      "Epoch 16/30\n",
      "1719/1719 [==============================] - 2s 1ms/step - loss: 0.2911 - accuracy: 0.8965 - val_loss: 0.3322 - val_accuracy: 0.8804\n",
      "Epoch 17/30\n",
      "1719/1719 [==============================] - 2s 1ms/step - loss: 0.2857 - accuracy: 0.8979 - val_loss: 0.3399 - val_accuracy: 0.8780\n",
      "Epoch 18/30\n",
      "1719/1719 [==============================] - 2s 1ms/step - loss: 0.2795 - accuracy: 0.8998 - val_loss: 0.3205 - val_accuracy: 0.8832\n",
      "Epoch 19/30\n",
      "1719/1719 [==============================] - 2s 1ms/step - loss: 0.2744 - accuracy: 0.9028 - val_loss: 0.3268 - val_accuracy: 0.8848\n",
      "Epoch 20/30\n",
      "1719/1719 [==============================] - 2s 1ms/step - loss: 0.2697 - accuracy: 0.9031 - val_loss: 0.3065 - val_accuracy: 0.8880\n",
      "Epoch 21/30\n",
      "1719/1719 [==============================] - 2s 1ms/step - loss: 0.2636 - accuracy: 0.9055 - val_loss: 0.3007 - val_accuracy: 0.8926\n",
      "Epoch 22/30\n",
      "1719/1719 [==============================] - 2s 1ms/step - loss: 0.2598 - accuracy: 0.9072 - val_loss: 0.3084 - val_accuracy: 0.8872\n",
      "Epoch 23/30\n",
      "1719/1719 [==============================] - 2s 1ms/step - loss: 0.2558 - accuracy: 0.9084 - val_loss: 0.3090 - val_accuracy: 0.8920\n",
      "Epoch 24/30\n",
      "1719/1719 [==============================] - 2s 1ms/step - loss: 0.2509 - accuracy: 0.9108 - val_loss: 0.3103 - val_accuracy: 0.8840\n",
      "Epoch 25/30\n",
      "1719/1719 [==============================] - 2s 1ms/step - loss: 0.2462 - accuracy: 0.9117 - val_loss: 0.3028 - val_accuracy: 0.8924\n",
      "Epoch 26/30\n",
      "1719/1719 [==============================] - 2s 1ms/step - loss: 0.2426 - accuracy: 0.9125 - val_loss: 0.2953 - val_accuracy: 0.8944\n",
      "Epoch 27/30\n",
      "1719/1719 [==============================] - 2s 1ms/step - loss: 0.2390 - accuracy: 0.9146 - val_loss: 0.2964 - val_accuracy: 0.8940\n",
      "Epoch 28/30\n",
      "1719/1719 [==============================] - 2s 1ms/step - loss: 0.2340 - accuracy: 0.9156 - val_loss: 0.2962 - val_accuracy: 0.8920\n",
      "Epoch 29/30\n",
      "1719/1719 [==============================] - 2s 1ms/step - loss: 0.2314 - accuracy: 0.9163 - val_loss: 0.2933 - val_accuracy: 0.8944\n",
      "Epoch 30/30\n",
      "1719/1719 [==============================] - 2s 1ms/step - loss: 0.2276 - accuracy: 0.9178 - val_loss: 0.2914 - val_accuracy: 0.8954\n"
     ]
    }
   ],
   "source": [
    "history = model.fit(x_train, y_train, epochs = 30, validation_data = (x_valid, y_valid))"
   ]
  },
  {
   "cell_type": "markdown",
   "id": "5c90504a-81e5-47ee-a978-866755a0df8c",
   "metadata": {},
   "source": [
    "### The history object\n",
    "\n",
    "The fit() method returns an history object, containing all the metric of the training: \n",
    "\n",
    "    1. history.epoch --> The epoch\n",
    "    2. history.params -> The training parameters\n",
    "    3. history.history -> a dictionary containing the evaluation measures"
   ]
  },
  {
   "cell_type": "code",
   "execution_count": 79,
   "id": "56d45452-7a03-4241-b3f7-aeacf2e2c457",
   "metadata": {},
   "outputs": [
    {
     "data": {
      "text/plain": [
       "[0, 1, 2, 3, 4]"
      ]
     },
     "execution_count": 79,
     "metadata": {},
     "output_type": "execute_result"
    }
   ],
   "source": [
    "history.epoch[:5]"
   ]
  },
  {
   "cell_type": "code",
   "execution_count": 80,
   "id": "07314b1e-88ba-4121-b6c2-ec2e110af4c3",
   "metadata": {},
   "outputs": [
    {
     "data": {
      "text/plain": [
       "{'verbose': 1, 'epochs': 30, 'steps': 1719}"
      ]
     },
     "execution_count": 80,
     "metadata": {},
     "output_type": "execute_result"
    }
   ],
   "source": [
    "history.params"
   ]
  },
  {
   "cell_type": "code",
   "execution_count": 69,
   "id": "316b3c31-ffa8-4c0b-9e59-1d7fe9b081f8",
   "metadata": {},
   "outputs": [],
   "source": [
    "df = pd.DataFrame(history.history)"
   ]
  },
  {
   "cell_type": "code",
   "execution_count": 84,
   "id": "82fdb416-b244-432f-bd35-af79f92ed219",
   "metadata": {},
   "outputs": [],
   "source": [
    "def plt_history(history: \"history\"):\n",
    "    df.plot(figsize = (8,5))\n",
    "    plt.grid(True)\n",
    "    plt.gca().set_ylim(0,1)"
   ]
  },
  {
   "cell_type": "code",
   "execution_count": 85,
   "id": "eee4c6b3-be6a-4443-a067-e48e1df603dd",
   "metadata": {},
   "outputs": [
    {
     "data": {
      "image/png": "[encoded data removed]",
      "text/plain": [
       "<Figure size 576x360 with 1 Axes>"
      ]
     },
     "metadata": {
      "needs_background": "light"
     },
     "output_type": "display_data"
    }
   ],
   "source": [
    "plt_history(df)"
   ]
  },
  {
   "cell_type": "markdown",
   "id": "9e0fdb69-81f8-4e04-ade7-98d3130dbfcc",
   "metadata": {},
   "source": [
    "## Using the model to make predictions"
   ]
  },
  {
   "cell_type": "code",
   "execution_count": 87,
   "id": "ed961166-5cd7-4158-ab10-d37f5adfc7a3",
   "metadata": {},
   "outputs": [],
   "source": [
    "x_new = x_test[:3]"
   ]
  },
  {
   "cell_type": "code",
   "execution_count": 89,
   "id": "28b40c4b-fd65-477b-8b15-67e3c02e4e20",
   "metadata": {},
   "outputs": [],
   "source": [
    "y_proba = model.predict(x_new)"
   ]
  },
  {
   "cell_type": "code",
   "execution_count": 90,
   "id": "7c06a92d-e3ed-45c9-b651-dae2b0527a5a",
   "metadata": {},
   "outputs": [
    {
     "data": {
      "text/plain": [
       "array([[0.  , 0.  , 0.  , 0.  , 0.  , 0.  , 0.  , 0.01, 0.  , 0.98],\n",
       "       [0.  , 0.  , 1.  , 0.  , 0.  , 0.  , 0.  , 0.  , 0.  , 0.  ],\n",
       "       [0.  , 1.  , 0.  , 0.  , 0.  , 0.  , 0.  , 0.  , 0.  , 0.  ]],\n",
       "      dtype=float32)"
      ]
     },
     "execution_count": 90,
     "metadata": {},
     "output_type": "execute_result"
    }
   ],
   "source": [
    "y_proba.round(2)"
   ]
  },
  {
   "cell_type": "code",
   "execution_count": null,
   "id": "b4f48ff7-870a-4eb4-bf82-36bf3b36dba0",
   "metadata": {},
   "outputs": [],
   "source": [
    "np.array(classes)[]"
   ]
  }
 ],
 "metadata": {
  "kernelspec": {
   "display_name": "Python 3 (ipykernel)",
   "language": "python",
   "name": "python3"
  },
  "language_info": {
   "codemirror_mode": {
    "name": "ipython",
    "version": 3
   },
   "file_extension": ".py",
   "mimetype": "text/x-python",
   "name": "python",
   "nbconvert_exporter": "python",
   "pygments_lexer": "ipython3",
   "version": "3.7.0"
  }
 },
 "nbformat": 4,
 "nbformat_minor": 5
}
