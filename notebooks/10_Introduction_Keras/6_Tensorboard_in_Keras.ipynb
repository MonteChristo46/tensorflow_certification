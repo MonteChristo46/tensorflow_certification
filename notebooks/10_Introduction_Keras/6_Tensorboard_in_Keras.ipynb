{
 "cells": [
  {
   "cell_type": "markdown",
   "id": "4e752fb8-578c-4cb9-8446-1239a32cf5c2",
   "metadata": {},
   "source": [
    "# Using TensorBoard for Visualization"
   ]
  },
  {
   "cell_type": "code",
   "execution_count": 9,
   "id": "10759351-d35d-4776-82aa-b13bcc1a3c23",
   "metadata": {},
   "outputs": [],
   "source": [
    "import os\n",
    "import tensorflow as tf\n",
    "from tensorflow import keras\n",
    "import pandas as pd\n",
    "import numpy as np\n",
    "import matplotlib.pyplot as plt\n",
    "import time"
   ]
  },
  {
   "cell_type": "markdown",
   "id": "bddbbabd-fdc8-4e66-bcdf-7b0eaf388b76",
   "metadata": {},
   "source": [
    "## Helper function for returing current log dir"
   ]
  },
  {
   "cell_type": "code",
   "execution_count": 10,
   "id": "34ca741f-16d4-4817-a2e2-510d9a92b962",
   "metadata": {
    "tags": []
   },
   "outputs": [],
   "source": [
    "root_logdir = os.path.join(os.curdir, \"my_logs\")\n",
    "\n",
    "def get_run_logdir():\n",
    "    run_id = time.strftime(\"run_%Y_%m_%d-%H_%M_%S\")\n",
    "    return os.path.join(root_logdir, run_id)"
   ]
  },
  {
   "cell_type": "markdown",
   "id": "8b53c4d4-4075-42af-82c5-4c6554fd2781",
   "metadata": {},
   "source": [
    "## Dataset & Model"
   ]
  },
  {
   "cell_type": "code",
   "execution_count": 11,
   "id": "ceb0bced-f8fe-49bd-8719-572e43fe4908",
   "metadata": {},
   "outputs": [],
   "source": [
    "fashion_mnist = keras.datasets.fashion_mnist"
   ]
  },
  {
   "cell_type": "code",
   "execution_count": 12,
   "id": "e47f21b8-5299-4acb-8817-6f530bab3dbc",
   "metadata": {},
   "outputs": [],
   "source": [
    "## Validation Dataset is missing"
   ]
  },
  {
   "cell_type": "code",
   "execution_count": 13,
   "id": "382f6978-77d9-40ce-9ff2-bd4b889cc7b5",
   "metadata": {},
   "outputs": [],
   "source": [
    "(x_train, y_train), (x_test, y_test) = fashion_mnist.load_data()"
   ]
  },
  {
   "cell_type": "code",
   "execution_count": 14,
   "id": "704a09d0-462c-4b6d-85f2-baf500e972be",
   "metadata": {},
   "outputs": [],
   "source": [
    "x_valid, x_train = x_train[:5000], x_train[5000:]"
   ]
  },
  {
   "cell_type": "code",
   "execution_count": 15,
   "id": "2fe9049b-358c-4e4f-b5bb-6f34fc5832d4",
   "metadata": {},
   "outputs": [],
   "source": [
    "# Creating the validation dataset from the training data. We use 5000 the rest will be used for training. "
   ]
  },
  {
   "cell_type": "code",
   "execution_count": 16,
   "id": "40d8ce43-a886-4334-aec8-a21dff6d7370",
   "metadata": {},
   "outputs": [],
   "source": [
    "y_valid, y_train = y_train[:5000], y_train[5000:]"
   ]
  },
  {
   "cell_type": "code",
   "execution_count": 17,
   "id": "6405cba9-c034-4dd3-a2f6-2a2e8e1a7050",
   "metadata": {},
   "outputs": [],
   "source": [
    "## We should scale our data because we're gonna use Gradient Descent."
   ]
  },
  {
   "cell_type": "code",
   "execution_count": 18,
   "id": "2d13f7ab-b684-4599-8d28-8f01ecbe051c",
   "metadata": {},
   "outputs": [],
   "source": [
    "x_valid, x_train, x_test = x_valid/255, x_train/255, x_test/255"
   ]
  },
  {
   "cell_type": "code",
   "execution_count": 19,
   "id": "5a42671f-e64a-4050-aeb9-8b5bd26d7efb",
   "metadata": {},
   "outputs": [],
   "source": [
    "# Label-Map for Y"
   ]
  },
  {
   "cell_type": "code",
   "execution_count": 20,
   "id": "4065cc3f-a455-47f2-9f5d-f01aca76535a",
   "metadata": {},
   "outputs": [],
   "source": [
    "class_names = [\"T-shirt/top\", \"Trouser\", \"Pullover\", \"Dress\", \"Coat\", \"Sandal\", \"Shirt\", \"Sneaker\", \"Bag\", \"Ankle boot\"]"
   ]
  },
  {
   "cell_type": "markdown",
   "id": "6f252536-c755-41ef-9215-1115a095dc11",
   "metadata": {},
   "source": [
    "### Creating the sequential model"
   ]
  },
  {
   "cell_type": "code",
   "execution_count": 21,
   "id": "f83a9df7-81a1-492f-94ea-a164003b608a",
   "metadata": {},
   "outputs": [],
   "source": [
    "model = keras.models.Sequential([\n",
    "    keras.layers.Flatten(input_shape=[28,28]),\n",
    "    keras.layers.Dense(300, activation = keras.activations.relu),\n",
    "    keras.layers.Dense(100, activation = keras.activations.relu),\n",
    "    keras.layers.Dense(10, activation = keras.activations.softmax)\n",
    "])"
   ]
  },
  {
   "cell_type": "code",
   "execution_count": 22,
   "id": "46a53202-ea93-4b83-91f8-edd9452435c9",
   "metadata": {},
   "outputs": [],
   "source": [
    "model.compile(loss = keras.losses.sparse_categorical_crossentropy, optimizer = keras.optimizers.SGD(learning_rate=0.01), metrics = [\"accuracy\"])"
   ]
  },
  {
   "cell_type": "code",
   "execution_count": 25,
   "id": "33351ff5-b1fd-49fe-9c75-6b5b6e9a84f1",
   "metadata": {},
   "outputs": [
    {
     "name": "stdout",
     "output_type": "stream",
     "text": [
      "Epoch 1/30\n",
      "1719/1719 [==============================] - 2s 1ms/step - loss: 0.7184 - accuracy: 0.7627 - val_loss: 0.5253 - val_accuracy: 0.8194\n",
      "Epoch 2/30\n",
      "1719/1719 [==============================] - 2s 1ms/step - loss: 0.4903 - accuracy: 0.8288 - val_loss: 0.4450 - val_accuracy: 0.8456\n",
      "Epoch 3/30\n",
      "1719/1719 [==============================] - 2s 1ms/step - loss: 0.4456 - accuracy: 0.8432 - val_loss: 0.4331 - val_accuracy: 0.8512\n",
      "Epoch 4/30\n",
      "1719/1719 [==============================] - 2s 1ms/step - loss: 0.4185 - accuracy: 0.8537 - val_loss: 0.4160 - val_accuracy: 0.8566\n",
      "Epoch 5/30\n",
      "1719/1719 [==============================] - 2s 1ms/step - loss: 0.3979 - accuracy: 0.8597 - val_loss: 0.3822 - val_accuracy: 0.8684\n",
      "Epoch 6/30\n",
      "1719/1719 [==============================] - 2s 1ms/step - loss: 0.3819 - accuracy: 0.8649 - val_loss: 0.3847 - val_accuracy: 0.8692\n",
      "Epoch 7/30\n",
      "1719/1719 [==============================] - 2s 1ms/step - loss: 0.3681 - accuracy: 0.8706 - val_loss: 0.3714 - val_accuracy: 0.8704\n",
      "Epoch 8/30\n",
      "1719/1719 [==============================] - 2s 1ms/step - loss: 0.3571 - accuracy: 0.8726 - val_loss: 0.3516 - val_accuracy: 0.8776\n",
      "Epoch 9/30\n",
      "1719/1719 [==============================] - 2s 1ms/step - loss: 0.3456 - accuracy: 0.8777 - val_loss: 0.3947 - val_accuracy: 0.8594\n",
      "Epoch 10/30\n",
      "1719/1719 [==============================] - 2s 1ms/step - loss: 0.3361 - accuracy: 0.8805 - val_loss: 0.3372 - val_accuracy: 0.8824\n",
      "Epoch 11/30\n",
      "1719/1719 [==============================] - 2s 1ms/step - loss: 0.3270 - accuracy: 0.8839 - val_loss: 0.3504 - val_accuracy: 0.8766\n",
      "Epoch 12/30\n",
      "1719/1719 [==============================] - 2s 1ms/step - loss: 0.3204 - accuracy: 0.8845 - val_loss: 0.3351 - val_accuracy: 0.8824\n",
      "Epoch 13/30\n",
      "1719/1719 [==============================] - 2s 1ms/step - loss: 0.3121 - accuracy: 0.8892 - val_loss: 0.3396 - val_accuracy: 0.8776\n",
      "Epoch 14/30\n",
      "1719/1719 [==============================] - 2s 1ms/step - loss: 0.3055 - accuracy: 0.8903 - val_loss: 0.3428 - val_accuracy: 0.8788\n",
      "Epoch 15/30\n",
      "1719/1719 [==============================] - 2s 1ms/step - loss: 0.2982 - accuracy: 0.8923 - val_loss: 0.3416 - val_accuracy: 0.8784\n",
      "Epoch 16/30\n",
      "1719/1719 [==============================] - 2s 1ms/step - loss: 0.2933 - accuracy: 0.8933 - val_loss: 0.3209 - val_accuracy: 0.8866\n",
      "Epoch 17/30\n",
      "1719/1719 [==============================] - 2s 1ms/step - loss: 0.2873 - accuracy: 0.8959 - val_loss: 0.3097 - val_accuracy: 0.8904\n",
      "Epoch 18/30\n",
      "1719/1719 [==============================] - 2s 1ms/step - loss: 0.2813 - accuracy: 0.8982 - val_loss: 0.3207 - val_accuracy: 0.8842\n",
      "Epoch 19/30\n",
      "1719/1719 [==============================] - 2s 1ms/step - loss: 0.2766 - accuracy: 0.8994 - val_loss: 0.3138 - val_accuracy: 0.8868\n",
      "Epoch 20/30\n",
      "1719/1719 [==============================] - 2s 1ms/step - loss: 0.2717 - accuracy: 0.9016 - val_loss: 0.3202 - val_accuracy: 0.8850\n",
      "Epoch 21/30\n",
      "1719/1719 [==============================] - 2s 1ms/step - loss: 0.2671 - accuracy: 0.9036 - val_loss: 0.3047 - val_accuracy: 0.8918\n",
      "Epoch 22/30\n",
      "1719/1719 [==============================] - 2s 1ms/step - loss: 0.2611 - accuracy: 0.9056 - val_loss: 0.3278 - val_accuracy: 0.8828\n",
      "Epoch 23/30\n",
      "1719/1719 [==============================] - 2s 1ms/step - loss: 0.2570 - accuracy: 0.9071 - val_loss: 0.3106 - val_accuracy: 0.8896\n",
      "Epoch 24/30\n",
      "1719/1719 [==============================] - 2s 1ms/step - loss: 0.2546 - accuracy: 0.9078 - val_loss: 0.3029 - val_accuracy: 0.8924\n",
      "Epoch 25/30\n",
      "1719/1719 [==============================] - 2s 1ms/step - loss: 0.2486 - accuracy: 0.9107 - val_loss: 0.3007 - val_accuracy: 0.8956\n",
      "Epoch 26/30\n",
      "1719/1719 [==============================] - 2s 1ms/step - loss: 0.2452 - accuracy: 0.9120 - val_loss: 0.3272 - val_accuracy: 0.8814\n",
      "Epoch 27/30\n",
      "1719/1719 [==============================] - 2s 1ms/step - loss: 0.2406 - accuracy: 0.9121 - val_loss: 0.3323 - val_accuracy: 0.8830\n",
      "Epoch 28/30\n",
      "1719/1719 [==============================] - 2s 1ms/step - loss: 0.2372 - accuracy: 0.9141 - val_loss: 0.2997 - val_accuracy: 0.8926\n",
      "Epoch 29/30\n",
      "1719/1719 [==============================] - 2s 1ms/step - loss: 0.2329 - accuracy: 0.9161 - val_loss: 0.3006 - val_accuracy: 0.8928\n",
      "Epoch 30/30\n",
      "1719/1719 [==============================] - 2s 1ms/step - loss: 0.2290 - accuracy: 0.9169 - val_loss: 0.2972 - val_accuracy: 0.8922\n"
     ]
    }
   ],
   "source": [
    "run_logdir = get_run_logdir() # e.g., './my_logs/run_2019_06_07-15_15_22'\n",
    "\n",
    "tensorboard_cb = keras.callbacks.TensorBoard(run_logdir)\n",
    "history = model.fit(x_train, y_train, epochs=30,\n",
    "                    validation_data=(x_valid, y_valid),\n",
    "                    callbacks=[tensorboard_cb])"
   ]
  },
  {
   "cell_type": "markdown",
   "id": "5f6293db-3560-4cf8-b3ea-f98a37f8fe79",
   "metadata": {},
   "source": [
    "## Starting Tensorboard from jupyter"
   ]
  },
  {
   "cell_type": "code",
   "execution_count": 26,
   "id": "cb816a5a-9308-449f-9333-f6dee0319a80",
   "metadata": {},
   "outputs": [
    {
     "data": {
      "text/html": [
       "\n",
       "      <iframe id=\"tensorboard-frame-1c3e6904a4de3ba\" width=\"100%\" height=\"800\" frameborder=\"0\">\n",
       "      </iframe>\n",
       "      <script>\n",
       "        (function() {\n",
       "          const frame = document.getElementById(\"tensorboard-frame-1c3e6904a4de3ba\");\n",
       "          const url = new URL(\"/\", window.location);\n",
       "          const port = 6006;\n",
       "          if (port) {\n",
       "            url.port = port;\n",
       "          }\n",
       "          frame.src = url;\n",
       "        })();\n",
       "      </script>\n",
       "    "
      ],
      "text/plain": [
       "<IPython.core.display.HTML object>"
      ]
     },
     "metadata": {},
     "output_type": "display_data"
    }
   ],
   "source": [
    "%load_ext tensorboard\n",
    "%tensorboard --logdir=./my_logs --port=6006"
   ]
  },
  {
   "cell_type": "code",
   "execution_count": null,
   "id": "0acb331a-44ba-4e50-94b1-0dae405ff04b",
   "metadata": {},
   "outputs": [],
   "source": []
  }
 ],
 "metadata": {
  "kernelspec": {
   "display_name": "Python 3 (ipykernel)",
   "language": "python",
   "name": "python3"
  },
  "language_info": {
   "codemirror_mode": {
    "name": "ipython",
    "version": 3
   },
   "file_extension": ".py",
   "mimetype": "text/x-python",
   "name": "python",
   "nbconvert_exporter": "python",
   "pygments_lexer": "ipython3",
   "version": "3.7.0"
  }
 },
 "nbformat": 4,
 "nbformat_minor": 5
}
