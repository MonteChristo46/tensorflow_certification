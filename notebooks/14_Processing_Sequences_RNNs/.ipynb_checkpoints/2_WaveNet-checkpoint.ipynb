{
 "cells": [
  {
   "cell_type": "markdown",
   "id": "0415adc4-856f-4721-ae9f-82264e0196fb",
   "metadata": {},
   "source": [
    "# WaveNet"
   ]
  },
  {
   "cell_type": "markdown",
   "id": "91b4574b-caa4-43d1-a0e6-9b532ce64b04",
   "metadata": {},
   "source": [
    "1. Architecture with stacked 1D convolutions\n",
    "2. Those convolutional layers have a delation rate - that describes how far the neurons are apart from each other. \n",
    "3. Enables us to process large sequences of data\n",
    "\n",
    "Important: \n",
    "1. The low level layers learn low level features \n",
    "2. The high level layers learn long-term patterns\n",
    "\n"
   ]
  },
  {
   "cell_type": "markdown",
   "id": "1f15b4b2-0797-49f7-84ab-ab968a4cd3e4",
   "metadata": {},
   "source": [
    "<img src = \"../../img/1511.png\" />"
   ]
  },
  {
   "cell_type": "markdown",
   "id": "b5292023-3897-4a0a-95e1-666808f66d29",
   "metadata": {},
   "source": [
    "### Dialeted Convolutions"
   ]
  },
  {
   "cell_type": "markdown",
   "id": "8191b6c1-1945-4025-8446-5a94acc1b772",
   "metadata": {},
   "source": [
    "<img src = \"../../img/9999.gif\" />\n",
    "\n",
    "1. The _dialation rate_ defines the values in the kernel/filter. \n",
    "2. The _dialation rate_ is more broader field of reception\n",
    "3. A 3x3 kernel with a dialation rate of 2 will have a field of view as 5x5\n",
    "\n",
    "__Benefit__: \n",
    "- Wider field of reception with the same computational costs"
   ]
  },
  {
   "cell_type": "code",
   "execution_count": 2,
   "id": "784c1575-3f8a-47cc-ac8a-f754c103cd04",
   "metadata": {},
   "outputs": [],
   "source": [
    "import tensorflow as tf\n",
    "from tensorflow import keras\n",
    "import numpy as np\n",
    "import pandas as pd\n",
    "import matplotlib.pyplot as plt"
   ]
  },
  {
   "cell_type": "markdown",
   "id": "397b3776-1aeb-4eea-9a79-fb581ccf17c3",
   "metadata": {},
   "source": [
    "## Training Data"
   ]
  },
  {
   "cell_type": "code",
   "execution_count": 3,
   "id": "f2fdfc6c-5e6d-4081-9570-97086067040f",
   "metadata": {},
   "outputs": [],
   "source": [
    "def generate_time_series(batch_size, n_steps):\n",
    "    freq1, freq2, offsets1, offsets2 = np.random.rand(4, batch_size, 1) # Creates an array of given shape (4, batch_size, 1)\n",
    "    time = np.linspace(0, 1, n_steps)\n",
    "    series = 0.5 * np.sin((time - offsets1) * (freq1 * 10 + 10))  #   wave 1\n",
    "    series += 0.2 * np.sin((time - offsets2) * (freq2 * 20 + 20)) # + wave 2\n",
    "    series += 0.1 * (np.random.rand(batch_size, n_steps) - 0.5)   # + noise\n",
    "    return series[..., np.newaxis].astype(np.float32)"
   ]
  },
  {
   "cell_type": "code",
   "execution_count": 4,
   "id": "3b617c42-04f2-492a-90dc-824db841aab5",
   "metadata": {},
   "outputs": [],
   "source": [
    "n_steps = 50\n",
    "series = generate_time_series(10000, n_steps+1) # n_steps +1 generate us a label"
   ]
  },
  {
   "cell_type": "code",
   "execution_count": 5,
   "id": "68756d8f-b92b-40a5-99e9-606022e28566",
   "metadata": {},
   "outputs": [
    {
     "data": {
      "text/plain": [
       "(10000, 51, 1)"
      ]
     },
     "execution_count": 5,
     "metadata": {},
     "output_type": "execute_result"
    }
   ],
   "source": [
    "series.shape # (batch_size, time steps, dimensionality)"
   ]
  },
  {
   "cell_type": "code",
   "execution_count": 6,
   "id": "38080814-3d34-4402-95f0-154913bac762",
   "metadata": {},
   "outputs": [],
   "source": [
    "x_train, y_train = series[:7000, :n_steps], series[:7000, -1] # -1 takes the last time series step"
   ]
  },
  {
   "cell_type": "code",
   "execution_count": 7,
   "id": "b3aa71ad-7176-4378-8a18-3e1a3d6c2c4c",
   "metadata": {},
   "outputs": [
    {
     "data": {
      "text/plain": [
       "array([[ 0.52530134],\n",
       "       [-0.30187267],\n",
       "       [-0.1694343 ],\n",
       "       ...,\n",
       "       [-0.3248322 ],\n",
       "       [ 0.45576847],\n",
       "       [-0.08068113]], dtype=float32)"
      ]
     },
     "execution_count": 7,
     "metadata": {},
     "output_type": "execute_result"
    }
   ],
   "source": [
    "y_train"
   ]
  },
  {
   "cell_type": "code",
   "execution_count": 8,
   "id": "9c3ed8fd-992c-4d91-9c1f-20c8887d06be",
   "metadata": {},
   "outputs": [],
   "source": [
    "x_valid, y_valid = series[7000:9000, :n_steps], series[7000:9000, -1]"
   ]
  },
  {
   "cell_type": "code",
   "execution_count": 9,
   "id": "5f517bc2-c7f2-4b02-a457-fe744bef8439",
   "metadata": {},
   "outputs": [],
   "source": [
    "x_test, y_test = series[9000:, :n_steps], series[:9000, -1]"
   ]
  },
  {
   "cell_type": "markdown",
   "id": "4ace27e9-452b-4659-9e39-a367dad3e4a8",
   "metadata": {},
   "source": [
    "# WaveNet"
   ]
  },
  {
   "cell_type": "code",
   "execution_count": 12,
   "id": "7cc63157-e07d-4d2b-86e0-867aeddc0272",
   "metadata": {},
   "outputs": [],
   "source": [
    "def last_time_step_mse(Y_true, Y_pred):\n",
    "    return keras.metrics.mean_squared_error(Y_true[:, -1], Y_pred[:, -1])\n"
   ]
  },
  {
   "cell_type": "code",
   "execution_count": 13,
   "id": "ce386cf3-e126-4363-86aa-e71ad5408588",
   "metadata": {},
   "outputs": [],
   "source": [
    "model = keras.models.Sequential()\n",
    "model.add(keras.layers.InputLayer(input_shape = [None, 1]))\n",
    "for rate in (1,2,4,8)*2:\n",
    "    model.add(keras.layers.Conv1D(filters=20, kernel_size=2, padding=\"causal\", activation=\"relu\", dilation_rate=rate))\n",
    "model.add(keras.layers.Conv1D(filters=1, kernel_size=1))"
   ]
  },
  {
   "cell_type": "code",
   "execution_count": 14,
   "id": "3a53e64d-b0de-43af-913b-74ea041a9c68",
   "metadata": {},
   "outputs": [],
   "source": [
    "model.compile(loss=\"mse\", optimizer=\"adam\", metrics = [last_time_step_mse])"
   ]
  },
  {
   "cell_type": "code",
   "execution_count": 16,
   "id": "2ae7fe0f-91b8-49c3-8b76-f84ebcd8314d",
   "metadata": {},
   "outputs": [
    {
     "name": "stdout",
     "output_type": "stream",
     "text": [
      "Epoch 1/20\n",
      "219/219 [==============================] - 1s 7ms/step - loss: 0.1127 - last_time_step_mse: 0.1473 - val_loss: 0.1178 - val_last_time_step_mse: 0.1540\n",
      "Epoch 2/20\n",
      "219/219 [==============================] - 1s 6ms/step - loss: 0.1118 - last_time_step_mse: 0.1481 - val_loss: 0.1157 - val_last_time_step_mse: 0.1522\n",
      "Epoch 3/20\n",
      "219/219 [==============================] - 1s 7ms/step - loss: 0.1111 - last_time_step_mse: 0.1489 - val_loss: 0.1163 - val_last_time_step_mse: 0.1535\n",
      "Epoch 4/20\n",
      "219/219 [==============================] - 1s 6ms/step - loss: 0.1100 - last_time_step_mse: 0.1483 - val_loss: 0.1166 - val_last_time_step_mse: 0.1525\n",
      "Epoch 5/20\n",
      "219/219 [==============================] - 1s 7ms/step - loss: 0.1096 - last_time_step_mse: 0.1491 - val_loss: 0.1163 - val_last_time_step_mse: 0.1585\n",
      "Epoch 6/20\n",
      "219/219 [==============================] - 1s 6ms/step - loss: 0.1093 - last_time_step_mse: 0.1491 - val_loss: 0.1139 - val_last_time_step_mse: 0.1596\n",
      "Epoch 7/20\n",
      "219/219 [==============================] - 1s 6ms/step - loss: 0.1088 - last_time_step_mse: 0.1493 - val_loss: 0.1145 - val_last_time_step_mse: 0.1590\n",
      "Epoch 8/20\n",
      "219/219 [==============================] - 1s 6ms/step - loss: 0.1082 - last_time_step_mse: 0.1497 - val_loss: 0.1131 - val_last_time_step_mse: 0.1584\n",
      "Epoch 9/20\n",
      "219/219 [==============================] - 1s 7ms/step - loss: 0.1075 - last_time_step_mse: 0.1496 - val_loss: 0.1124 - val_last_time_step_mse: 0.1612\n",
      "Epoch 10/20\n",
      "219/219 [==============================] - 1s 6ms/step - loss: 0.1075 - last_time_step_mse: 0.1502 - val_loss: 0.1135 - val_last_time_step_mse: 0.1582\n",
      "Epoch 11/20\n",
      "219/219 [==============================] - 1s 6ms/step - loss: 0.1077 - last_time_step_mse: 0.1501 - val_loss: 0.1176 - val_last_time_step_mse: 0.1564\n",
      "Epoch 12/20\n",
      "219/219 [==============================] - 1s 7ms/step - loss: 0.1071 - last_time_step_mse: 0.1499 - val_loss: 0.1141 - val_last_time_step_mse: 0.1613\n",
      "Epoch 13/20\n",
      "219/219 [==============================] - 1s 6ms/step - loss: 0.1070 - last_time_step_mse: 0.1505 - val_loss: 0.1112 - val_last_time_step_mse: 0.1603\n",
      "Epoch 14/20\n",
      "219/219 [==============================] - 1s 6ms/step - loss: 0.1066 - last_time_step_mse: 0.1507 - val_loss: 0.1111 - val_last_time_step_mse: 0.1604\n",
      "Epoch 15/20\n",
      "219/219 [==============================] - 1s 6ms/step - loss: 0.1065 - last_time_step_mse: 0.1503 - val_loss: 0.1114 - val_last_time_step_mse: 0.1553\n",
      "Epoch 16/20\n",
      "219/219 [==============================] - 1s 7ms/step - loss: 0.1063 - last_time_step_mse: 0.1506 - val_loss: 0.1126 - val_last_time_step_mse: 0.1604\n",
      "Epoch 17/20\n",
      "219/219 [==============================] - 1s 7ms/step - loss: 0.1059 - last_time_step_mse: 0.1506 - val_loss: 0.1115 - val_last_time_step_mse: 0.1536\n",
      "Epoch 18/20\n",
      "219/219 [==============================] - 1s 6ms/step - loss: 0.1060 - last_time_step_mse: 0.1510 - val_loss: 0.1111 - val_last_time_step_mse: 0.1560\n",
      "Epoch 19/20\n",
      "219/219 [==============================] - 1s 6ms/step - loss: 0.1059 - last_time_step_mse: 0.1500 - val_loss: 0.1129 - val_last_time_step_mse: 0.1631\n",
      "Epoch 20/20\n",
      "219/219 [==============================] - 1s 6ms/step - loss: 0.1058 - last_time_step_mse: 0.1498 - val_loss: 0.1114 - val_last_time_step_mse: 0.1619\n"
     ]
    },
    {
     "data": {
      "text/plain": [
       "<keras.callbacks.History at 0x1e5e1fd5400>"
      ]
     },
     "execution_count": 16,
     "metadata": {},
     "output_type": "execute_result"
    }
   ],
   "source": [
    "model.fit(x_train, y_train, epochs=20, validation_data=(x_valid, y_valid))"
   ]
  },
  {
   "cell_type": "code",
   "execution_count": null,
   "id": "bfc0ed16-6b31-45ca-ae75-c56e7fe1fa78",
   "metadata": {},
   "outputs": [],
   "source": []
  }
 ],
 "metadata": {
  "kernelspec": {
   "display_name": "Python 3 (ipykernel)",
   "language": "python",
   "name": "python3"
  },
  "language_info": {
   "codemirror_mode": {
    "name": "ipython",
    "version": 3
   },
   "file_extension": ".py",
   "mimetype": "text/x-python",
   "name": "python",
   "nbconvert_exporter": "python",
   "pygments_lexer": "ipython3",
   "version": "3.7.0"
  }
 },
 "nbformat": 4,
 "nbformat_minor": 5
}
