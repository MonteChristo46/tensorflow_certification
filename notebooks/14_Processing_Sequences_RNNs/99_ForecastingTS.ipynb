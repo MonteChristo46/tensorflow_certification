{
 "cells": [
  {
   "cell_type": "markdown",
   "id": "6a45a00b-2210-4208-8def-f6f42bd3c674",
   "metadata": {},
   "source": [
    "# Forecasting a time series"
   ]
  },
  {
   "cell_type": "code",
   "execution_count": 30,
   "id": "b2ffd533-1321-4888-ad09-fe492d4d47ea",
   "metadata": {},
   "outputs": [],
   "source": [
    "import tensorflow as tf\n",
    "from tensorflow import keras\n",
    "import numpy as np\n",
    "import pandas as pd\n",
    "import matplotlib.pyplot as plt"
   ]
  },
  {
   "cell_type": "markdown",
   "id": "0ad36f17-7446-4449-bd04-339bbca45e5e",
   "metadata": {
    "tags": []
   },
   "source": [
    "## Intro to Time Series\n",
    "\n",
    "### Univariate vs. Multivariate Time Series\n",
    "- Univariate time series containing a sequence of one feature \n",
    "- Multivariate time series containing a sequence of multiple features\n",
    "\n",
    "### Use Cases\n",
    "1. Predicting future values of this time series\n",
    "2. Imputation predicting missing values\n",
    "\n",
    "### Conventions\n",
    "- When dealing with time series we batches are normaly organized as followed: _[batch_size, time_stamps, dimensionality]_\n",
    "- Univariate time series:  _[batch_size, time_stamps, 1]_\n",
    "- Multivariate time series: _[batch_size, time_stamps, feature_num]_\n",
    "\n",
    "### LSTMs and GRUs\n",
    "- In this notebook we use simple RNNs Cells. \n",
    "- In praxis GRUs or LSTMs are used, because: \n",
    "    - Normal RNNs cell loss knowledge about the first inputs when handling long sequences\n",
    "    - LSTMs and GRUs have a long-term memomry. The network learns what to store in the long-term memory. "
   ]
  },
  {
   "cell_type": "markdown",
   "id": "d85aca42-6174-49f8-8da2-11891f31affb",
   "metadata": {},
   "source": [
    "## Basic Ideas of RNN\n",
    "\n",
    "Each Neuron (!) propagates back in time:   \n",
    "    - The input will be concatenated with the hidden state _h(t)_.   \n",
    "    - The first _h(t)_ = 0   \n",
    "    - Afterwards the concatenated input goes trough an activation function - mostly _tanh()_\n",
    "    - The output y(t) becomes the new h(t) and this happends again for n-time-stamps"
   ]
  },
  {
   "cell_type": "markdown",
   "id": "d4363382-925b-4385-a03e-016d01fd24f1",
   "metadata": {},
   "source": [
    "<img src=\"../../img/1501.png\" />"
   ]
  },
  {
   "cell_type": "markdown",
   "id": "4970e14f-a14a-4e94-887d-9ab09b6534e6",
   "metadata": {},
   "source": [
    "## Deep RNNs"
   ]
  },
  {
   "cell_type": "markdown",
   "id": "977f6e84-1139-4577-aa1e-d43600e45284",
   "metadata": {},
   "source": [
    "<img src=\"../../img/1507.png\" />\n",
    "\n",
    "```python\n",
    "model = keras.models.Sequential([\n",
    "    keras.layers.SimpleRNN(20, return_sequences=True, input_shape=[None, 1]),\n",
    "    keras.layers.SimpleRNN(20, return_sequences=True),\n",
    "    keras.layers.SimpleRNN(1)\n",
    "])\n",
    "```"
   ]
  },
  {
   "cell_type": "markdown",
   "id": "31abbcab-f459-454a-a000-0bb6b97d2ad9",
   "metadata": {},
   "source": [
    "### Notes to Deep RNN: \n",
    "1. Was zurzeit am meisten Sinn macht für mich:  \n",
    "    Die Units sind die time_stamps (t)\n",
    "    Jedes Neuron entfaltet sich, t -mal, abhängig der timestemps. Also eine GRU-Zelle entfalltet sich t-mal\n",
    "    \n",
    "_Convention: # [batch_size, time steps, input dimensions]_"
   ]
  },
  {
   "cell_type": "markdown",
   "id": "d9568666-e2aa-4009-8ab8-cb512e0d16fc",
   "metadata": {},
   "source": [
    "# Creating the time series"
   ]
  },
  {
   "cell_type": "markdown",
   "id": "723b1c68-c596-40a1-9ed6-fe04c93a8210",
   "metadata": {},
   "source": [
    "### Helper function for creating time serie\n",
    "\n",
    "\n",
    "__What are the Time steps?__\n",
    "\n",
    "Input Features of RNN are normally represented as [batch_size, time steps, dimensionality]"
   ]
  },
  {
   "cell_type": "code",
   "execution_count": 31,
   "id": "df3a45af-d349-4a23-b0e3-8782679003d9",
   "metadata": {},
   "outputs": [],
   "source": [
    "def generate_time_series(batch_size, n_steps):\n",
    "    # Generates a univariate time series\n",
    "    freq1, freq2, offsets1, offsets2 = np.random.rand(4, batch_size, 1) # Creates an array of given shape (4, batch_size, 1)\n",
    "    time = np.linspace(0, 1, n_steps)\n",
    "    series = 0.5 * np.sin((time - offsets1) * (freq1 * 10 + 10))  #   wave 1\n",
    "    series += 0.2 * np.sin((time - offsets2) * (freq2 * 20 + 20)) # + wave 2\n",
    "    series += 0.1 * (np.random.rand(batch_size, n_steps) - 0.5)   # + noise\n",
    "    return series[..., np.newaxis].astype(np.float32)"
   ]
  },
  {
   "cell_type": "code",
   "execution_count": 32,
   "id": "300648c3-bbe6-4951-9d37-dcbd1e7c651a",
   "metadata": {},
   "outputs": [],
   "source": [
    "def plt_history(history: \"history\"):\n",
    "    df = pd.DataFrame(history.history)\n",
    "    df.plot(figsize = (8,5))\n",
    "    plt.grid(True)\n",
    "    plt.gca().set_ylim(0,1)"
   ]
  },
  {
   "cell_type": "code",
   "execution_count": 33,
   "id": "61c55d85-cf24-4010-b58f-f673d30a2349",
   "metadata": {},
   "outputs": [],
   "source": [
    "def plot_series(series, y=None, y_pred=None, x_label=\"$t$\", y_label=\"$x(t)$\", legend=True):\n",
    "    plt.plot(series, \".-\")\n",
    "    if y is not None:\n",
    "        plt.plot(n_steps, y, \"bo\", label=\"Target\")\n",
    "    if y_pred is not None:\n",
    "        plt.plot(n_steps, y_pred, \"rx\", markersize=10, label=\"Prediction\")\n",
    "    plt.grid(True)\n",
    "    if x_label:\n",
    "        plt.xlabel(x_label, fontsize=16)\n",
    "    if y_label:\n",
    "        plt.ylabel(y_label, fontsize=16, rotation=0)\n",
    "    plt.hlines(0, 0, 100, linewidth=1)\n",
    "    plt.axis([0, n_steps + 1, -1, 1])\n",
    "    if legend and (y or y_pred):\n",
    "        plt.legend(fontsize=14, loc=\"upper left\")"
   ]
  },
  {
   "cell_type": "code",
   "execution_count": 34,
   "id": "679b3b92-aea6-4537-9048-3d97d3916886",
   "metadata": {},
   "outputs": [],
   "source": [
    "def plot_multiple_forecasts(X, Y, Y_pred):\n",
    "    n_steps = X.shape[1]\n",
    "    ahead = Y.shape[1]\n",
    "    plot_series(X[0, :, 0])\n",
    "    plt.plot(np.arange(n_steps, n_steps + ahead), Y[0, :, 0], \"ro-\", label=\"Actual\")\n",
    "    plt.plot(np.arange(n_steps, n_steps + ahead), Y_pred[0, :, 0], \"bx-\", label=\"Forecast\", markersize=10)\n",
    "    plt.axis([0, n_steps + ahead, -1, 1])\n",
    "    plt.legend(fontsize=14)"
   ]
  },
  {
   "cell_type": "markdown",
   "id": "809a22f2-553b-4919-af4b-c0ce04b3d06a",
   "metadata": {},
   "source": [
    "## Analysing Data"
   ]
  },
  {
   "cell_type": "code",
   "execution_count": 35,
   "id": "28276ad6-fdcc-4b24-afab-2622f6fd6c76",
   "metadata": {},
   "outputs": [],
   "source": [
    "ts = generate_time_series(32, 100) #32 Timeseries each 100 time stemps long"
   ]
  },
  {
   "cell_type": "code",
   "execution_count": 36,
   "id": "6c1a9c82-67fd-4788-b45a-a93aa1eb9a8d",
   "metadata": {},
   "outputs": [
    {
     "data": {
      "text/plain": [
       "(32, 100, 1)"
      ]
     },
     "execution_count": 36,
     "metadata": {},
     "output_type": "execute_result"
    }
   ],
   "source": [
    "ts.shape # Time series with [batch_size, time_stamps, num_features]"
   ]
  },
  {
   "cell_type": "code",
   "execution_count": 41,
   "id": "379253d4-0b3f-4c34-8d46-9ea48dcc9cc4",
   "metadata": {},
   "outputs": [],
   "source": [
    "np.random.seed(42)\n",
    "\n",
    "n_steps = 50\n",
    "series = generate_time_series(10000, n_steps + 1) # n_steps +1 generate us a label, [batch_size, time_stemps, num_features]\n",
    "X_train, y_train = series[:7000, :n_steps], series[:7000, -1] # We take the first 7000 Batches for Training, Our Y is everything from the 7000th batch containing only the last value of the ts\n",
    "X_valid, y_valid = series[7000:9000, :n_steps], series[7000:9000, -1]\n",
    "X_test, y_test = series[9000:, :n_steps], series[9000:, -1] "
   ]
  },
  {
   "cell_type": "code",
   "execution_count": 50,
   "id": "f2c8b6e9-850b-4f5e-908b-6083b268f3b3",
   "metadata": {},
   "outputs": [
    {
     "data": {
      "text/plain": [
       "(7000, 50, 1)"
      ]
     },
     "execution_count": 50,
     "metadata": {},
     "output_type": "execute_result"
    }
   ],
   "source": [
    "X_train.shape # Contains the first 7000 Batches with each 50 time stamps"
   ]
  },
  {
   "cell_type": "code",
   "execution_count": 51,
   "id": "97f1c158-0a32-49fe-be09-d23bc2523c9e",
   "metadata": {},
   "outputs": [
    {
     "data": {
      "text/plain": [
       "(7000, 1)"
      ]
     },
     "execution_count": 51,
     "metadata": {},
     "output_type": "execute_result"
    }
   ],
   "source": [
    "y_train.shape # COntains only the last time stamp for every batch"
   ]
  },
  {
   "cell_type": "markdown",
   "id": "78d846af-a7cb-4b74-931e-04ceb76d381b",
   "metadata": {},
   "source": [
    "### Plotting the first three Time Series/Batches"
   ]
  },
  {
   "cell_type": "code",
   "execution_count": 55,
   "id": "34137841-4fbf-4b05-be15-d5778744fb10",
   "metadata": {},
   "outputs": [
    {
     "data": {
      "image/png": "[encoded data removed]",
      "text/plain": [
       "<Figure size 1440x288 with 4 Axes>"
      ]
     },
     "metadata": {
      "needs_background": "light"
     },
     "output_type": "display_data"
    }
   ],
   "source": [
    "fig, axes = plt.subplots(nrows=1, ncols=4, sharey=True, figsize=(20, 4))\n",
    "for col in range(4):\n",
    "    plt.sca(axes[col])\n",
    "    plot_series(X_valid[col, :, 0], y_valid[col, 0],\n",
    "                y_label=(\"$x(t)$\" if col==0 else None),\n",
    "                legend=(col == 0))\n",
    "plt.show()"
   ]
  },
  {
   "cell_type": "code",
   "execution_count": 9,
   "id": "b962e8fb-623c-49b6-9ec0-bca82123c019",
   "metadata": {},
   "outputs": [
    {
     "data": {
      "text/plain": [
       "array([[-0.5394737 ],\n",
       "       [-0.46692556],\n",
       "       [-0.42148662],\n",
       "       [-0.35173497],\n",
       "       [-0.36864796],\n",
       "       [-0.27826878],\n",
       "       [-0.2913451 ],\n",
       "       [-0.28914467],\n",
       "       [-0.31381977],\n",
       "       [-0.33780718]], dtype=float32)"
      ]
     },
     "execution_count": 9,
     "metadata": {},
     "output_type": "execute_result"
    }
   ],
   "source": [
    "ts[0][:10] # First 10 Time stamps of first batch"
   ]
  },
  {
   "cell_type": "markdown",
   "id": "fd6dd2c3-4a17-405b-942c-4747b95b0532",
   "metadata": {
    "tags": []
   },
   "source": [
    "### Preparing Datasets \n",
    "\n",
    "The model we gonna train is a Seq2Vec Model. We only let out output the single, next time stamp.\n",
    "\n",
    "Due to that we let out model generate a series with one value added in the End. This will be our Y."
   ]
  },
  {
   "cell_type": "markdown",
   "id": "46215c2b-8824-43e1-b511-cd188f0bd661",
   "metadata": {},
   "source": [
    "## Baseline Metric\n",
    "Before implementing a complex RNN it's usefull first to have a baseline. \n",
    "\n",
    "Two options: \n",
    "\n",
    "__1. Naive Forecasting__  \n",
    "    - Just calculate the MSE based on the validation data set\n",
    "    \n",
    "__2. Building a very simple model__  \n",
    "    - Dense Model  \n",
    "    - Linear Regression Model  \n",
    "    - ...  "
   ]
  },
  {
   "cell_type": "markdown",
   "id": "c5ebc611-1866-473c-9c04-fb25b8d48996",
   "metadata": {},
   "source": [
    "#### Naive Forecasting  (MSE~0.02)"
   ]
  },
  {
   "cell_type": "code",
   "execution_count": 56,
   "id": "f1d8e8a0-d706-4bfb-9b29-ecf14b1125bf",
   "metadata": {},
   "outputs": [],
   "source": [
    "y_pred = x_valid[:,-1]"
   ]
  },
  {
   "cell_type": "code",
   "execution_count": 57,
   "id": "7aac6c17-d632-48c1-85b6-506d0da5e29f",
   "metadata": {},
   "outputs": [],
   "source": [
    "mse = tf.keras.losses.mean_squared_error(y_pred, y_valid)"
   ]
  },
  {
   "cell_type": "code",
   "execution_count": 58,
   "id": "4a556c83-6fc5-4f87-a015-2195fbbf758e",
   "metadata": {},
   "outputs": [
    {
     "data": {
      "text/plain": [
       "0.2868186"
      ]
     },
     "execution_count": 58,
     "metadata": {},
     "output_type": "execute_result"
    }
   ],
   "source": [
    "np.mean(mse) "
   ]
  },
  {
   "cell_type": "code",
   "execution_count": 59,
   "id": "7efaf8f9-362c-4320-a099-b129c9e620a0",
   "metadata": {},
   "outputs": [
    {
     "data": {
      "image/png": "[encoded data removed]",
      "text/plain": [
       "<Figure size 432x288 with 1 Axes>"
      ]
     },
     "metadata": {
      "needs_background": "light"
     },
     "output_type": "display_data"
    }
   ],
   "source": [
    "plot_series(x_valid[0, :, 0], y_valid[0, 0], y_pred[0, 0])\n",
    "plt.show()"
   ]
  },
  {
   "cell_type": "markdown",
   "id": "9b7329df-a773-4cd1-a93e-86ad57b36db5",
   "metadata": {},
   "source": [
    "#### Building a Dense Model (MSE~0.004)"
   ]
  },
  {
   "cell_type": "code",
   "execution_count": 60,
   "id": "7ce7f6aa-d9a6-4a7e-8d8b-36f2417cea01",
   "metadata": {},
   "outputs": [],
   "source": [
    "model = tf.keras.models.Sequential([\n",
    "    tf.keras.layers.Flatten(input_shape = [n_steps, 1]),\n",
    "    tf.keras.layers.Dense(1)\n",
    "])"
   ]
  },
  {
   "cell_type": "code",
   "execution_count": 61,
   "id": "49de46e3-1475-4094-a3e9-b1573984f383",
   "metadata": {},
   "outputs": [],
   "source": [
    "model.compile(optimizer=keras.optimizers.Adam(), loss=keras.losses.mean_squared_error)"
   ]
  },
  {
   "cell_type": "code",
   "execution_count": 64,
   "id": "5179bb14-41a0-4b0f-b6f2-d537403820b9",
   "metadata": {},
   "outputs": [
    {
     "name": "stdout",
     "output_type": "stream",
     "text": [
      "Epoch 1/5\n",
      "219/219 [==============================] - 0s 2ms/step - loss: 0.1465 - val_loss: 0.1542\n",
      "Epoch 2/5\n",
      "219/219 [==============================] - 0s 2ms/step - loss: 0.1464 - val_loss: 0.1536\n",
      "Epoch 3/5\n",
      "219/219 [==============================] - 0s 2ms/step - loss: 0.1466 - val_loss: 0.1532\n",
      "Epoch 4/5\n",
      "219/219 [==============================] - 0s 2ms/step - loss: 0.1466 - val_loss: 0.1538\n",
      "Epoch 5/5\n",
      "219/219 [==============================] - 0s 2ms/step - loss: 0.1465 - val_loss: 0.1534\n"
     ]
    }
   ],
   "source": [
    "history = model.fit(x_train, y_train, epochs=5, validation_data=(x_valid, y_valid))"
   ]
  },
  {
   "cell_type": "code",
   "execution_count": 72,
   "id": "c34e6429-331e-4017-8f1f-c61770adcd41",
   "metadata": {},
   "outputs": [
    {
     "data": {
      "text/plain": [
       "array([ 0.3050204 ,  0.30152497,  0.3751601 ,  0.39051387,  0.30609563,\n",
       "        0.10806351, -0.04481836, -0.27120343, -0.53005266, -0.6110558 ,\n",
       "       -0.6072781 , -0.5164141 , -0.25561166,  0.0748598 ,  0.2749697 ,\n",
       "        0.5544027 ,  0.7266805 ,  0.7178169 ,  0.5119027 ,  0.24358536,\n",
       "        0.05559222, -0.26531246, -0.42735794, -0.5883318 , -0.5807008 ,\n",
       "       -0.44607818, -0.24293604, -0.14431044,  0.0529796 ,  0.12089796,\n",
       "        0.22094227,  0.2803506 ,  0.3067809 ,  0.30995855,  0.27073693,\n",
       "        0.29367074,  0.15643366,  0.04640321, -0.08379079, -0.19486697,\n",
       "       -0.3714829 , -0.54036564, -0.592944  , -0.5041277 , -0.32999223,\n",
       "       -0.1079238 ,  0.22333595,  0.43406898,  0.67406183,  0.65449286],\n",
       "      dtype=float32)"
      ]
     },
     "execution_count": 72,
     "metadata": {},
     "output_type": "execute_result"
    }
   ],
   "source": [
    "x_valid[0, :, 0]"
   ]
  },
  {
   "cell_type": "code",
   "execution_count": 67,
   "id": "4b1a34a7-8e51-4474-85c8-4bfda9e151c8",
   "metadata": {},
   "outputs": [
    {
     "data": {
      "image/png": "[encoded data removed]",
      "text/plain": [
       "<Figure size 432x288 with 1 Axes>"
      ]
     },
     "metadata": {
      "needs_background": "light"
     },
     "output_type": "display_data"
    }
   ],
   "source": [
    "# For the first batch plot prediction and time series\n",
    "y_pred = model.predict(x_valid)\n",
    "plot_series(x_valid[0, :, 0], y_valid[0, 0], y_pred[0, 0]) # For t\n",
    "plt.show()"
   ]
  },
  {
   "cell_type": "code",
   "execution_count": 73,
   "id": "308baf24-9087-4bbd-b0b2-d99f42259d27",
   "metadata": {},
   "outputs": [
    {
     "data": {
      "text/plain": [
       "array([[ 0.01789239],\n",
       "       [-0.03779696],\n",
       "       [-0.00939745],\n",
       "       ...,\n",
       "       [-0.02387949],\n",
       "       [-0.01084706],\n",
       "       [ 0.03994339]], dtype=float32)"
      ]
     },
     "execution_count": 73,
     "metadata": {},
     "output_type": "execute_result"
    }
   ],
   "source": [
    "y_pred # Contains the predictions for every batch "
   ]
  },
  {
   "cell_type": "markdown",
   "id": "b4b1d2cf-3210-4815-8519-518411af389c",
   "metadata": {},
   "source": [
    "## Implementing the RNN (Seq2Vec Model)\n",
    "\n",
    "__return_sequences__: To output the hidden state"
   ]
  },
  {
   "cell_type": "code",
   "execution_count": 74,
   "id": "173c9b84-d25a-4ced-b792-cf51e7be70bf",
   "metadata": {},
   "outputs": [],
   "source": [
    "rnn = keras.models.Sequential([\n",
    "    keras.layers.SimpleRNN(20, return_sequences=True, input_shape=[None, 1]),\n",
    "    keras.layers.SimpleRNN(20, return_sequences = True),\n",
    "    keras.layers.Dense(1)\n",
    "])"
   ]
  },
  {
   "cell_type": "code",
   "execution_count": 75,
   "id": "b066b9e5-3eb8-42d1-b4b6-312460ba8080",
   "metadata": {},
   "outputs": [],
   "source": [
    "rnn.compile(optimizer=keras.optimizers.Adam(), loss=keras.losses.mean_squared_error)"
   ]
  },
  {
   "cell_type": "code",
   "execution_count": 76,
   "id": "a7eef9b1-1b4f-485d-a6fb-e29281315601",
   "metadata": {},
   "outputs": [
    {
     "name": "stdout",
     "output_type": "stream",
     "text": [
      "Epoch 1/5\n",
      "219/219 [==============================] - 13s 56ms/step - loss: 0.1543 - val_loss: 0.1527\n",
      "Epoch 2/5\n",
      "219/219 [==============================] - 12s 56ms/step - loss: 0.1460 - val_loss: 0.1519\n",
      "Epoch 3/5\n",
      "219/219 [==============================] - 12s 56ms/step - loss: 0.1458 - val_loss: 0.1516\n",
      "Epoch 4/5\n",
      "219/219 [==============================] - 12s 56ms/step - loss: 0.1456 - val_loss: 0.1518\n",
      "Epoch 5/5\n",
      "219/219 [==============================] - 12s 56ms/step - loss: 0.1457 - val_loss: 0.1525\n"
     ]
    }
   ],
   "source": [
    "history = rnn.fit(x_train, y_train, epochs=5, validation_data=(x_valid, y_valid))"
   ]
  },
  {
   "cell_type": "code",
   "execution_count": 77,
   "id": "84ad0173-e808-440e-a581-61832ab7dc2e",
   "metadata": {},
   "outputs": [
    {
     "data": {
      "image/png": "[encoded data removed]",
      "text/plain": [
       "<Figure size 432x288 with 1 Axes>"
      ]
     },
     "metadata": {
      "needs_background": "light"
     },
     "output_type": "display_data"
    }
   ],
   "source": [
    "y_pred = rnn.predict(x_valid)\n",
    "plot_series(x_valid[0, :, 0], y_valid[0, 0], y_pred[0, 0])\n",
    "plt.show()"
   ]
  },
  {
   "cell_type": "markdown",
   "id": "a9d07f48-b460-443a-a2df-ba66c502d2d2",
   "metadata": {},
   "source": [
    "### Comparsion of Models"
   ]
  },
  {
   "cell_type": "code",
   "execution_count": 78,
   "id": "68471c57-1672-41ef-947b-1b89b08d5061",
   "metadata": {},
   "outputs": [
    {
     "name": "stdout",
     "output_type": "stream",
     "text": [
      "Model: \"sequential_1\"\n",
      "_________________________________________________________________\n",
      "Layer (type)                 Output Shape              Param #   \n",
      "=================================================================\n",
      "simple_rnn (SimpleRNN)       (None, None, 20)          440       \n",
      "_________________________________________________________________\n",
      "simple_rnn_1 (SimpleRNN)     (None, None, 20)          820       \n",
      "_________________________________________________________________\n",
      "dense_1 (Dense)              (None, None, 1)           21        \n",
      "=================================================================\n",
      "Total params: 1,281\n",
      "Trainable params: 1,281\n",
      "Non-trainable params: 0\n",
      "_________________________________________________________________\n"
     ]
    }
   ],
   "source": [
    "rnn.summary()"
   ]
  },
  {
   "cell_type": "code",
   "execution_count": 79,
   "id": "194c23a6-5cc3-419f-87a3-439d64ff6099",
   "metadata": {},
   "outputs": [
    {
     "name": "stdout",
     "output_type": "stream",
     "text": [
      "Model: \"sequential\"\n",
      "_________________________________________________________________\n",
      "Layer (type)                 Output Shape              Param #   \n",
      "=================================================================\n",
      "flatten (Flatten)            (None, 50)                0         \n",
      "_________________________________________________________________\n",
      "dense (Dense)                (None, 1)                 51        \n",
      "=================================================================\n",
      "Total params: 51\n",
      "Trainable params: 51\n",
      "Non-trainable params: 0\n",
      "_________________________________________________________________\n"
     ]
    }
   ],
   "source": [
    "model.summary()"
   ]
  },
  {
   "cell_type": "markdown",
   "id": "f3e6fed2-1730-4cfc-8522-02894f9c0029",
   "metadata": {},
   "source": [
    "### Forecasting several time steps ahead (For a Seq2Vec Model)\n",
    "\n",
    "There are two options: \n",
    "\n",
    "1. Predict next value; Append it to the input and predict the next value."
   ]
  },
  {
   "cell_type": "markdown",
   "id": "577ad219-4718-48ff-aec3-1ad79e8ece4c",
   "metadata": {},
   "source": [
    "#### 1 Options (Appending predictions to inputs)"
   ]
  },
  {
   "cell_type": "code",
   "execution_count": 101,
   "id": "12a4163e-4376-40c5-b415-e57b2925c4c1",
   "metadata": {},
   "outputs": [],
   "source": [
    "series = generate_time_series(1, n_steps+10)"
   ]
  },
  {
   "cell_type": "code",
   "execution_count": 103,
   "id": "3a8e6895-cfaf-48e6-adc4-07e2fa607f13",
   "metadata": {},
   "outputs": [
    {
     "data": {
      "text/plain": [
       "(1, 60, 1)"
      ]
     },
     "execution_count": 103,
     "metadata": {},
     "output_type": "execute_result"
    }
   ],
   "source": [
    "series.shape # We have one batch with 60 time stamps containing one feature"
   ]
  },
  {
   "cell_type": "code",
   "execution_count": 108,
   "id": "fe7fbe52-c800-4b9f-851f-56114a4756ed",
   "metadata": {},
   "outputs": [],
   "source": [
    "x_new, y_new = series[:,:n_steps], series[:, n_steps:]"
   ]
  },
  {
   "cell_type": "code",
   "execution_count": 109,
   "id": "820d05a1-f6eb-42d2-b227-04238c34b093",
   "metadata": {},
   "outputs": [
    {
     "data": {
      "text/plain": [
       "(1, 50, 1)"
      ]
     },
     "execution_count": 109,
     "metadata": {},
     "output_type": "execute_result"
    }
   ],
   "source": [
    "x_new.shape"
   ]
  },
  {
   "cell_type": "code",
   "execution_count": 110,
   "id": "b53b66f0-f733-416d-a0eb-57b3f6a3bd52",
   "metadata": {},
   "outputs": [
    {
     "data": {
      "text/plain": [
       "(1, 10, 1)"
      ]
     },
     "execution_count": 110,
     "metadata": {},
     "output_type": "execute_result"
    }
   ],
   "source": [
    "y_new.shape"
   ]
  },
  {
   "cell_type": "code",
   "execution_count": null,
   "id": "6674d3f0-f345-46d7-bcfc-c85d74b98ea6",
   "metadata": {},
   "outputs": [],
   "source": []
  },
  {
   "cell_type": "code",
   "execution_count": 117,
   "id": "d265a7ff-1a34-41a5-b221-1fecb96b616f",
   "metadata": {},
   "outputs": [
    {
     "name": "stdout",
     "output_type": "stream",
     "text": [
      "(1, 50, 1)\n",
      "(1, 50, 1)\n",
      "(1, 50, 1)\n",
      "(1, 100, 1)\n"
     ]
    }
   ],
   "source": [
    "X = x_new\n",
    "for i in range(10):\n",
    "    pred = rnn.predict(X[:,i:]) # Take everything from timestamp i. Because we're gonna append the prediction we need to shift the input always by one. \n",
    "    print(X[:,i:].shape)\n",
    "    print(pred.shape)\n",
    "    #pred = pred[:, np.newaxis, :]\n",
    "    print(pred.shape)\n",
    "    X = np.concatenate([X, pred], axis = 1)\n",
    "    print(X.shape)\n",
    "    break\n",
    "    \n",
    "    "
   ]
  },
  {
   "cell_type": "code",
   "execution_count": 126,
   "id": "39bb697a-6a06-47af-a60d-3b706a6c7fe4",
   "metadata": {},
   "outputs": [],
   "source": [
    "X = X_new\n",
    "for step_ahead in range(10):\n",
    "    y_pred_one = model.predict(X[:, step_ahead:])[:,np.newaxis, :]\n",
    "    X = np.concatenate([X, y_pred_one], axis=1) # Appending the result to X"
   ]
  },
  {
   "cell_type": "code",
   "execution_count": 135,
   "id": "ae38f76e-6d70-493c-8071-f4594fd7e6cd",
   "metadata": {},
   "outputs": [],
   "source": [
    "y_pred = X[:,n_steps:] # Out Y are the values we appended to X"
   ]
  },
  {
   "cell_type": "code",
   "execution_count": 136,
   "id": "3edbd266-c9a6-430a-ab4f-6565564a03cb",
   "metadata": {},
   "outputs": [
    {
     "data": {
      "text/plain": [
       "array([[[ 0.09437178],\n",
       "        [-0.07423237],\n",
       "        [ 0.03115775],\n",
       "        [-0.00354035],\n",
       "        [ 0.10070175],\n",
       "        [-0.03221845],\n",
       "        [-0.10235183],\n",
       "        [ 0.06562433],\n",
       "        [ 0.06153912],\n",
       "        [ 0.04254112]]], dtype=float32)"
      ]
     },
     "execution_count": 136,
     "metadata": {},
     "output_type": "execute_result"
    }
   ],
   "source": [
    "y_pred"
   ]
  },
  {
   "cell_type": "markdown",
   "id": "2afe0138-d196-4753-8876-db9cd28c4b82",
   "metadata": {},
   "source": [
    "#### Option 2 (Change the output of the last Dense Layer)\n",
    "\n",
    "-> What's happening here exactly?   \n",
    "    \n",
    "    1. We don't have return sequences activated for the last RNN layer. That means this layer outputs only the value of the last time stamp  \n",
    "    2. It would be better to forecast the next n-values on the last n-timestamps"
   ]
  },
  {
   "cell_type": "code",
   "execution_count": 137,
   "id": "b46d20d6-4868-4d14-9aa9-a4bccf1f3cdf",
   "metadata": {},
   "outputs": [],
   "source": [
    "np.random.seed(42)\n",
    "\n",
    "n_steps = 50\n",
    "series = generate_time_series(10000, n_steps + 10) # n_steps +1 generate us a label, [batch_size, time_stemps, num_features]\n",
    "X_train, y_train = series[:7000, :n_steps], series[:7000, -10, 0] # We take the first 7000 Batches for Training, Our Y is everything from the 7000th batch containing only the last value of the ts\n",
    "X_valid, y_valid = series[7000:9000, :n_steps], series[7000:9000, -10,0]\n",
    "X_test, y_test = series[9000:, :n_steps], series[9000:, -10,0] "
   ]
  },
  {
   "cell_type": "code",
   "execution_count": 138,
   "id": "d70eebd9-c79e-4943-b28a-90666a094901",
   "metadata": {},
   "outputs": [],
   "source": [
    "model = keras.models.Sequential([\n",
    "    keras.layers.SimpleRNN(20, return_sequences=True, input_shape = [None, 1]),\n",
    "    keras.layers.SimpleRNN(20),\n",
    "    keras.layers.Dense(10)\n",
    "])"
   ]
  },
  {
   "cell_type": "code",
   "execution_count": 139,
   "id": "3cb78171-006c-4d93-99ee-6944235884af",
   "metadata": {},
   "outputs": [],
   "source": [
    "model.compile(optimizer=keras.optimizers.Adam(), loss=keras.losses.mean_squared_error)"
   ]
  },
  {
   "cell_type": "code",
   "execution_count": 140,
   "id": "0316de6b-5948-40bc-a339-43d20bb3eca7",
   "metadata": {},
   "outputs": [
    {
     "name": "stdout",
     "output_type": "stream",
     "text": [
      "Epoch 1/5\n",
      "219/219 [==============================] - 13s 56ms/step - loss: 0.1572 - val_loss: 0.1497\n",
      "Epoch 2/5\n",
      "219/219 [==============================] - 12s 56ms/step - loss: 0.1485 - val_loss: 0.1506\n",
      "Epoch 3/5\n",
      "219/219 [==============================] - 12s 55ms/step - loss: 0.1483 - val_loss: 0.1491\n",
      "Epoch 4/5\n",
      "219/219 [==============================] - 12s 54ms/step - loss: 0.1481 - val_loss: 0.1497\n",
      "Epoch 5/5\n",
      "219/219 [==============================] - 12s 55ms/step - loss: 0.1480 - val_loss: 0.1485\n"
     ]
    }
   ],
   "source": [
    "history = model.fit(x_train, y_train, epochs=5, validation_data=(x_valid, y_valid))"
   ]
  },
  {
   "cell_type": "code",
   "execution_count": 141,
   "id": "13362499-5ecb-4186-ba6a-9ee61ba3f31a",
   "metadata": {},
   "outputs": [],
   "source": [
    "y_pred = model.predict(X_new)"
   ]
  },
  {
   "cell_type": "code",
   "execution_count": 142,
   "id": "7f4a1e0a-d7de-4042-987e-a1749bd7343e",
   "metadata": {},
   "outputs": [
    {
     "data": {
      "text/plain": [
       "array([[-0.03804931, -0.0136443 ,  0.00755197,  0.02146455, -0.02326903,\n",
       "        -0.02160082, -0.01840174, -0.00405286, -0.04064606, -0.03393946]],\n",
       "      dtype=float32)"
      ]
     },
     "execution_count": 142,
     "metadata": {},
     "output_type": "execute_result"
    }
   ],
   "source": [
    "y_pred"
   ]
  },
  {
   "cell_type": "markdown",
   "id": "bed12539-dbac-48f4-9d80-b207bc0f337c",
   "metadata": {},
   "source": [
    "### Option 3 (Seq2Seq)\n",
    "\n",
    "__Output of the model:__ At Time step 0 the model will output a vector containing the forecasts for time steps 1-10. At Time step 1 the model will forecast the value 1-11  \n",
    "__Each target is a sequence of the same length as the input__\n",
    "\n",
    "WE ONLY USE THE LAST TIME STAMP OF THE PREDICTION -> For that we need a own evaluation metric"
   ]
  },
  {
   "cell_type": "code",
   "execution_count": 143,
   "id": "47f73dce-b1b0-4867-a5bb-bc893feef36c",
   "metadata": {},
   "outputs": [],
   "source": [
    "Y = np.empty((10000, n_steps, 10))"
   ]
  },
  {
   "cell_type": "code",
   "execution_count": 148,
   "id": "9d8fcb76-102d-42bd-a455-5a1840496d0e",
   "metadata": {},
   "outputs": [
    {
     "data": {
      "text/plain": [
       "(10000, 50, 10)"
      ]
     },
     "execution_count": 148,
     "metadata": {},
     "output_type": "execute_result"
    }
   ],
   "source": [
    "Y.shape # 10.000 batches with 50 time steps each. Containing 10 Features/Targets"
   ]
  },
  {
   "cell_type": "code",
   "execution_count": 158,
   "id": "984fb02e-cd40-4aa2-8851-5872a235735f",
   "metadata": {},
   "outputs": [
    {
     "data": {
      "text/plain": [
       "array([[0., 0., 0., ..., 0., 0., 0.],\n",
       "       [0., 0., 0., ..., 0., 0., 0.],\n",
       "       [0., 0., 0., ..., 0., 0., 0.],\n",
       "       ...,\n",
       "       [0., 0., 0., ..., 0., 0., 0.],\n",
       "       [0., 0., 0., ..., 0., 0., 0.],\n",
       "       [0., 0., 0., ..., 0., 0., 0.]])"
      ]
     },
     "execution_count": 158,
     "metadata": {},
     "output_type": "execute_result"
    }
   ],
   "source": [
    "Y[:,:,0]"
   ]
  },
  {
   "cell_type": "code",
   "execution_count": 163,
   "id": "227c24e5-e578-4c15-b4a2-9c3db6f96d5a",
   "metadata": {},
   "outputs": [
    {
     "data": {
      "text/plain": [
       "(10000, 50)"
      ]
     },
     "execution_count": 163,
     "metadata": {},
     "output_type": "execute_result"
    }
   ],
   "source": [
    "Y[:,:,0].shape"
   ]
  },
  {
   "cell_type": "code",
   "execution_count": 162,
   "id": "70df951a-73c1-4de9-b260-2246151bd362",
   "metadata": {},
   "outputs": [
    {
     "data": {
      "text/plain": [
       "(10000, 50)"
      ]
     },
     "execution_count": 162,
     "metadata": {},
     "output_type": "execute_result"
    }
   ],
   "source": [
    "series[:,i:i+n_steps, 0].shape"
   ]
  },
  {
   "cell_type": "code",
   "execution_count": 160,
   "id": "1b7b2bc9-bb2e-4d02-8fbd-fc16cc8087e8",
   "metadata": {},
   "outputs": [],
   "source": [
    "# Range stop is exlusive that means (1,10+1) will output values from 1-10\n",
    "for i in range(1, 10+1):\n",
    "    Y[:,:,i-1] = series[:,i:i+n_steps, 0]"
   ]
  },
  {
   "cell_type": "code",
   "execution_count": 173,
   "id": "cc1a0ea7-dec7-4cc7-a9d8-4f5954854f59",
   "metadata": {},
   "outputs": [],
   "source": [
    "Y_train = Y[:7000]\n",
    "Y_valid = Y[7000:9000]\n",
    "Y_test = Y[9000:]"
   ]
  },
  {
   "cell_type": "code",
   "execution_count": 179,
   "id": "7818e1c3-7c08-4726-8509-714c55bb5170",
   "metadata": {},
   "outputs": [],
   "source": [
    "model = keras.models.Sequential([\n",
    "    keras.layers.LSTM(20, return_sequences = True, input_shape = [None, 1]),\n",
    "    keras.layers.LSTM(20, return_sequences = True),\n",
    "    keras.layers.TimeDistributed(keras.layers.Dense(10))\n",
    "])"
   ]
  },
  {
   "cell_type": "code",
   "execution_count": 180,
   "id": "768b3041-95e0-426f-a28b-046cff1c790f",
   "metadata": {},
   "outputs": [],
   "source": [
    "def last_time_step_mse(Y_true, Y_pred):\n",
    "    return keras.metrics.mean_squared_error(Y_true[:,-1], Y_pred[:,-1])"
   ]
  },
  {
   "cell_type": "code",
   "execution_count": 181,
   "id": "e1682367-0ccd-449f-968c-6dd0c1af6bc1",
   "metadata": {},
   "outputs": [],
   "source": [
    "model.compile(loss=\"mse\", optimizer=keras.optimizers.Adam(learning_rate=0.01), metrics=[last_time_step_mse])"
   ]
  },
  {
   "cell_type": "code",
   "execution_count": 182,
   "id": "f163f0df-93c1-4284-b006-24353a959ad0",
   "metadata": {},
   "outputs": [
    {
     "name": "stdout",
     "output_type": "stream",
     "text": [
      "Epoch 1/5\n"
     ]
    },
    {
     "name": "stderr",
     "output_type": "stream",
     "text": [
      "2021-10-18 13:20:35.657566: I tensorflow/stream_executor/cuda/cuda_dnn.cc:369] Loaded cuDNN version 8100\n"
     ]
    },
    {
     "name": "stdout",
     "output_type": "stream",
     "text": [
      "219/219 [==============================] - 5s 11ms/step - loss: 0.0469 - last_time_step_mse: 0.0330 - val_loss: 0.0304 - val_last_time_step_mse: 0.0157\n",
      "Epoch 2/5\n",
      "219/219 [==============================] - 2s 9ms/step - loss: 0.0266 - last_time_step_mse: 0.0117 - val_loss: 0.0230 - val_last_time_step_mse: 0.0074\n",
      "Epoch 3/5\n",
      "219/219 [==============================] - 2s 9ms/step - loss: 0.0205 - last_time_step_mse: 0.0058 - val_loss: 0.0187 - val_last_time_step_mse: 0.0045\n",
      "Epoch 4/5\n",
      "219/219 [==============================] - 2s 9ms/step - loss: 0.0179 - last_time_step_mse: 0.0045 - val_loss: 0.0169 - val_last_time_step_mse: 0.0040\n",
      "Epoch 5/5\n",
      "219/219 [==============================] - 2s 9ms/step - loss: 0.0167 - last_time_step_mse: 0.0041 - val_loss: 0.0159 - val_last_time_step_mse: 0.0038\n"
     ]
    }
   ],
   "source": [
    "history = model.fit(X_train, Y_train, epochs=5,validation_data=(X_valid, Y_valid))"
   ]
  },
  {
   "cell_type": "code",
   "execution_count": null,
   "id": "61102331-2e9b-4bf4-9b41-974972ea4f14",
   "metadata": {},
   "outputs": [],
   "source": []
  },
  {
   "cell_type": "markdown",
   "id": "95d51afd-e6af-4f68-b075-3b0fb5f3e5e1",
   "metadata": {},
   "source": [
    "## Multiple forecast (Summary)\n",
    "\n",
    "There are two options to forecast multiple timestamps ahead. \n",
    "\n",
    "__1. Option__ (Seq2Vec)   \n",
    "    - Using the already trained model and appending iterativly the prediction to the the inputs  \n",
    "    - Acting if the predicted value actually occured  \n",
    "    - Predictions in the near future will be more accurate then predictions far away (Errors accumulate)  \n",
    "__2. Option__ (Seq2Vec) \n",
    "    -  Train a separate RNN to predict all 10 next values at once  \n",
    "__3. Option__ (Seq2Seq)   \n",
    "    - Let the model forecast 1 time step ahead. TIme step 0 the model will output values from 1-11 and so on.   \n",
    "    - Only the last time step is important for us! We only use it  \n",
    "    - Only the last time step can be used for evaluation -> So we need to define a measure for that"
   ]
  },
  {
   "cell_type": "code",
   "execution_count": null,
   "id": "2948ba05-b5fa-4ba7-b86b-06f13c4c1581",
   "metadata": {},
   "outputs": [],
   "source": []
  }
 ],
 "metadata": {
  "kernelspec": {
   "display_name": "Python 3 (ipykernel)",
   "language": "python",
   "name": "python3"
  },
  "language_info": {
   "codemirror_mode": {
    "name": "ipython",
    "version": 3
   },
   "file_extension": ".py",
   "mimetype": "text/x-python",
   "name": "python",
   "nbconvert_exporter": "python",
   "pygments_lexer": "ipython3",
   "version": "3.8.0"
  }
 },
 "nbformat": 4,
 "nbformat_minor": 5
}
