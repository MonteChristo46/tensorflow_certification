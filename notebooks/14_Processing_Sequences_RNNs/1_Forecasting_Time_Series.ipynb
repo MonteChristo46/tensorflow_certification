{
 "cells": [
  {
   "cell_type": "markdown",
   "id": "6a45a00b-2210-4208-8def-f6f42bd3c674",
   "metadata": {},
   "source": [
    "# Forecasting a time series"
   ]
  },
  {
   "cell_type": "code",
   "execution_count": 1,
   "id": "b2ffd533-1321-4888-ad09-fe492d4d47ea",
   "metadata": {},
   "outputs": [],
   "source": [
    "import tensorflow as tf\n",
    "from tensorflow import keras\n",
    "import numpy as np\n",
    "import pandas as pd\n",
    "import matplotlib.pyplot as plt"
   ]
  },
  {
   "cell_type": "markdown",
   "id": "0ad36f17-7446-4449-bd04-339bbca45e5e",
   "metadata": {},
   "source": [
    "## Intro to Time Series\n",
    "\n",
    "### Univariate vs. Multivariate Time Series\n",
    "- Univariate time series containing a sequence of one feature \n",
    "- Multivariate time series containing a sequence of multiple features\n",
    "\n",
    "### Use Cases\n",
    "1. Predicting future values of this time series\n",
    "2. Imputation predicting missing values"
   ]
  },
  {
   "cell_type": "markdown",
   "id": "d85aca42-6174-49f8-8da2-11891f31affb",
   "metadata": {},
   "source": [
    "## Basic Ideas of RNN\n",
    "\n",
    "Each Neuron (!) propagates back in time:   \n",
    "    - The input will be concatenated with the hidden state _h(t)_.   \n",
    "    - The first _h(t)_ = 0   \n",
    "    - Afterwards the concatenated input goes trough an activation function - mostly _tanh()_\n",
    "    - The output y(t) becomes the new h(t) and this happends again for n-time-stamps"
   ]
  },
  {
   "cell_type": "markdown",
   "id": "d4363382-925b-4385-a03e-016d01fd24f1",
   "metadata": {},
   "source": [
    "<img src=\"../../img/1501.png\" />"
   ]
  },
  {
   "cell_type": "markdown",
   "id": "4970e14f-a14a-4e94-887d-9ab09b6534e6",
   "metadata": {},
   "source": [
    "## Deep RNNs"
   ]
  },
  {
   "cell_type": "markdown",
   "id": "977f6e84-1139-4577-aa1e-d43600e45284",
   "metadata": {},
   "source": [
    "<img src=\"../../img/1507.png\" />\n",
    "\n",
    "```python\n",
    "model = keras.models.Sequential([\n",
    "    keras.layers.SimpleRNN(20, return_sequences=True, input_shape=[None, 1]),\n",
    "    keras.layers.SimpleRNN(20, return_sequences=True),\n",
    "    keras.layers.SimpleRNN(1)\n",
    "])\n",
    "```"
   ]
  },
  {
   "cell_type": "markdown",
   "id": "31abbcab-f459-454a-a000-0bb6b97d2ad9",
   "metadata": {},
   "source": [
    "### Notes to Deep RNN: \n",
    "1. Was zurzeit am meisten Sinn macht für mich:  \n",
    "    Die Units sind die Neuronen im Netz  \n",
    "    Jedes Neuron entfaltet sich, abhängig der Länge der Time Series?  "
   ]
  },
  {
   "cell_type": "code",
   "execution_count": null,
   "id": "b6e47aef-0119-49b8-83a9-d9cb24c5a9c9",
   "metadata": {},
   "outputs": [],
   "source": []
  },
  {
   "cell_type": "markdown",
   "id": "d9568666-e2aa-4009-8ab8-cb512e0d16fc",
   "metadata": {},
   "source": [
    "# Creating the time series"
   ]
  },
  {
   "cell_type": "markdown",
   "id": "723b1c68-c596-40a1-9ed6-fe04c93a8210",
   "metadata": {},
   "source": [
    "### Helper function for creating time serie\n",
    "\n",
    "\n",
    "__What are the Time steps?__\n",
    "\n",
    "Input Features of RNN are normally represented as [batch_size, time steps, dimensionality]"
   ]
  },
  {
   "cell_type": "code",
   "execution_count": 2,
   "id": "df3a45af-d349-4a23-b0e3-8782679003d9",
   "metadata": {},
   "outputs": [],
   "source": [
    "def generate_time_series(batch_size, n_steps):\n",
    "    freq1, freq2, offsets1, offsets2 = np.random.rand(4, batch_size, 1) # Creates an array of given shape (4, batch_size, 1)\n",
    "    time = np.linspace(0, 1, n_steps)\n",
    "    series = 0.5 * np.sin((time - offsets1) * (freq1 * 10 + 10))  #   wave 1\n",
    "    series += 0.2 * np.sin((time - offsets2) * (freq2 * 20 + 20)) # + wave 2\n",
    "    series += 0.1 * (np.random.rand(batch_size, n_steps) - 0.5)   # + noise\n",
    "    return series[..., np.newaxis].astype(np.float32)"
   ]
  },
  {
   "cell_type": "code",
   "execution_count": 3,
   "id": "300648c3-bbe6-4951-9d37-dcbd1e7c651a",
   "metadata": {},
   "outputs": [],
   "source": [
    "def plt_history(history: \"history\"):\n",
    "    df = pd.DataFrame(history.history)\n",
    "    df.plot(figsize = (8,5))\n",
    "    plt.grid(True)\n",
    "    plt.gca().set_ylim(0,1)"
   ]
  },
  {
   "cell_type": "code",
   "execution_count": 4,
   "id": "61c55d85-cf24-4010-b58f-f673d30a2349",
   "metadata": {},
   "outputs": [],
   "source": [
    "def plot_series(series, y=None, y_pred=None, x_label=\"$t$\", y_label=\"$x(t)$\"):\n",
    "    plt.plot(series, \".-\")\n",
    "    if y is not None:\n",
    "        plt.plot(n_steps, y, \"bx\", markersize=10) # X marker\n",
    "    if y_pred is not None:\n",
    "        plt.plot(n_steps, y_pred, \"ro\") # Red dot marker\n",
    "    plt.grid(True)\n",
    "    if x_label:\n",
    "        plt.xlabel(x_label, fontsize=16)\n",
    "    if y_label:\n",
    "        plt.ylabel(y_label, fontsize=16, rotation=0)\n",
    "    plt.hlines(0, 0, 100, linewidth=1)\n",
    "    plt.axis([0, n_steps + 1, -1, 1])\n"
   ]
  },
  {
   "cell_type": "code",
   "execution_count": 5,
   "id": "679b3b92-aea6-4537-9048-3d97d3916886",
   "metadata": {},
   "outputs": [],
   "source": [
    "def plot_multiple_forecasts(X, Y, Y_pred):\n",
    "    n_steps = X.shape[1]\n",
    "    ahead = Y.shape[1]\n",
    "    plot_series(X[0, :, 0])\n",
    "    plt.plot(np.arange(n_steps, n_steps + ahead), Y[0, :, 0], \"ro-\", label=\"Actual\")\n",
    "    plt.plot(np.arange(n_steps, n_steps + ahead), Y_pred[0, :, 0], \"bx-\", label=\"Forecast\", markersize=10)\n",
    "    plt.axis([0, n_steps + ahead, -1, 1])\n",
    "    plt.legend(fontsize=14)"
   ]
  },
  {
   "cell_type": "markdown",
   "id": "fd6dd2c3-4a17-405b-942c-4747b95b0532",
   "metadata": {},
   "source": [
    "### Preparing Datasets "
   ]
  },
  {
   "cell_type": "code",
   "execution_count": 6,
   "id": "644009c4-bd1c-47e5-86cd-04da4c574ffc",
   "metadata": {},
   "outputs": [],
   "source": [
    "n_steps = 50\n",
    "series = generate_time_series(10000, n_steps+1) # n_steps +1 generate us a label"
   ]
  },
  {
   "cell_type": "code",
   "execution_count": 7,
   "id": "7e4afd6c-5e0c-4c9f-8391-0e3b45ec1bc3",
   "metadata": {},
   "outputs": [
    {
     "data": {
      "text/plain": [
       "(10000, 51, 1)"
      ]
     },
     "execution_count": 7,
     "metadata": {},
     "output_type": "execute_result"
    }
   ],
   "source": [
    "series.shape # (batch_size, time steps, dimensionality)"
   ]
  },
  {
   "cell_type": "code",
   "execution_count": 8,
   "id": "5634f368-8dc8-4b1a-a379-2e93761dd273",
   "metadata": {},
   "outputs": [],
   "source": [
    "x_train, y_train = series[:7000, :n_steps], series[:7000, -1] # -1 takes the last time series step"
   ]
  },
  {
   "cell_type": "code",
   "execution_count": 9,
   "id": "3dc573a5-25dd-4429-b660-f5560ed62b13",
   "metadata": {},
   "outputs": [
    {
     "data": {
      "text/plain": [
       "array([[-0.26191163],\n",
       "       [ 0.29369795],\n",
       "       [ 0.4783503 ],\n",
       "       ...,\n",
       "       [-0.01809946],\n",
       "       [-0.0135646 ],\n",
       "       [-0.579271  ]], dtype=float32)"
      ]
     },
     "execution_count": 9,
     "metadata": {},
     "output_type": "execute_result"
    }
   ],
   "source": [
    "y_train"
   ]
  },
  {
   "cell_type": "code",
   "execution_count": 10,
   "id": "429e89cd-ea15-4620-bcb7-85dd0da1e770",
   "metadata": {},
   "outputs": [],
   "source": [
    "x_valid, y_valid = series[7000:9000, :n_steps], series[7000:9000, -1]"
   ]
  },
  {
   "cell_type": "code",
   "execution_count": 11,
   "id": "e9b001b5-8d0a-4152-939c-675add3af52f",
   "metadata": {},
   "outputs": [],
   "source": [
    "x_test, y_test = series[9000:, :n_steps], series[:9000, -1]"
   ]
  },
  {
   "cell_type": "markdown",
   "id": "95ba3a9a-079f-4a16-b5cd-dac425d7948e",
   "metadata": {},
   "source": [
    "## Plotting data"
   ]
  },
  {
   "cell_type": "code",
   "execution_count": 12,
   "id": "b86cb00b-b0b9-401b-9b8e-4dccd98cf312",
   "metadata": {},
   "outputs": [
    {
     "data": {
      "image/png": "[encoded data removed]",
      "text/plain": [
       "<Figure size 864x288 with 3 Axes>"
      ]
     },
     "metadata": {
      "needs_background": "light"
     },
     "output_type": "display_data"
    }
   ],
   "source": [
    "fig, axes = plt.subplots(nrows=1, ncols=3, sharey=True, figsize=(12, 4))\n",
    "for col in range(3):\n",
    "    plt.sca(axes[col])\n",
    "    plot_series(x_valid[col, :, 0], y_valid[col, 0],\n",
    "                y_label=(\"$x(t)$\" if col==0 else None))\n",
    "#save_fig(\"time_series_plot\")\n",
    "plt.show()"
   ]
  },
  {
   "cell_type": "markdown",
   "id": "46215c2b-8824-43e1-b511-cd188f0bd661",
   "metadata": {},
   "source": [
    "## Baseline Metric\n",
    "Before implementing a complex RNN it's usefull first to have a baseline. \n",
    "\n",
    "Two options: \n",
    "\n",
    "__1. Naive Forecasting__  \n",
    "    - Just calculate the MSE based on the validation data set\n",
    "    \n",
    "__2. Building a very simple model__  \n",
    "    - Dense Model  \n",
    "    - Linear Regression Model  \n",
    "    - ...  "
   ]
  },
  {
   "cell_type": "markdown",
   "id": "c5ebc611-1866-473c-9c04-fb25b8d48996",
   "metadata": {},
   "source": [
    "#### Naive Forecasting  (MSE~0.02)"
   ]
  },
  {
   "cell_type": "code",
   "execution_count": 13,
   "id": "f1d8e8a0-d706-4bfb-9b29-ecf14b1125bf",
   "metadata": {},
   "outputs": [],
   "source": [
    "y_pred = x_valid[:,-1]"
   ]
  },
  {
   "cell_type": "code",
   "execution_count": 14,
   "id": "7aac6c17-d632-48c1-85b6-506d0da5e29f",
   "metadata": {},
   "outputs": [],
   "source": [
    "mse = tf.keras.losses.mean_squared_error(y_pred, y_valid)"
   ]
  },
  {
   "cell_type": "code",
   "execution_count": 15,
   "id": "4a556c83-6fc5-4f87-a015-2195fbbf758e",
   "metadata": {},
   "outputs": [
    {
     "data": {
      "text/plain": [
       "0.020511918"
      ]
     },
     "execution_count": 15,
     "metadata": {},
     "output_type": "execute_result"
    }
   ],
   "source": [
    "np.mean(mse) "
   ]
  },
  {
   "cell_type": "code",
   "execution_count": 16,
   "id": "7efaf8f9-362c-4320-a099-b129c9e620a0",
   "metadata": {},
   "outputs": [
    {
     "data": {
      "image/png": "[encoded data removed]",
      "text/plain": [
       "<Figure size 432x288 with 1 Axes>"
      ]
     },
     "metadata": {
      "needs_background": "light"
     },
     "output_type": "display_data"
    }
   ],
   "source": [
    "plot_series(x_valid[0, :, 0], y_valid[0, 0], y_pred[0, 0])\n",
    "plt.show()"
   ]
  },
  {
   "cell_type": "markdown",
   "id": "9b7329df-a773-4cd1-a93e-86ad57b36db5",
   "metadata": {},
   "source": [
    "#### Building a Dense Model (MSE~0.004)"
   ]
  },
  {
   "cell_type": "code",
   "execution_count": 17,
   "id": "7ce7f6aa-d9a6-4a7e-8d8b-36f2417cea01",
   "metadata": {},
   "outputs": [],
   "source": [
    "model = tf.keras.models.Sequential([\n",
    "    tf.keras.layers.Flatten(input_shape = [n_steps, 1]),\n",
    "    tf.keras.layers.Dense(1)\n",
    "])"
   ]
  },
  {
   "cell_type": "code",
   "execution_count": 18,
   "id": "49de46e3-1475-4094-a3e9-b1573984f383",
   "metadata": {},
   "outputs": [],
   "source": [
    "model.compile(optimizer=keras.optimizers.Adam(), loss=keras.losses.mean_squared_error)"
   ]
  },
  {
   "cell_type": "code",
   "execution_count": 19,
   "id": "5179bb14-41a0-4b0f-b6f2-d537403820b9",
   "metadata": {},
   "outputs": [
    {
     "name": "stdout",
     "output_type": "stream",
     "text": [
      "Epoch 1/20\n",
      "219/219 [==============================] - 0s 996us/step - loss: 0.2712 - val_loss: 0.0794\n",
      "Epoch 2/20\n",
      "219/219 [==============================] - 0s 585us/step - loss: 0.0546 - val_loss: 0.0395\n",
      "Epoch 3/20\n",
      "219/219 [==============================] - 0s 648us/step - loss: 0.0304 - val_loss: 0.0242\n",
      "Epoch 4/20\n",
      "219/219 [==============================] - 0s 643us/step - loss: 0.0202 - val_loss: 0.0170\n",
      "Epoch 5/20\n",
      "219/219 [==============================] - 0s 638us/step - loss: 0.0149 - val_loss: 0.0131\n",
      "Epoch 6/20\n",
      "219/219 [==============================] - 0s 636us/step - loss: 0.0120 - val_loss: 0.0111\n",
      "Epoch 7/20\n",
      "219/219 [==============================] - 0s 669us/step - loss: 0.0102 - val_loss: 0.0097\n",
      "Epoch 8/20\n",
      "219/219 [==============================] - 0s 633us/step - loss: 0.0091 - val_loss: 0.0090\n",
      "Epoch 9/20\n",
      "219/219 [==============================] - 0s 631us/step - loss: 0.0083 - val_loss: 0.0083\n",
      "Epoch 10/20\n",
      "219/219 [==============================] - 0s 680us/step - loss: 0.0076 - val_loss: 0.0076\n",
      "Epoch 11/20\n",
      "219/219 [==============================] - 0s 673us/step - loss: 0.0070 - val_loss: 0.0070\n",
      "Epoch 12/20\n",
      "219/219 [==============================] - 0s 615us/step - loss: 0.0064 - val_loss: 0.0066\n",
      "Epoch 13/20\n",
      "219/219 [==============================] - 0s 611us/step - loss: 0.0060 - val_loss: 0.0061\n",
      "Epoch 14/20\n",
      "219/219 [==============================] - 0s 603us/step - loss: 0.0056 - val_loss: 0.0058\n",
      "Epoch 15/20\n",
      "219/219 [==============================] - 0s 659us/step - loss: 0.0053 - val_loss: 0.0055\n",
      "Epoch 16/20\n",
      "219/219 [==============================] - 0s 601us/step - loss: 0.0050 - val_loss: 0.0052\n",
      "Epoch 17/20\n",
      "219/219 [==============================] - 0s 616us/step - loss: 0.0048 - val_loss: 0.0049\n",
      "Epoch 18/20\n",
      "219/219 [==============================] - 0s 647us/step - loss: 0.0046 - val_loss: 0.0048\n",
      "Epoch 19/20\n",
      "219/219 [==============================] - 0s 631us/step - loss: 0.0045 - val_loss: 0.0047\n",
      "Epoch 20/20\n",
      "219/219 [==============================] - 0s 660us/step - loss: 0.0043 - val_loss: 0.0045\n"
     ]
    }
   ],
   "source": [
    "history = model.fit(x_train, y_train, epochs=20, validation_data=(x_valid, y_valid))"
   ]
  },
  {
   "cell_type": "code",
   "execution_count": 20,
   "id": "4b1a34a7-8e51-4474-85c8-4bfda9e151c8",
   "metadata": {},
   "outputs": [
    {
     "data": {
      "image/png": "[encoded data removed]",
      "text/plain": [
       "<Figure size 432x288 with 1 Axes>"
      ]
     },
     "metadata": {
      "needs_background": "light"
     },
     "output_type": "display_data"
    }
   ],
   "source": [
    "y_pred = model.predict(x_valid)\n",
    "plot_series(x_valid[0, :, 0], y_valid[0, 0], y_pred[0, 0])\n",
    "plt.show()"
   ]
  },
  {
   "cell_type": "code",
   "execution_count": 21,
   "id": "308baf24-9087-4bbd-b0b2-d99f42259d27",
   "metadata": {},
   "outputs": [
    {
     "data": {
      "text/plain": [
       "array([0.34559345], dtype=float32)"
      ]
     },
     "execution_count": 21,
     "metadata": {},
     "output_type": "execute_result"
    }
   ],
   "source": [
    "y_pred[0]"
   ]
  },
  {
   "cell_type": "markdown",
   "id": "b4b1d2cf-3210-4815-8519-518411af389c",
   "metadata": {},
   "source": [
    "## Implementing the RNN\n",
    "\n",
    "__return_sequences__: To output the hidden state"
   ]
  },
  {
   "cell_type": "code",
   "execution_count": 23,
   "id": "173c9b84-d25a-4ced-b792-cf51e7be70bf",
   "metadata": {},
   "outputs": [],
   "source": [
    "rnn = keras.models.Sequential([\n",
    "    keras.layers.SimpleRNN(20, return_sequences=True, input_shape=[None, 1]),\n",
    "    keras.layers.SimpleRNN(20, return_sequences = True),\n",
    "    keras.layers.Dense(1)\n",
    "])"
   ]
  },
  {
   "cell_type": "code",
   "execution_count": 24,
   "id": "b066b9e5-3eb8-42d1-b4b6-312460ba8080",
   "metadata": {},
   "outputs": [],
   "source": [
    "rnn.compile(optimizer=keras.optimizers.Adam(), loss=keras.losses.mean_squared_error)"
   ]
  },
  {
   "cell_type": "code",
   "execution_count": 25,
   "id": "a7eef9b1-1b4f-485d-a6fb-e29281315601",
   "metadata": {},
   "outputs": [
    {
     "name": "stdout",
     "output_type": "stream",
     "text": [
      "Epoch 1/5\n",
      "219/219 [==============================] - 4s 12ms/step - loss: 0.1450 - val_loss: 0.1418\n",
      "Epoch 2/5\n",
      "219/219 [==============================] - 2s 11ms/step - loss: 0.1420 - val_loss: 0.1402\n",
      "Epoch 3/5\n",
      "219/219 [==============================] - 2s 11ms/step - loss: 0.1408 - val_loss: 0.1402\n",
      "Epoch 4/5\n",
      "219/219 [==============================] - 2s 11ms/step - loss: 0.1394 - val_loss: 0.1355\n",
      "Epoch 5/5\n",
      "219/219 [==============================] - 2s 11ms/step - loss: 0.1344 - val_loss: 0.1294\n"
     ]
    }
   ],
   "source": [
    "history = rnn.fit(x_train, y_train, epochs=5, validation_data=(x_valid, y_valid))"
   ]
  },
  {
   "cell_type": "code",
   "execution_count": 26,
   "id": "84ad0173-e808-440e-a581-61832ab7dc2e",
   "metadata": {},
   "outputs": [
    {
     "data": {
      "image/png": "[encoded data removed]",
      "text/plain": [
       "<Figure size 432x288 with 1 Axes>"
      ]
     },
     "metadata": {
      "needs_background": "light"
     },
     "output_type": "display_data"
    }
   ],
   "source": [
    "y_pred = rnn.predict(x_valid)\n",
    "plot_series(x_valid[0, :, 0], y_valid[0, 0], y_pred[0, 0])\n",
    "plt.show()"
   ]
  },
  {
   "cell_type": "code",
   "execution_count": null,
   "id": "2dfc0ca9-fb93-4b04-8810-bd8a25bc91d7",
   "metadata": {},
   "outputs": [],
   "source": []
  },
  {
   "cell_type": "markdown",
   "id": "a9d07f48-b460-443a-a2df-ba66c502d2d2",
   "metadata": {},
   "source": [
    "### Comparsion of Models"
   ]
  },
  {
   "cell_type": "code",
   "execution_count": 27,
   "id": "68471c57-1672-41ef-947b-1b89b08d5061",
   "metadata": {},
   "outputs": [
    {
     "name": "stdout",
     "output_type": "stream",
     "text": [
      "Model: \"sequential_1\"\n",
      "_________________________________________________________________\n",
      "Layer (type)                 Output Shape              Param #   \n",
      "=================================================================\n",
      "simple_rnn (SimpleRNN)       (None, None, 20)          440       \n",
      "_________________________________________________________________\n",
      "simple_rnn_1 (SimpleRNN)     (None, None, 20)          820       \n",
      "_________________________________________________________________\n",
      "dense_1 (Dense)              (None, None, 1)           21        \n",
      "=================================================================\n",
      "Total params: 1,281\n",
      "Trainable params: 1,281\n",
      "Non-trainable params: 0\n",
      "_________________________________________________________________\n"
     ]
    }
   ],
   "source": [
    "rnn.summary()"
   ]
  },
  {
   "cell_type": "code",
   "execution_count": 28,
   "id": "194c23a6-5cc3-419f-87a3-439d64ff6099",
   "metadata": {},
   "outputs": [
    {
     "name": "stdout",
     "output_type": "stream",
     "text": [
      "Model: \"sequential\"\n",
      "_________________________________________________________________\n",
      "Layer (type)                 Output Shape              Param #   \n",
      "=================================================================\n",
      "flatten (Flatten)            (None, 50)                0         \n",
      "_________________________________________________________________\n",
      "dense (Dense)                (None, 1)                 51        \n",
      "=================================================================\n",
      "Total params: 51\n",
      "Trainable params: 51\n",
      "Non-trainable params: 0\n",
      "_________________________________________________________________\n"
     ]
    }
   ],
   "source": [
    "model.summary()"
   ]
  },
  {
   "cell_type": "markdown",
   "id": "f3e6fed2-1730-4cfc-8522-02894f9c0029",
   "metadata": {},
   "source": [
    "### Forecasting several time steps ahead"
   ]
  },
  {
   "cell_type": "code",
   "execution_count": 29,
   "id": "55cd1889-ce5e-4fef-8952-60a5a6a80439",
   "metadata": {},
   "outputs": [],
   "source": [
    "pred = rnn.predict(x_test)"
   ]
  },
  {
   "cell_type": "code",
   "execution_count": 30,
   "id": "12f90083-abc5-4478-aa7e-549ba5e396d9",
   "metadata": {},
   "outputs": [
    {
     "data": {
      "text/plain": [
       "(1000, 50, 1)"
      ]
     },
     "execution_count": 30,
     "metadata": {},
     "output_type": "execute_result"
    }
   ],
   "source": [
    "pred.shape"
   ]
  },
  {
   "cell_type": "code",
   "execution_count": 31,
   "id": "fc4190fb-cff1-4de8-bc4d-88da821d3126",
   "metadata": {},
   "outputs": [
    {
     "data": {
      "text/plain": [
       "[<matplotlib.lines.Line2D at 0x257f76d3400>]"
      ]
     },
     "execution_count": 31,
     "metadata": {},
     "output_type": "execute_result"
    },
    {
     "data": {
      "image/png": "[encoded data removed]",
      "text/plain": [
       "<Figure size 432x288 with 1 Axes>"
      ]
     },
     "metadata": {
      "needs_background": "light"
     },
     "output_type": "display_data"
    }
   ],
   "source": [
    "plt.plot(x_test[1].flatten())"
   ]
  },
  {
   "cell_type": "code",
   "execution_count": 32,
   "id": "cd1d7e84-f265-4dc9-807a-dfb7d59e1294",
   "metadata": {},
   "outputs": [
    {
     "data": {
      "text/plain": [
       "[<matplotlib.lines.Line2D at 0x257f7424d68>]"
      ]
     },
     "execution_count": 32,
     "metadata": {},
     "output_type": "execute_result"
    },
    {
     "data": {
      "image/png": "[encoded data removed]",
      "text/plain": [
       "<Figure size 432x288 with 1 Axes>"
      ]
     },
     "metadata": {
      "needs_background": "light"
     },
     "output_type": "display_data"
    }
   ],
   "source": [
    "plt.plot(pred[1].flatten())"
   ]
  },
  {
   "cell_type": "code",
   "execution_count": 33,
   "id": "89182dd2-a47a-4f1e-834c-dbc9061c5112",
   "metadata": {},
   "outputs": [],
   "source": [
    "np.random.seed(43)\n",
    "\n",
    "series = generate_time_series(1, 50 + 10)\n",
    "X_new, Y_new = series[:, :50, :], series[:, -10:, :]\n",
    "y_pred = model.predict(x_valid)[..., np.newaxis]\n"
   ]
  },
  {
   "cell_type": "code",
   "execution_count": 34,
   "id": "1b5a87e2-ed2c-496e-b98a-793d80e381b9",
   "metadata": {},
   "outputs": [
    {
     "data": {
      "text/plain": [
       "(7000, 1)"
      ]
     },
     "execution_count": 34,
     "metadata": {},
     "output_type": "execute_result"
    }
   ],
   "source": [
    "y_train.shape"
   ]
  },
  {
   "cell_type": "code",
   "execution_count": 35,
   "id": "4860c4ca-dfcb-41e1-bb29-1efe0336e26e",
   "metadata": {},
   "outputs": [
    {
     "data": {
      "text/plain": [
       "(7000, 50, 1)"
      ]
     },
     "execution_count": 35,
     "metadata": {},
     "output_type": "execute_result"
    }
   ],
   "source": [
    "x_train.shape"
   ]
  },
  {
   "cell_type": "code",
   "execution_count": 36,
   "id": "0212808a-affb-4937-aee5-6a1a7799ab1e",
   "metadata": {},
   "outputs": [
    {
     "data": {
      "text/plain": [
       "array([[-0.26191163],\n",
       "       [ 0.29369795],\n",
       "       [ 0.4783503 ],\n",
       "       ...,\n",
       "       [-0.01809946],\n",
       "       [-0.0135646 ],\n",
       "       [-0.579271  ]], dtype=float32)"
      ]
     },
     "execution_count": 36,
     "metadata": {},
     "output_type": "execute_result"
    }
   ],
   "source": [
    "y_train"
   ]
  },
  {
   "cell_type": "code",
   "execution_count": 37,
   "id": "d7d9ec0a-3170-4132-a917-bdadecbea40c",
   "metadata": {},
   "outputs": [
    {
     "data": {
      "text/plain": [
       "(50, 1)"
      ]
     },
     "execution_count": 37,
     "metadata": {},
     "output_type": "execute_result"
    }
   ],
   "source": [
    "x_train[0].shape"
   ]
  },
  {
   "cell_type": "code",
   "execution_count": 38,
   "id": "94256ab3-5095-4ce4-93c5-d9531a5ce80b",
   "metadata": {},
   "outputs": [
    {
     "data": {
      "text/plain": [
       "array([[[ 0.6613285 ],\n",
       "        [ 0.6778659 ],\n",
       "        [ 0.59817404],\n",
       "        ...,\n",
       "        [-0.7327402 ],\n",
       "        [-0.59464544],\n",
       "        [-0.47457126]],\n",
       "\n",
       "       [[ 0.29419887],\n",
       "        [ 0.29980156],\n",
       "        [ 0.20956858],\n",
       "        ...,\n",
       "        [ 0.18853259],\n",
       "        [ 0.3065423 ],\n",
       "        [ 0.36933923]],\n",
       "\n",
       "       [[-0.05879091],\n",
       "        [-0.15024081],\n",
       "        [-0.20968561],\n",
       "        ...,\n",
       "        [ 0.5201134 ],\n",
       "        [ 0.681085  ],\n",
       "        [ 0.6422654 ]],\n",
       "\n",
       "       ...,\n",
       "\n",
       "       [[-0.6383544 ],\n",
       "        [-0.6940378 ],\n",
       "        [-0.5574098 ],\n",
       "        ...,\n",
       "        [ 0.21986282],\n",
       "        [ 0.09378447],\n",
       "        [-0.02115795]],\n",
       "\n",
       "       [[-0.4912153 ],\n",
       "        [-0.47564963],\n",
       "        [-0.5184569 ],\n",
       "        ...,\n",
       "        [ 0.50001514],\n",
       "        [ 0.4329918 ],\n",
       "        [ 0.18393616]],\n",
       "\n",
       "       [[ 0.114543  ],\n",
       "        [ 0.13494141],\n",
       "        [ 0.05317235],\n",
       "        ...,\n",
       "        [-0.0051771 ],\n",
       "        [-0.17354149],\n",
       "        [-0.4116392 ]]], dtype=float32)"
      ]
     },
     "execution_count": 38,
     "metadata": {},
     "output_type": "execute_result"
    }
   ],
   "source": [
    "x_train"
   ]
  },
  {
   "cell_type": "markdown",
   "id": "95d51afd-e6af-4f68-b075-3b0fb5f3e5e1",
   "metadata": {},
   "source": [
    "## Multiple forecast\n",
    "\n",
    "There are two options to forecast multiple timestamps ahead. \n",
    "\n",
    "__1. Option__   \n",
    "    - Using the already trained model and appending iterativly the prediction to the the inputs  \n",
    "    - Acting if the predicted value actually occured  \n",
    "    - Predictions in the near future will be more accurate then predictions far away (Errors accumulate)  \n",
    "__2. Option__  \n",
    "    -  Train a separate RNN to predict all 10 next values at once"
   ]
  },
  {
   "cell_type": "markdown",
   "id": "bc03965b-27d0-4eea-a7d2-03052c163baa",
   "metadata": {},
   "source": [
    "### Option 1"
   ]
  },
  {
   "cell_type": "code",
   "execution_count": 39,
   "id": "8e3b0a65-5598-4b90-9693-465c9bd94942",
   "metadata": {},
   "outputs": [],
   "source": [
    "series = generate_time_series(1, n_steps+10) # Basically one Batch?! +10 is gonna be our Y"
   ]
  },
  {
   "cell_type": "code",
   "execution_count": 40,
   "id": "3166e5c9-f736-43a1-a5b9-0e655d805aed",
   "metadata": {},
   "outputs": [
    {
     "data": {
      "text/plain": [
       "(1, 60, 1)"
      ]
     },
     "execution_count": 40,
     "metadata": {},
     "output_type": "execute_result"
    }
   ],
   "source": [
    "series.shape # [batch_size, time steps, input dimensions]"
   ]
  },
  {
   "cell_type": "code",
   "execution_count": 41,
   "id": "ccd52979-220c-4d80-9376-cc77347853af",
   "metadata": {},
   "outputs": [],
   "source": [
    "x_new, y_new = series[:, :n_steps], series[:, n_steps:] # [batch_size, time steps, input dimensions] We wanna use those data to train the model."
   ]
  },
  {
   "cell_type": "code",
   "execution_count": 42,
   "id": "1e768c7d-a642-4ed2-b02f-0744da7abf80",
   "metadata": {
    "tags": []
   },
   "outputs": [
    {
     "data": {
      "text/plain": [
       "[<matplotlib.lines.Line2D at 0x257efdd5208>]"
      ]
     },
     "execution_count": 42,
     "metadata": {},
     "output_type": "execute_result"
    },
    {
     "data": {
      "image/png": "[encoded data removed]",
      "text/plain": [
       "<Figure size 432x288 with 1 Axes>"
      ]
     },
     "metadata": {
      "needs_background": "light"
     },
     "output_type": "display_data"
    }
   ],
   "source": [
    "plt.plot(x_new[0].flatten())"
   ]
  },
  {
   "cell_type": "code",
   "execution_count": null,
   "id": "8cbc6f65-931c-4ae0-b9c4-f1305b3a7582",
   "metadata": {},
   "outputs": [],
   "source": []
  },
  {
   "cell_type": "code",
   "execution_count": 43,
   "id": "20b0553b-e37a-40d4-83bb-e136c938246f",
   "metadata": {},
   "outputs": [],
   "source": [
    "X = x_new\n",
    "for i in range(10):\n",
    "    y_pred_one = rnn.predict(x_new[:,i:]) #[batch_size, time steps, input dimensions] Give me everything from time_stamp i \n",
    "    a = y_pred_one[:, np.newaxis, :] # I don't understand why we change the shape\n",
    "    X = np.concatenate([x_new, y_pred_one], axis=1) # Adding the new prediction to the dataset"
   ]
  },
  {
   "cell_type": "code",
   "execution_count": 44,
   "id": "0af1d4c7-c400-4e02-b54d-2531be3bddd6",
   "metadata": {},
   "outputs": [],
   "source": [
    "y_pred = X[:,n_steps:]"
   ]
  },
  {
   "cell_type": "code",
   "execution_count": 45,
   "id": "d4c5ddf1-dd34-42c7-a7f5-92ae09a12155",
   "metadata": {},
   "outputs": [
    {
     "data": {
      "text/plain": [
       "(1, 10, 1)"
      ]
     },
     "execution_count": 45,
     "metadata": {},
     "output_type": "execute_result"
    }
   ],
   "source": [
    "y_new.shape"
   ]
  },
  {
   "cell_type": "code",
   "execution_count": 46,
   "id": "c08641f9-af0a-4b6e-92b9-3df5e23d0bdb",
   "metadata": {},
   "outputs": [
    {
     "data": {
      "text/plain": [
       "(1, 41, 1)"
      ]
     },
     "execution_count": 46,
     "metadata": {},
     "output_type": "execute_result"
    }
   ],
   "source": [
    "y_pred.shape"
   ]
  },
  {
   "cell_type": "code",
   "execution_count": 47,
   "id": "36c40995-c486-4df8-84fc-1ec07c493caa",
   "metadata": {},
   "outputs": [
    {
     "data": {
      "text/plain": [
       "(1, 50, 1)"
      ]
     },
     "execution_count": 47,
     "metadata": {},
     "output_type": "execute_result"
    }
   ],
   "source": [
    "x_new.shape"
   ]
  },
  {
   "cell_type": "code",
   "execution_count": null,
   "id": "9d16a23b-7f14-4b28-97ad-931faf543a5a",
   "metadata": {},
   "outputs": [],
   "source": [
    "+-"
   ]
  },
  {
   "cell_type": "code",
   "execution_count": null,
   "id": "e9d7c88f-1697-4196-a0b4-2ed4aa86c1ec",
   "metadata": {},
   "outputs": [],
   "source": []
  },
  {
   "cell_type": "code",
   "execution_count": null,
   "id": "409bc3c9-3212-40a9-8cdd-c49a704817ea",
   "metadata": {},
   "outputs": [],
   "source": []
  },
  {
   "cell_type": "code",
   "execution_count": null,
   "id": "4b0a0d82-0cc3-4e1b-bfe6-13eb8c27a67b",
   "metadata": {},
   "outputs": [],
   "source": []
  },
  {
   "cell_type": "code",
   "execution_count": null,
   "id": "c794b41e-f308-499a-aa17-0264e1e7cbec",
   "metadata": {},
   "outputs": [],
   "source": []
  },
  {
   "cell_type": "code",
   "execution_count": null,
   "id": "430c16e4-215f-43b8-b8cc-2639d2d62fbc",
   "metadata": {},
   "outputs": [],
   "source": []
  },
  {
   "cell_type": "code",
   "execution_count": null,
   "id": "859a2997-29fc-4135-b997-1fc9e774d9de",
   "metadata": {},
   "outputs": [],
   "source": []
  },
  {
   "cell_type": "code",
   "execution_count": null,
   "id": "57ae89d8-0a46-4493-bdd2-1eb9d46b85fa",
   "metadata": {},
   "outputs": [],
   "source": []
  }
 ],
 "metadata": {
  "kernelspec": {
   "display_name": "Python 3 (ipykernel)",
   "language": "python",
   "name": "python3"
  },
  "language_info": {
   "codemirror_mode": {
    "name": "ipython",
    "version": 3
   },
   "file_extension": ".py",
   "mimetype": "text/x-python",
   "name": "python",
   "nbconvert_exporter": "python",
   "pygments_lexer": "ipython3",
   "version": "3.7.0"
  }
 },
 "nbformat": 4,
 "nbformat_minor": 5
}
