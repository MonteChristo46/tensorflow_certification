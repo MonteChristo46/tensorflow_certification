{
 "cells": [
  {
   "cell_type": "markdown",
   "metadata": {},
   "source": [
    "# A Quick Tour of TensorFlow"
   ]
  },
  {
   "cell_type": "markdown",
   "metadata": {},
   "source": [
    "__Quick-Summary (Why Tensorflow):__\n",
    "\n",
    "1. Similar to numpy but with GPU-Support\n",
    "2. Distributed Computing\n",
    "3. Just-in-Time Compiler (JIT)\n",
    "4. Models can be exported as Graph\n",
    "5. Autodiff"
   ]
  },
  {
   "cell_type": "markdown",
   "metadata": {},
   "source": [
    "## Categorizatiopn of TensorFlow API\n",
    "__Notes:__\n",
    "1. There are fundamentally low- and high-level APIs\n",
    "2. Code will be compiled to C++. \n",
    "3. Some operations have multiple implementations (CPU/GPU)  \n",
    "    3.1 Those Operations are called _Kernels_"
   ]
  },
  {
   "cell_type": "markdown",
   "metadata": {},
   "source": [
    "<img src=\"../../img/1201.png\" width=700 height=700/>\n"
   ]
  },
  {
   "cell_type": "markdown",
   "metadata": {},
   "source": [
    "## Tensors and Operations\n",
    "\n",
    "Tensor: \n",
    "\n",
    "- Seem that a Tensor needs a rectangular shape. That means the nested arrays need to have the same length!   \n",
    "    - e.g.: ```tf.constant([[1,2,3], [4,5,6]])``` is ok; ```tf.constant([[1,2,3], [4,5])``` is _not_ ok!\n",
    "- Does not perform automatic type conversion!\n",
    "    - e.g.: You can not add int-tensor with float-tensor without typecasting first!\n",
    "    "
   ]
  },
  {
   "cell_type": "code",
   "execution_count": 3,
   "metadata": {},
   "outputs": [],
   "source": [
    "import tensorflow as tf\n",
    "import pandas as pd\n",
    "import numpy as np"
   ]
  },
  {
   "cell_type": "markdown",
   "metadata": {},
   "source": [
    "### Constans and Variables\n",
    "\n",
    "- Variables change over time (e.g. Weights in net -> Backpropagation)"
   ]
  },
  {
   "cell_type": "code",
   "execution_count": 23,
   "metadata": {},
   "outputs": [
    {
     "data": {
      "text/plain": [
       "<tf.Tensor: shape=(2, 3), dtype=int32, numpy=\n",
       "array([[1, 2, 3],\n",
       "       [4, 5, 6]])>"
      ]
     },
     "execution_count": 23,
     "metadata": {},
     "output_type": "execute_result"
    }
   ],
   "source": [
    "tf.constant([[1,2,3], [4,5,6]]) # function"
   ]
  },
  {
   "cell_type": "code",
   "execution_count": 24,
   "metadata": {},
   "outputs": [
    {
     "data": {
      "text/plain": [
       "<tf.Variable 'Variable:0' shape=(2, 3) dtype=int32, numpy=\n",
       "array([[1, 2, 3],\n",
       "       [4, 5, 6]])>"
      ]
     },
     "execution_count": 24,
     "metadata": {},
     "output_type": "execute_result"
    }
   ],
   "source": [
    "tf.Variable([[1,2,3], [4,5,6]]) # class"
   ]
  },
  {
   "cell_type": "markdown",
   "metadata": {},
   "source": [
    "### Type Conversion"
   ]
  },
  {
   "cell_type": "code",
   "execution_count": 16,
   "metadata": {},
   "outputs": [],
   "source": [
    "a = tf.constant([[1,2], [1,2]]) # int tensor\n",
    "b = tf.constant([[1,2], [1,.5]]) # float tensor"
   ]
  },
  {
   "cell_type": "raw",
   "metadata": {},
   "source": [
    "a+b # Results in an Error"
   ]
  },
  {
   "cell_type": "markdown",
   "metadata": {},
   "source": [
    "#### Type Casting - ```tf.cast()```"
   ]
  },
  {
   "cell_type": "code",
   "execution_count": 19,
   "metadata": {},
   "outputs": [],
   "source": [
    "b = tf.cast(b, tf.int32)"
   ]
  },
  {
   "cell_type": "code",
   "execution_count": 20,
   "metadata": {},
   "outputs": [
    {
     "data": {
      "text/plain": [
       "<tf.Tensor: shape=(2, 2), dtype=int32, numpy=\n",
       "array([[2, 4],\n",
       "       [2, 2]])>"
      ]
     },
     "execution_count": 20,
     "metadata": {},
     "output_type": "execute_result"
    }
   ],
   "source": [
    "a+b"
   ]
  },
  {
   "cell_type": "markdown",
   "metadata": {},
   "source": [
    "### Tensors and Numpy\n",
    "\n",
    "-  Numpy functions can be used on tensors and vice versa\n",
    "\n",
    "__Important Note__: \n",
    "- Keras also implements some low-level functions. Use them if you want to save/deploy Keras Model\n",
    "\n",
    "```\n",
    "from tensorflow import keras\n",
    "\n",
    "K = keras.backend\n",
    "K.square(tensor)\n",
    "\n",
    "```"
   ]
  },
  {
   "cell_type": "code",
   "execution_count": 25,
   "metadata": {},
   "outputs": [
    {
     "data": {
      "text/plain": [
       "array([[1, 4],\n",
       "       [1, 4]], dtype=int32)"
      ]
     },
     "execution_count": 25,
     "metadata": {},
     "output_type": "execute_result"
    }
   ],
   "source": [
    "np.square(a)"
   ]
  },
  {
   "cell_type": "code",
   "execution_count": 27,
   "metadata": {},
   "outputs": [
    {
     "data": {
      "text/plain": [
       "<tf.Tensor: shape=(2, 2), dtype=int32, numpy=\n",
       "array([[1, 4],\n",
       "       [1, 4]])>"
      ]
     },
     "execution_count": 27,
     "metadata": {},
     "output_type": "execute_result"
    }
   ],
   "source": [
    "tf.square(np.array([[1,2], [1,2]]))"
   ]
  },
  {
   "cell_type": "markdown",
   "metadata": {},
   "source": [
    "## Other Data Structures"
   ]
  },
  {
   "cell_type": "markdown",
   "metadata": {},
   "source": [
    "1. __Sparse Tensor (tf.SparseTensor)__\n",
    "    - Tensor containing mostly 0\n",
    "2. __Tensor Arrays (tf.TensorArray)__  \n",
    "    - List of Tensors\n",
    "    - Fixed sized by default (can be changed)\n",
    "    - All tensor inside MUST have the same __shape__ and __dtype__\n",
    "3. __Ragged tensors (tf.RaggedTensor)__\n",
    "    - Static nested list of tensors\n",
    "    - Fixed size, shape and dtype\n",
    "4. __String Tensor (tf.string)__\n",
    "    - Are regulat Tensor (variable or constant) with dtype=string\n",
    "    - tf.string is atomic --> No length in tensor shape!\n",
    "    - Automatically encoded to UTF-8\n",
    "5. __Sets__\n",
    "    - Normals Sets\n",
    "6. __Queues__\n",
    "    - Store tensors across multiple steps\n",
    "    -  TensorFLow has multiple Ques"
   ]
  },
  {
   "cell_type": "code",
   "execution_count": 33,
   "metadata": {},
   "outputs": [
    {
     "data": {
      "text/plain": [
       "<tf.Variable 'Variable:0' shape=(1,) dtype=string, numpy=array([b'!npfvoew'], dtype=object)>"
      ]
     },
     "execution_count": 33,
     "metadata": {},
     "output_type": "execute_result"
    }
   ],
   "source": [
    "tf.Variable([\"!npfvoew\"])"
   ]
  }
 ],
 "metadata": {
  "kernelspec": {
   "display_name": "Python 3 (ipykernel)",
   "language": "python",
   "name": "python3"
  },
  "language_info": {
   "codemirror_mode": {
    "name": "ipython",
    "version": 3
   },
   "file_extension": ".py",
   "mimetype": "text/x-python",
   "name": "python",
   "nbconvert_exporter": "python",
   "pygments_lexer": "ipython3",
   "version": "3.7.0"
  }
 },
 "nbformat": 4,
 "nbformat_minor": 4
}
