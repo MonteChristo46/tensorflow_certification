{
 "cells": [
  {
   "cell_type": "markdown",
   "id": "054b7d9c-94ee-410f-be68-aecbb52466bf",
   "metadata": {},
   "source": [
    "## Sketch Dataset"
   ]
  },
  {
   "cell_type": "code",
   "execution_count": 1,
   "id": "5fef94b0-c282-4b33-ad1c-fe1d0299a64a",
   "metadata": {},
   "outputs": [],
   "source": [
    "import tensorflow as tf \n",
    "from tensorflow import keras\n",
    "import pandas as pd\n",
    "import numpy as np\n",
    "import matplotlib.pyplot as plt\n",
    "import os\n",
    "import re"
   ]
  },
  {
   "cell_type": "code",
   "execution_count": 2,
   "id": "96bee220-8629-451f-8ed8-19ff578be579",
   "metadata": {},
   "outputs": [],
   "source": [
    "DOWNLOAD_ROOT = \"http://download.tensorflow.org/data/\"\n",
    "FILENAME = \"quickdraw_tutorial_dataset_v1.tar.gz\"\n",
    "filepath = keras.utils.get_file(FILENAME,\n",
    "                                DOWNLOAD_ROOT + FILENAME,\n",
    "                                cache_subdir=\"datasets/quickdraw\",\n",
    "                                extract=True)"
   ]
  },
  {
   "cell_type": "markdown",
   "id": "806c77e0-f32d-46b8-953e-c82b0e849baf",
   "metadata": {},
   "source": [
    "## Reading the data\n"
   ]
  },
  {
   "cell_type": "code",
   "execution_count": 18,
   "id": "da14515b-2ab2-42ea-ac24-4c0259b3d2e9",
   "metadata": {},
   "outputs": [],
   "source": [
    "file_paths = \"/home/daniel/.keras/datasets/quickdraw\""
   ]
  },
  {
   "cell_type": "code",
   "execution_count": 19,
   "id": "01b7f5ba-7d6a-4e39-8a69-fdafdc367ced",
   "metadata": {},
   "outputs": [],
   "source": [
    "train_files = []\n",
    "eval_files = []"
   ]
  },
  {
   "cell_type": "code",
   "execution_count": 20,
   "id": "d7543337-227f-4801-9d84-eee5c140dc7e",
   "metadata": {},
   "outputs": [],
   "source": [
    "for tfrecord in os.listdir(file_paths):\n",
    "    if tfrecord.split(\".\")[0]==\"training\" and not tfrecord.endswith(\".classes\"):\n",
    "        train_files.append(os.path.join(file_paths, tfrecord))\n",
    "    if tfrecord.split(\".\")[0]==\"eval\" and not tfrecord.endswith(\".classes\"):\n",
    "        eval_files.append(tfrecord)\n",
    "    "
   ]
  },
  {
   "cell_type": "code",
   "execution_count": 21,
   "id": "a255fad6-b918-4dd2-b93f-62738ba434ab",
   "metadata": {},
   "outputs": [
    {
     "data": {
      "text/plain": [
       "['/home/daniel/.keras/datasets/quickdraw/training.tfrecord-00008-of-00010',\n",
       " '/home/daniel/.keras/datasets/quickdraw/training.tfrecord-00006-of-00010',\n",
       " '/home/daniel/.keras/datasets/quickdraw/training.tfrecord-00009-of-00010',\n",
       " '/home/daniel/.keras/datasets/quickdraw/training.tfrecord-00007-of-00010',\n",
       " '/home/daniel/.keras/datasets/quickdraw/training.tfrecord-00002-of-00010',\n",
       " '/home/daniel/.keras/datasets/quickdraw/training.tfrecord-00005-of-00010',\n",
       " '/home/daniel/.keras/datasets/quickdraw/training.tfrecord-00001-of-00010',\n",
       " '/home/daniel/.keras/datasets/quickdraw/training.tfrecord-00004-of-00010',\n",
       " '/home/daniel/.keras/datasets/quickdraw/training.tfrecord-00000-of-00010',\n",
       " '/home/daniel/.keras/datasets/quickdraw/training.tfrecord-00003-of-00010']"
      ]
     },
     "execution_count": 21,
     "metadata": {},
     "output_type": "execute_result"
    }
   ],
   "source": [
    "train_files"
   ]
  },
  {
   "cell_type": "code",
   "execution_count": 22,
   "id": "a137ad86-b79b-4918-82f2-8b4c128aac84",
   "metadata": {},
   "outputs": [],
   "source": [
    "tfrecord_dataset = tf.data.TFRecordDataset(train_files)"
   ]
  },
  {
   "cell_type": "code",
   "execution_count": 23,
   "id": "0400e423-270e-4b5d-aca9-4a8c094ad9f9",
   "metadata": {},
   "outputs": [],
   "source": [
    "feature_descriptions = {\"ink\": tf.io.VarLenFeature(dtype=tf.float32),\"shape\": tf.io.FixedLenFeature([2], dtype=tf.int64),\"class_index\": tf.io.FixedLenFeature([1], dtype=tf.int64)}"
   ]
  },
  {
   "cell_type": "code",
   "execution_count": 31,
   "id": "21a9de81-a2df-4edc-be52-ca94de99146c",
   "metadata": {},
   "outputs": [
    {
     "name": "stdout",
     "output_type": "stream",
     "text": [
      "{'ink': <tensorflow.python.framework.sparse_tensor.SparseTensor object at 0x7fe03820db80>, 'class_index': <tf.Tensor: shape=(1,), dtype=int64, numpy=array([51])>, 'shape': <tf.Tensor: shape=(2,), dtype=int64, numpy=array([24,  3])>}\n",
      "tf.Tensor([51], shape=(1,), dtype=int64)\n",
      "tf.Tensor([24  3], shape=(2,), dtype=int64)\n",
      "SparseTensor(indices=tf.Tensor(\n",
      "[[ 0]\n",
      " [ 1]\n",
      " [ 2]\n",
      " [ 3]\n",
      " [ 4]\n",
      " [ 5]\n",
      " [ 6]\n",
      " [ 7]\n",
      " [ 8]\n",
      " [ 9]\n",
      " [10]\n",
      " [11]\n",
      " [12]\n",
      " [13]\n",
      " [14]\n",
      " [15]\n",
      " [16]\n",
      " [17]\n",
      " [18]\n",
      " [19]\n",
      " [20]\n",
      " [21]\n",
      " [22]\n",
      " [23]\n",
      " [24]\n",
      " [25]\n",
      " [26]\n",
      " [27]\n",
      " [28]\n",
      " [29]\n",
      " [30]\n",
      " [31]\n",
      " [32]\n",
      " [33]\n",
      " [34]\n",
      " [35]\n",
      " [36]\n",
      " [37]\n",
      " [38]\n",
      " [39]\n",
      " [40]\n",
      " [41]\n",
      " [42]\n",
      " [43]\n",
      " [44]\n",
      " [45]\n",
      " [46]\n",
      " [47]\n",
      " [48]\n",
      " [49]\n",
      " [50]\n",
      " [51]\n",
      " [52]\n",
      " [53]\n",
      " [54]\n",
      " [55]\n",
      " [56]\n",
      " [57]\n",
      " [58]\n",
      " [59]\n",
      " [60]\n",
      " [61]\n",
      " [62]\n",
      " [63]\n",
      " [64]\n",
      " [65]\n",
      " [66]\n",
      " [67]\n",
      " [68]\n",
      " [69]\n",
      " [70]\n",
      " [71]], shape=(72, 1), dtype=int64), values=tf.Tensor(\n",
      "[-0.0283688   0.07843137  0.         -0.0212766   0.21960786  0.\n",
      " -0.0212766   0.26274508  0.          0.0212766   0.06666666  0.\n",
      "  0.8794326   0.00784314  0.          0.03546101 -0.01960784  0.\n",
      "  0.04255319 -0.3960784   0.          0.02127659 -0.47058827  0.\n",
      " -0.19858158 -0.03529412  0.         -0.5248227  -0.05490196  0.\n",
      " -0.07092199 -0.02352941  0.         -0.10638297  0.16078432  0.\n",
      " -0.06382979  0.23529412  1.          0.07801418 -0.09019607  0.\n",
      "  0.17021278  0.          0.          0.2765957   0.04313725  0.\n",
      "  0.248227   -0.01568627  0.          0.01418436  0.00784314  1.\n",
      "  0.02836883  0.30980393  0.         -0.03546101  0.01176471  0.\n",
      " -0.09219861  0.          0.         -0.09219855 -0.01176471  0.\n",
      "  0.04255319 -0.00784314  0.          0.23404253  0.00392157  1.        ], shape=(72,), dtype=float32), dense_shape=tf.Tensor([72], shape=(1,), dtype=int64))\n",
      "tf.Tensor(\n",
      "[-0.0283688   0.07843137  0.         -0.0212766   0.21960786  0.\n",
      " -0.0212766   0.26274508  0.          0.0212766   0.06666666  0.\n",
      "  0.8794326   0.00784314  0.          0.03546101 -0.01960784  0.\n",
      "  0.04255319 -0.3960784   0.          0.02127659 -0.47058827  0.\n",
      " -0.19858158 -0.03529412  0.         -0.5248227  -0.05490196  0.\n",
      " -0.07092199 -0.02352941  0.         -0.10638297  0.16078432  0.\n",
      " -0.06382979  0.23529412  1.          0.07801418 -0.09019607  0.\n",
      "  0.17021278  0.          0.          0.2765957   0.04313725  0.\n",
      "  0.248227   -0.01568627  0.          0.01418436  0.00784314  1.\n",
      "  0.02836883  0.30980393  0.         -0.03546101  0.01176471  0.\n",
      " -0.09219861  0.          0.         -0.09219855 -0.01176471  0.\n",
      "  0.04255319 -0.00784314  0.          0.23404253  0.00392157  1.        ], shape=(72,), dtype=float32)\n"
     ]
    }
   ],
   "source": [
    "for tensor in tfrecord_dataset.skip(3).take(1):\n",
    "    example = tf.io.parse_example(tensor, feature_descriptions)\n",
    "    \n",
    "    print(example)\n",
    "    print(example[\"class_index\"])\n",
    "    print(example[\"shape\"])\n",
    "    print(example[\"ink\"])\n",
    "    print(tf.sparse.to_dense(example[\"ink\"]))"
   ]
  },
  {
   "cell_type": "code",
   "execution_count": 32,
   "id": "0d859549-1eb3-431a-9644-edd859408f62",
   "metadata": {},
   "outputs": [
    {
     "ename": "ValueError",
     "evalue": "Attempt to convert a value (<TFRecordDatasetV2 shapes: (), types: tf.string>) with an unsupported type (<class 'tensorflow.python.data.ops.readers.TFRecordDatasetV2'>) to a Tensor.",
     "output_type": "error",
     "traceback": [
      "\u001b[0;31m---------------------------------------------------------------------------\u001b[0m",
      "\u001b[0;31mValueError\u001b[0m                                Traceback (most recent call last)",
      "\u001b[0;32m/tmp/ipykernel_3417/2095365536.py\u001b[0m in \u001b[0;36m<module>\u001b[0;34m\u001b[0m\n\u001b[0;32m----> 1\u001b[0;31m \u001b[0mexamples\u001b[0m \u001b[0;34m=\u001b[0m \u001b[0mtf\u001b[0m\u001b[0;34m.\u001b[0m\u001b[0mio\u001b[0m\u001b[0;34m.\u001b[0m\u001b[0mparse_example\u001b[0m\u001b[0;34m(\u001b[0m\u001b[0mtfrecord_dataset\u001b[0m\u001b[0;34m,\u001b[0m \u001b[0mfeature_descriptions\u001b[0m\u001b[0;34m)\u001b[0m\u001b[0;34m\u001b[0m\u001b[0;34m\u001b[0m\u001b[0m\n\u001b[0m",
      "\u001b[0;32m~/anaconda3/envs/tf2/lib/python3.8/site-packages/tensorflow/python/util/dispatch.py\u001b[0m in \u001b[0;36mwrapper\u001b[0;34m(*args, **kwargs)\u001b[0m\n\u001b[1;32m    204\u001b[0m     \u001b[0;34m\"\"\"Call target, and fall back on dispatchers if there is a TypeError.\"\"\"\u001b[0m\u001b[0;34m\u001b[0m\u001b[0;34m\u001b[0m\u001b[0m\n\u001b[1;32m    205\u001b[0m     \u001b[0;32mtry\u001b[0m\u001b[0;34m:\u001b[0m\u001b[0;34m\u001b[0m\u001b[0;34m\u001b[0m\u001b[0m\n\u001b[0;32m--> 206\u001b[0;31m       \u001b[0;32mreturn\u001b[0m \u001b[0mtarget\u001b[0m\u001b[0;34m(\u001b[0m\u001b[0;34m*\u001b[0m\u001b[0margs\u001b[0m\u001b[0;34m,\u001b[0m \u001b[0;34m**\u001b[0m\u001b[0mkwargs\u001b[0m\u001b[0;34m)\u001b[0m\u001b[0;34m\u001b[0m\u001b[0;34m\u001b[0m\u001b[0m\n\u001b[0m\u001b[1;32m    207\u001b[0m     \u001b[0;32mexcept\u001b[0m \u001b[0;34m(\u001b[0m\u001b[0mTypeError\u001b[0m\u001b[0;34m,\u001b[0m \u001b[0mValueError\u001b[0m\u001b[0;34m)\u001b[0m\u001b[0;34m:\u001b[0m\u001b[0;34m\u001b[0m\u001b[0;34m\u001b[0m\u001b[0m\n\u001b[1;32m    208\u001b[0m       \u001b[0;31m# Note: convert_to_eager_tensor currently raises a ValueError, not a\u001b[0m\u001b[0;34m\u001b[0m\u001b[0;34m\u001b[0m\u001b[0;34m\u001b[0m\u001b[0m\n",
      "\u001b[0;32m~/anaconda3/envs/tf2/lib/python3.8/site-packages/tensorflow/python/ops/parsing_ops.py\u001b[0m in \u001b[0;36mparse_example_v2\u001b[0;34m(serialized, features, example_names, name)\u001b[0m\n\u001b[1;32m    312\u001b[0m   ])\n\u001b[1;32m    313\u001b[0m \u001b[0;34m\u001b[0m\u001b[0m\n\u001b[0;32m--> 314\u001b[0;31m   \u001b[0moutputs\u001b[0m \u001b[0;34m=\u001b[0m \u001b[0m_parse_example_raw\u001b[0m\u001b[0;34m(\u001b[0m\u001b[0mserialized\u001b[0m\u001b[0;34m,\u001b[0m \u001b[0mexample_names\u001b[0m\u001b[0;34m,\u001b[0m \u001b[0mparams\u001b[0m\u001b[0;34m,\u001b[0m \u001b[0mname\u001b[0m\u001b[0;34m=\u001b[0m\u001b[0mname\u001b[0m\u001b[0;34m)\u001b[0m\u001b[0;34m\u001b[0m\u001b[0;34m\u001b[0m\u001b[0m\n\u001b[0m\u001b[1;32m    315\u001b[0m   \u001b[0;32mreturn\u001b[0m \u001b[0m_construct_tensors_for_composite_features\u001b[0m\u001b[0;34m(\u001b[0m\u001b[0mfeatures\u001b[0m\u001b[0;34m,\u001b[0m \u001b[0moutputs\u001b[0m\u001b[0;34m)\u001b[0m\u001b[0;34m\u001b[0m\u001b[0;34m\u001b[0m\u001b[0m\n\u001b[1;32m    316\u001b[0m \u001b[0;34m\u001b[0m\u001b[0m\n",
      "\u001b[0;32m~/anaconda3/envs/tf2/lib/python3.8/site-packages/tensorflow/python/ops/parsing_ops.py\u001b[0m in \u001b[0;36m_parse_example_raw\u001b[0;34m(serialized, names, params, name)\u001b[0m\n\u001b[1;32m    344\u001b[0m   \u001b[0;32mwith\u001b[0m \u001b[0mops\u001b[0m\u001b[0;34m.\u001b[0m\u001b[0mname_scope\u001b[0m\u001b[0;34m(\u001b[0m\u001b[0mname\u001b[0m\u001b[0;34m,\u001b[0m \u001b[0;34m\"ParseExample\"\u001b[0m\u001b[0;34m,\u001b[0m \u001b[0;34m[\u001b[0m\u001b[0mserialized\u001b[0m\u001b[0;34m,\u001b[0m \u001b[0mnames\u001b[0m\u001b[0;34m]\u001b[0m\u001b[0;34m)\u001b[0m\u001b[0;34m:\u001b[0m\u001b[0;34m\u001b[0m\u001b[0;34m\u001b[0m\u001b[0m\n\u001b[1;32m    345\u001b[0m     \u001b[0mnames\u001b[0m \u001b[0;34m=\u001b[0m \u001b[0;34m[\u001b[0m\u001b[0;34m]\u001b[0m \u001b[0;32mif\u001b[0m \u001b[0mnames\u001b[0m \u001b[0;32mis\u001b[0m \u001b[0;32mNone\u001b[0m \u001b[0;32melse\u001b[0m \u001b[0mnames\u001b[0m\u001b[0;34m\u001b[0m\u001b[0;34m\u001b[0m\u001b[0m\n\u001b[0;32m--> 346\u001b[0;31m     \u001b[0mserialized\u001b[0m \u001b[0;34m=\u001b[0m \u001b[0mops\u001b[0m\u001b[0;34m.\u001b[0m\u001b[0mconvert_to_tensor\u001b[0m\u001b[0;34m(\u001b[0m\u001b[0mserialized\u001b[0m\u001b[0;34m,\u001b[0m \u001b[0mname\u001b[0m\u001b[0;34m=\u001b[0m\u001b[0;34m\"serialized\"\u001b[0m\u001b[0;34m)\u001b[0m\u001b[0;34m\u001b[0m\u001b[0;34m\u001b[0m\u001b[0m\n\u001b[0m\u001b[1;32m    347\u001b[0m     \u001b[0;32mif\u001b[0m \u001b[0mparams\u001b[0m\u001b[0;34m.\u001b[0m\u001b[0mragged_keys\u001b[0m \u001b[0;32mand\u001b[0m \u001b[0mserialized\u001b[0m\u001b[0;34m.\u001b[0m\u001b[0mshape\u001b[0m\u001b[0;34m.\u001b[0m\u001b[0mndims\u001b[0m \u001b[0;32mis\u001b[0m \u001b[0;32mNone\u001b[0m\u001b[0;34m:\u001b[0m\u001b[0;34m\u001b[0m\u001b[0;34m\u001b[0m\u001b[0m\n\u001b[1;32m    348\u001b[0m       raise ValueError(\"serialized must have statically-known rank to \"\n",
      "\u001b[0;32m~/anaconda3/envs/tf2/lib/python3.8/site-packages/tensorflow/python/profiler/trace.py\u001b[0m in \u001b[0;36mwrapped\u001b[0;34m(*args, **kwargs)\u001b[0m\n\u001b[1;32m    161\u001b[0m         \u001b[0;32mwith\u001b[0m \u001b[0mTrace\u001b[0m\u001b[0;34m(\u001b[0m\u001b[0mtrace_name\u001b[0m\u001b[0;34m,\u001b[0m \u001b[0;34m**\u001b[0m\u001b[0mtrace_kwargs\u001b[0m\u001b[0;34m)\u001b[0m\u001b[0;34m:\u001b[0m\u001b[0;34m\u001b[0m\u001b[0;34m\u001b[0m\u001b[0m\n\u001b[1;32m    162\u001b[0m           \u001b[0;32mreturn\u001b[0m \u001b[0mfunc\u001b[0m\u001b[0;34m(\u001b[0m\u001b[0;34m*\u001b[0m\u001b[0margs\u001b[0m\u001b[0;34m,\u001b[0m \u001b[0;34m**\u001b[0m\u001b[0mkwargs\u001b[0m\u001b[0;34m)\u001b[0m\u001b[0;34m\u001b[0m\u001b[0;34m\u001b[0m\u001b[0m\n\u001b[0;32m--> 163\u001b[0;31m       \u001b[0;32mreturn\u001b[0m \u001b[0mfunc\u001b[0m\u001b[0;34m(\u001b[0m\u001b[0;34m*\u001b[0m\u001b[0margs\u001b[0m\u001b[0;34m,\u001b[0m \u001b[0;34m**\u001b[0m\u001b[0mkwargs\u001b[0m\u001b[0;34m)\u001b[0m\u001b[0;34m\u001b[0m\u001b[0;34m\u001b[0m\u001b[0m\n\u001b[0m\u001b[1;32m    164\u001b[0m \u001b[0;34m\u001b[0m\u001b[0m\n\u001b[1;32m    165\u001b[0m     \u001b[0;32mreturn\u001b[0m \u001b[0mwrapped\u001b[0m\u001b[0;34m\u001b[0m\u001b[0;34m\u001b[0m\u001b[0m\n",
      "\u001b[0;32m~/anaconda3/envs/tf2/lib/python3.8/site-packages/tensorflow/python/framework/ops.py\u001b[0m in \u001b[0;36mconvert_to_tensor\u001b[0;34m(value, dtype, name, as_ref, preferred_dtype, dtype_hint, ctx, accepted_result_types)\u001b[0m\n\u001b[1;32m   1564\u001b[0m \u001b[0;34m\u001b[0m\u001b[0m\n\u001b[1;32m   1565\u001b[0m     \u001b[0;32mif\u001b[0m \u001b[0mret\u001b[0m \u001b[0;32mis\u001b[0m \u001b[0;32mNone\u001b[0m\u001b[0;34m:\u001b[0m\u001b[0;34m\u001b[0m\u001b[0;34m\u001b[0m\u001b[0m\n\u001b[0;32m-> 1566\u001b[0;31m       \u001b[0mret\u001b[0m \u001b[0;34m=\u001b[0m \u001b[0mconversion_func\u001b[0m\u001b[0;34m(\u001b[0m\u001b[0mvalue\u001b[0m\u001b[0;34m,\u001b[0m \u001b[0mdtype\u001b[0m\u001b[0;34m=\u001b[0m\u001b[0mdtype\u001b[0m\u001b[0;34m,\u001b[0m \u001b[0mname\u001b[0m\u001b[0;34m=\u001b[0m\u001b[0mname\u001b[0m\u001b[0;34m,\u001b[0m \u001b[0mas_ref\u001b[0m\u001b[0;34m=\u001b[0m\u001b[0mas_ref\u001b[0m\u001b[0;34m)\u001b[0m\u001b[0;34m\u001b[0m\u001b[0;34m\u001b[0m\u001b[0m\n\u001b[0m\u001b[1;32m   1567\u001b[0m \u001b[0;34m\u001b[0m\u001b[0m\n\u001b[1;32m   1568\u001b[0m     \u001b[0;32mif\u001b[0m \u001b[0mret\u001b[0m \u001b[0;32mis\u001b[0m \u001b[0mNotImplemented\u001b[0m\u001b[0;34m:\u001b[0m\u001b[0;34m\u001b[0m\u001b[0;34m\u001b[0m\u001b[0m\n",
      "\u001b[0;32m~/anaconda3/envs/tf2/lib/python3.8/site-packages/tensorflow/python/framework/constant_op.py\u001b[0m in \u001b[0;36m_constant_tensor_conversion_function\u001b[0;34m(v, dtype, name, as_ref)\u001b[0m\n\u001b[1;32m    344\u001b[0m                                          as_ref=False):\n\u001b[1;32m    345\u001b[0m   \u001b[0m_\u001b[0m \u001b[0;34m=\u001b[0m \u001b[0mas_ref\u001b[0m\u001b[0;34m\u001b[0m\u001b[0;34m\u001b[0m\u001b[0m\n\u001b[0;32m--> 346\u001b[0;31m   \u001b[0;32mreturn\u001b[0m \u001b[0mconstant\u001b[0m\u001b[0;34m(\u001b[0m\u001b[0mv\u001b[0m\u001b[0;34m,\u001b[0m \u001b[0mdtype\u001b[0m\u001b[0;34m=\u001b[0m\u001b[0mdtype\u001b[0m\u001b[0;34m,\u001b[0m \u001b[0mname\u001b[0m\u001b[0;34m=\u001b[0m\u001b[0mname\u001b[0m\u001b[0;34m)\u001b[0m\u001b[0;34m\u001b[0m\u001b[0;34m\u001b[0m\u001b[0m\n\u001b[0m\u001b[1;32m    347\u001b[0m \u001b[0;34m\u001b[0m\u001b[0m\n\u001b[1;32m    348\u001b[0m \u001b[0;34m\u001b[0m\u001b[0m\n",
      "\u001b[0;32m~/anaconda3/envs/tf2/lib/python3.8/site-packages/tensorflow/python/framework/constant_op.py\u001b[0m in \u001b[0;36mconstant\u001b[0;34m(value, dtype, shape, name)\u001b[0m\n\u001b[1;32m    269\u001b[0m     \u001b[0mValueError\u001b[0m\u001b[0;34m:\u001b[0m \u001b[0;32mif\u001b[0m \u001b[0mcalled\u001b[0m \u001b[0mon\u001b[0m \u001b[0ma\u001b[0m \u001b[0msymbolic\u001b[0m \u001b[0mtensor\u001b[0m\u001b[0;34m.\u001b[0m\u001b[0;34m\u001b[0m\u001b[0;34m\u001b[0m\u001b[0m\n\u001b[1;32m    270\u001b[0m   \"\"\"\n\u001b[0;32m--> 271\u001b[0;31m   return _constant_impl(value, dtype, shape, name, verify_shape=False,\n\u001b[0m\u001b[1;32m    272\u001b[0m                         allow_broadcast=True)\n\u001b[1;32m    273\u001b[0m \u001b[0;34m\u001b[0m\u001b[0m\n",
      "\u001b[0;32m~/anaconda3/envs/tf2/lib/python3.8/site-packages/tensorflow/python/framework/constant_op.py\u001b[0m in \u001b[0;36m_constant_impl\u001b[0;34m(value, dtype, shape, name, verify_shape, allow_broadcast)\u001b[0m\n\u001b[1;32m    281\u001b[0m       \u001b[0;32mwith\u001b[0m \u001b[0mtrace\u001b[0m\u001b[0;34m.\u001b[0m\u001b[0mTrace\u001b[0m\u001b[0;34m(\u001b[0m\u001b[0;34m\"tf.constant\"\u001b[0m\u001b[0;34m)\u001b[0m\u001b[0;34m:\u001b[0m\u001b[0;34m\u001b[0m\u001b[0;34m\u001b[0m\u001b[0m\n\u001b[1;32m    282\u001b[0m         \u001b[0;32mreturn\u001b[0m \u001b[0m_constant_eager_impl\u001b[0m\u001b[0;34m(\u001b[0m\u001b[0mctx\u001b[0m\u001b[0;34m,\u001b[0m \u001b[0mvalue\u001b[0m\u001b[0;34m,\u001b[0m \u001b[0mdtype\u001b[0m\u001b[0;34m,\u001b[0m \u001b[0mshape\u001b[0m\u001b[0;34m,\u001b[0m \u001b[0mverify_shape\u001b[0m\u001b[0;34m)\u001b[0m\u001b[0;34m\u001b[0m\u001b[0;34m\u001b[0m\u001b[0m\n\u001b[0;32m--> 283\u001b[0;31m     \u001b[0;32mreturn\u001b[0m \u001b[0m_constant_eager_impl\u001b[0m\u001b[0;34m(\u001b[0m\u001b[0mctx\u001b[0m\u001b[0;34m,\u001b[0m \u001b[0mvalue\u001b[0m\u001b[0;34m,\u001b[0m \u001b[0mdtype\u001b[0m\u001b[0;34m,\u001b[0m \u001b[0mshape\u001b[0m\u001b[0;34m,\u001b[0m \u001b[0mverify_shape\u001b[0m\u001b[0;34m)\u001b[0m\u001b[0;34m\u001b[0m\u001b[0;34m\u001b[0m\u001b[0m\n\u001b[0m\u001b[1;32m    284\u001b[0m \u001b[0;34m\u001b[0m\u001b[0m\n\u001b[1;32m    285\u001b[0m   \u001b[0mg\u001b[0m \u001b[0;34m=\u001b[0m \u001b[0mops\u001b[0m\u001b[0;34m.\u001b[0m\u001b[0mget_default_graph\u001b[0m\u001b[0;34m(\u001b[0m\u001b[0;34m)\u001b[0m\u001b[0;34m\u001b[0m\u001b[0;34m\u001b[0m\u001b[0m\n",
      "\u001b[0;32m~/anaconda3/envs/tf2/lib/python3.8/site-packages/tensorflow/python/framework/constant_op.py\u001b[0m in \u001b[0;36m_constant_eager_impl\u001b[0;34m(ctx, value, dtype, shape, verify_shape)\u001b[0m\n\u001b[1;32m    306\u001b[0m \u001b[0;32mdef\u001b[0m \u001b[0m_constant_eager_impl\u001b[0m\u001b[0;34m(\u001b[0m\u001b[0mctx\u001b[0m\u001b[0;34m,\u001b[0m \u001b[0mvalue\u001b[0m\u001b[0;34m,\u001b[0m \u001b[0mdtype\u001b[0m\u001b[0;34m,\u001b[0m \u001b[0mshape\u001b[0m\u001b[0;34m,\u001b[0m \u001b[0mverify_shape\u001b[0m\u001b[0;34m)\u001b[0m\u001b[0;34m:\u001b[0m\u001b[0;34m\u001b[0m\u001b[0;34m\u001b[0m\u001b[0m\n\u001b[1;32m    307\u001b[0m   \u001b[0;34m\"\"\"Creates a constant on the current device.\"\"\"\u001b[0m\u001b[0;34m\u001b[0m\u001b[0;34m\u001b[0m\u001b[0m\n\u001b[0;32m--> 308\u001b[0;31m   \u001b[0mt\u001b[0m \u001b[0;34m=\u001b[0m \u001b[0mconvert_to_eager_tensor\u001b[0m\u001b[0;34m(\u001b[0m\u001b[0mvalue\u001b[0m\u001b[0;34m,\u001b[0m \u001b[0mctx\u001b[0m\u001b[0;34m,\u001b[0m \u001b[0mdtype\u001b[0m\u001b[0;34m)\u001b[0m\u001b[0;34m\u001b[0m\u001b[0;34m\u001b[0m\u001b[0m\n\u001b[0m\u001b[1;32m    309\u001b[0m   \u001b[0;32mif\u001b[0m \u001b[0mshape\u001b[0m \u001b[0;32mis\u001b[0m \u001b[0;32mNone\u001b[0m\u001b[0;34m:\u001b[0m\u001b[0;34m\u001b[0m\u001b[0;34m\u001b[0m\u001b[0m\n\u001b[1;32m    310\u001b[0m     \u001b[0;32mreturn\u001b[0m \u001b[0mt\u001b[0m\u001b[0;34m\u001b[0m\u001b[0;34m\u001b[0m\u001b[0m\n",
      "\u001b[0;32m~/anaconda3/envs/tf2/lib/python3.8/site-packages/tensorflow/python/framework/constant_op.py\u001b[0m in \u001b[0;36mconvert_to_eager_tensor\u001b[0;34m(value, ctx, dtype)\u001b[0m\n\u001b[1;32m    104\u001b[0m       \u001b[0mdtype\u001b[0m \u001b[0;34m=\u001b[0m \u001b[0mdtypes\u001b[0m\u001b[0;34m.\u001b[0m\u001b[0mas_dtype\u001b[0m\u001b[0;34m(\u001b[0m\u001b[0mdtype\u001b[0m\u001b[0;34m)\u001b[0m\u001b[0;34m.\u001b[0m\u001b[0mas_datatype_enum\u001b[0m\u001b[0;34m\u001b[0m\u001b[0;34m\u001b[0m\u001b[0m\n\u001b[1;32m    105\u001b[0m   \u001b[0mctx\u001b[0m\u001b[0;34m.\u001b[0m\u001b[0mensure_initialized\u001b[0m\u001b[0;34m(\u001b[0m\u001b[0;34m)\u001b[0m\u001b[0;34m\u001b[0m\u001b[0;34m\u001b[0m\u001b[0m\n\u001b[0;32m--> 106\u001b[0;31m   \u001b[0;32mreturn\u001b[0m \u001b[0mops\u001b[0m\u001b[0;34m.\u001b[0m\u001b[0mEagerTensor\u001b[0m\u001b[0;34m(\u001b[0m\u001b[0mvalue\u001b[0m\u001b[0;34m,\u001b[0m \u001b[0mctx\u001b[0m\u001b[0;34m.\u001b[0m\u001b[0mdevice_name\u001b[0m\u001b[0;34m,\u001b[0m \u001b[0mdtype\u001b[0m\u001b[0;34m)\u001b[0m\u001b[0;34m\u001b[0m\u001b[0;34m\u001b[0m\u001b[0m\n\u001b[0m\u001b[1;32m    107\u001b[0m \u001b[0;34m\u001b[0m\u001b[0m\n\u001b[1;32m    108\u001b[0m \u001b[0;34m\u001b[0m\u001b[0m\n",
      "\u001b[0;31mValueError\u001b[0m: Attempt to convert a value (<TFRecordDatasetV2 shapes: (), types: tf.string>) with an unsupported type (<class 'tensorflow.python.data.ops.readers.TFRecordDatasetV2'>) to a Tensor."
     ]
    }
   ],
   "source": [
    "examples = tf.io.parse_example(tfrecord_dataset, feature_descriptions)\n"
   ]
  },
  {
   "cell_type": "code",
   "execution_count": 37,
   "id": "90c10c8e-e49e-4e0f-adf4-a39251d62452",
   "metadata": {},
   "outputs": [
    {
     "data": {
      "text/plain": [
       "['training.tfrecord-00008-of-00010',\n",
       " 'training.tfrecord-00006-of-00010',\n",
       " 'training.tfrecord-00009-of-00010',\n",
       " 'training.tfrecord-00007-of-00010',\n",
       " 'training.tfrecord-00002-of-00010',\n",
       " 'training.tfrecord-00005-of-00010',\n",
       " 'training.tfrecord-00001-of-00010',\n",
       " 'training.tfrecord-00004-of-00010',\n",
       " 'training.tfrecord-00000-of-00010',\n",
       " 'training.tfrecord-00003-of-00010']"
      ]
     },
     "execution_count": 37,
     "metadata": {},
     "output_type": "execute_result"
    }
   ],
   "source": [
    "train_files"
   ]
  },
  {
   "cell_type": "code",
   "execution_count": 38,
   "id": "cb47bd82-ff07-49e0-a63b-8d159e9cb2ba",
   "metadata": {},
   "outputs": [
    {
     "data": {
      "text/plain": [
       "['eval.tfrecord-00008-of-00010',\n",
       " 'eval.tfrecord-00003-of-00010',\n",
       " 'eval.tfrecord-00007-of-00010',\n",
       " 'eval.tfrecord-00001-of-00010',\n",
       " 'eval.tfrecord-00006-of-00010',\n",
       " 'eval.tfrecord-00000-of-00010',\n",
       " 'eval.tfrecord-00005-of-00010',\n",
       " 'eval.tfrecord-00009-of-00010',\n",
       " 'eval.tfrecord-00002-of-00010',\n",
       " 'eval.tfrecord-00004-of-00010']"
      ]
     },
     "execution_count": 38,
     "metadata": {},
     "output_type": "execute_result"
    }
   ],
   "source": [
    "eval_files"
   ]
  },
  {
   "cell_type": "code",
   "execution_count": 49,
   "id": "a28caf7c-59cb-4515-bc5d-8e5fa43268fa",
   "metadata": {},
   "outputs": [],
   "source": [
    "tensor = tf.data.TFRecordDataset(train_files)"
   ]
  },
  {
   "cell_type": "code",
   "execution_count": 50,
   "id": "f7f55d2b-d4e9-44e6-befa-258a15bb3dfe",
   "metadata": {},
   "outputs": [
    {
     "data": {
      "text/plain": [
       "<TFRecordDatasetV2 shapes: (), types: tf.string>"
      ]
     },
     "execution_count": 50,
     "metadata": {},
     "output_type": "execute_result"
    }
   ],
   "source": [
    "tensor"
   ]
  },
  {
   "cell_type": "code",
   "execution_count": 51,
   "id": "465ae856-a94f-4798-9998-fb651bb1aaab",
   "metadata": {},
   "outputs": [
    {
     "data": {
      "text/plain": [
       "['/home/daniel/.keras/datasets/quickdraw/training.tfrecord-00008-of-00010']"
      ]
     },
     "execution_count": 51,
     "metadata": {},
     "output_type": "execute_result"
    }
   ],
   "source": [
    "train_files[:1]"
   ]
  },
  {
   "cell_type": "code",
   "execution_count": 52,
   "id": "815ee1c9-d748-4f84-b576-f74e4947ea8e",
   "metadata": {},
   "outputs": [
    {
     "name": "stdout",
     "output_type": "stream",
     "text": [
      "tf.Tensor(b'\\n\\xb8\\x06\\n\\x14\\n\\x0bclass_index\\x12\\x05\\x1a\\x03\\n\\x01\\x04\\n\\x0f\\n\\x05shape\\x12\\x06\\x1a\\x04\\n\\x02@\\x03\\n\\x8e\\x06\\n\\x03ink\\x12\\x86\\x06\\x12\\x83\\x06\\n\\x80\\x06\\x00\\x00\\x00\\x00p\\xa9Y\\xbd\\x00\\x00\\x00\\x00\\x88\\xc3\\xe1\\xbcp\\xa9\\xd9\\xbd\\x00\\x00\\x00\\x00\\x00\\x02\\x01\\xbc\\xdc#-\\xbe\\x00\\x00\\x00\\x00\\x08\\x83\\xc1\\xbc\\xb0L\\x9e\\xbd\\x00\\x00\\x80?h\\xb3\\xd9>n\\xa9\\xd9>\\x00\\x00\\x00\\x00\\x80\\xc3\\xe1<\\x00\\x00\\x00\\x00\\x00\\x00\\x00\\x00\\x00\\x02\\x01<\\x00sm\\xbc\\x00\\x00\\x00\\x00\\x00\\x00\\x00\\x00\\xe0g\\x94\\xbd\\x00\\x00\\x00\\x00@\\xa3Q\\xbdJ\\xfc\\x8c\\xbe\\x00\\x00\\x80?\\x90B!\\xbd\\x80L\\x9e;\\x00\\x00\\x00\\x00\\x00\\x02\\x01<\\xa0L\\x9e<\\x00\\x00\\x00\\x00\\x00\\x02\\x81\\xbc\\xc0L\\x1e<\\x00\\x00\\x00\\x00\\xe4r\\xb9\\xbd\\x00\\x00\\x00\\x00\\x00\\x00\\x00\\x00\\x88\\xc3a=\\x00s\\xed\\xbc\\x00\\x00\\x00\\x00H\\xa3\\xd1\\xbd\\xd0\\xdfE=\\x00\\x00\\x00\\x00\\xe4r\\xb9\\xbd\\xc0L\\x1e<\\x00\\x00\\x00\\x00\\x00\\x02\\x01\\xbcp\\xa9Y\\xbd\\x00\\x00\\x00\\x00@\"\\x11=\\xd8\\xdf\\xc5\\xbd\\x00\\x00\\x00\\x00\\x00\\x83A\\xbc\\x00sm\\xbc\\x00\\x00\\x00\\x00\\x84B\\xa1\\xbdp\\xa9Y=\\x00\\x00\\x00\\x00&\\x93\\xc9\\xbd\\xa0L\\x9e<\\x00\\x00\\x00\\x00\\x86B!\\xbdx1\\xa8\\xbd\\x00\\x00\\x00\\x00\\x00\\x00\\x00\\x00\\xd6\\xdfE\\xbe\\x00\\x00\\x00\\x00\\x07\\x83A\\xbd\\x80L\\x9e;\\x00\\x00\\x00\\x00\\x04\\x02\\x01\\xbd\\x18\\x83\\n\\xbd\\x00\\x00\\x00\\x00\\x06\\x83\\xc1\\xbc\\x16\\x83\\x8a\\xbd\\x00\\x00\\x00\\x00\\x00\\x00\\x00\\x00x1\\xa8\\xbd\\x00\\x00\\x00\\x00\\x04\\x02\\x81<\\x00s\\xed\\xbc\\x00\\x00\\x00\\x00\\x06\\x83A=\\x08sm\\xbc\\x00\\x00\\x00\\x00\\x06\\x83A=\\xb0L\\x9e;\\x00\\x00\\x00\\x00\\x86B!=\\xacL\\x1e=\\x00\\x00\\x00\\x00\\x10\\x83A\\xbc\\xa0L\\x9e\\xbb\\x00\\x00\\x00\\x00\\x80B\\xa1\\xbc\\x18\\x83\\n\\xbd\\x00\\x00\\x00\\x00\\x10\\x02\\x81\\xbbM\\x9e\\x80\\xbd\\x00\\x00\\x00\\x00\\x08\\x83A<\\xaeL\\x9e\\xbc\\x00\\x00\\x00\\x00$\\x12\\x89=\\x03s\\xed\\xbc\\x00\\x00\\x00\\x00d2\\x99=\\xadL\\x9e\\xbb\\x00\\x00\\x00\\x00D\"\\x91=\\xd8\\xdf\\xc5<\\x00\\x00\\x00\\x00$\\x12\\x89=\\xd9\\xdf\\xc5=\\x00\\x00\\x00\\x00H\"\\x11=\\xb0L\\x1e\\xbc\\x00\\x00\\x00\\x00\\x88\\xc3a=\\x04sm\\xbd\\x00\\x00\\x00\\x00\\x80\\xc3\\xe1<\\xacL\\x1e\\xbc\\x00\\x00\\x00\\x00\\x00\\x02\\x01<\\xe2g\\x94=\\x00\\x00\\x00\\x00\\x80\\xc3\\xe1<\\x04sm=\\x00\\x00\\x00\\x00(\\x12\\x89=M\\x9e\\x80\\xbd\\x00\\x00\\x00\\x00\\x80B\\xa1<\\xa3\\xc4\\xcf=\\x00\\x00\\x00\\x00\\x10\\x83A=\\x00sm=\\x00\\x00\\x00\\x00\\x00\\x02\\x01<<\\x8e\\xe3=\\x00\\x00\\x80?\\xe8r9\\xbe\\x10\\x9d\\xaf>\\x00\\x00\\x00\\x00\\x08\\x02\\x81=\\x00sm\\xbd\\x00\\x00\\x00\\x00\\x14\\n\\x05>\\x00s\\xed\\xbc\\x00\\x00\\x00\\x00\\x80\\xc3\\xe1<\\xc0L\\x9e\\xbc\\x00\\x00\\x00\\x00\\x00\\x02\\x81\\xbbp\\xa9Y\\xbd\\x00\\x00\\x00\\x00H\\xa3\\xd1=\\x80L\\x1e\\xbc\\x00\\x00\\x00\\x00\\x00\\x02\\x81;\\xdc\\xdf\\xc5\\xbd\\x00\\x00\\x00\\x00\\x00\\x02\\x81\\xbc\\x18\\x83\\n\\xbd\\x00\\x00\\x80?h\\xb3\\xd9\\xbd\\x00sm\\xbc\\x00\\x00\\x00\\x00\\x84B!>\\xe4g\\x94\\xbd\\x00\\x00\\x00\\x00H\"\\x91=\\x00sm\\xbd\\x00\\x00\\x00\\x00\\xc0b1=n\\xa9\\xd9\\xbd\\x00\\x00\\x00\\x00\\x00\\x02\\x81;\\x04s\\xed\\xbd\\x00\\x00\\x80?\\x00\\x02\\x01\\xbd\\xacL\\x9e<\\x00\\x00\\x00\\x00\\x00\\x00\\x00\\x00L\\x9e\\x80\\xbd\\x00\\x00\\x00\\x00@\"\\x11=m\\xa9Y=\\x00\\x00\\x80?', shape=(), dtype=string)\n"
     ]
    },
    {
     "name": "stderr",
     "output_type": "stream",
     "text": [
      "2021-10-04 11:08:50.400044: I tensorflow/compiler/mlir/mlir_graph_optimization_pass.cc:185] None of the MLIR Optimization Passes are enabled (registered 2)\n"
     ]
    }
   ],
   "source": [
    "for x in tensor: \n",
    "    print(x)\n",
    "    break"
   ]
  },
  {
   "cell_type": "code",
   "execution_count": null,
   "id": "bc65802d-56c2-419a-84e0-fabe563f446c",
   "metadata": {},
   "outputs": [],
   "source": []
  }
 ],
 "metadata": {
  "kernelspec": {
   "display_name": "Python 3 (ipykernel)",
   "language": "python",
   "name": "python3"
  },
  "language_info": {
   "codemirror_mode": {
    "name": "ipython",
    "version": 3
   },
   "file_extension": ".py",
   "mimetype": "text/x-python",
   "name": "python",
   "nbconvert_exporter": "python",
   "pygments_lexer": "ipython3",
   "version": "3.8.0"
  }
 },
 "nbformat": 4,
 "nbformat_minor": 5
}
