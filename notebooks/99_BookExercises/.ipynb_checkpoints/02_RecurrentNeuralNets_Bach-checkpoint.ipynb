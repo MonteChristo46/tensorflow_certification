{
 "cells": [
  {
   "cell_type": "markdown",
   "id": "2da77d0b-e8f0-4e5e-87d0-bc52c3663b3c",
   "metadata": {},
   "source": [
    "# Recurrent Neural Nets Bach"
   ]
  },
  {
   "cell_type": "code",
   "execution_count": 11,
   "id": "9b447c6d-50e8-4e51-9653-97c4d67dcd01",
   "metadata": {},
   "outputs": [],
   "source": [
    "import os \n",
    "import pandas as pd\n",
    "import numpy as np\n",
    "import tensorflow as tf\n",
    "from tensorflow import keras\n",
    "from glob import glob"
   ]
  },
  {
   "cell_type": "markdown",
   "id": "c54fcc75-88da-45e9-9ca2-2e3bf6f2e194",
   "metadata": {},
   "source": [
    "## GLOBAL PARAMETERS"
   ]
  },
  {
   "cell_type": "code",
   "execution_count": 8,
   "id": "c3ae695c-bf07-44bb-a41f-392fdcfb5dd5",
   "metadata": {},
   "outputs": [],
   "source": [
    "DATA_DIR = \"../../data/bach\""
   ]
  },
  {
   "cell_type": "code",
   "execution_count": 25,
   "id": "4cfd017a-61a4-4940-9b40-b1b67e5ae52a",
   "metadata": {},
   "outputs": [],
   "source": [
    "TRAIN_DIR = \"../../data/bach/train\""
   ]
  },
  {
   "cell_type": "code",
   "execution_count": 26,
   "id": "60db72e2-c56c-42f6-b55c-ac736c12731e",
   "metadata": {},
   "outputs": [],
   "source": [
    "TEST_DIR = \"../../data/bach/test\""
   ]
  },
  {
   "cell_type": "code",
   "execution_count": 27,
   "id": "b2312c97-2c57-43c4-a6ef-328de89d77fa",
   "metadata": {},
   "outputs": [],
   "source": [
    "VALID_DIR = \"../../data/bach/valid\""
   ]
  },
  {
   "cell_type": "code",
   "execution_count": null,
   "id": "80f3bf19-699a-44a2-ad26-cbbc1a06f6fb",
   "metadata": {},
   "outputs": [],
   "source": []
  },
  {
   "cell_type": "code",
   "execution_count": 37,
   "id": "f1b61d94-a56e-48c6-8537-4a2455e5193b",
   "metadata": {},
   "outputs": [],
   "source": [
    "TIME_STAMPS = 8"
   ]
  },
  {
   "cell_type": "code",
   "execution_count": 40,
   "id": "d6ca152c-101c-4b19-9f83-2d57fe3356e7",
   "metadata": {},
   "outputs": [],
   "source": [
    "INPUT_FEATURES = 4"
   ]
  },
  {
   "cell_type": "code",
   "execution_count": 55,
   "id": "04d0542e-e0fe-4431-891f-abd479435433",
   "metadata": {},
   "outputs": [],
   "source": [
    "BATCH_SIZE = 32"
   ]
  },
  {
   "cell_type": "markdown",
   "id": "950d565f-fad5-408d-a863-82ff2adfa44f",
   "metadata": {},
   "source": [
    "## Inspecting the data\n",
    "\n",
    "__Notes:__  \n",
    "0. A chorale seems to be some kind of melody. So a song consists of multiple chorales?\n",
    "1. Each number represents a note - called MIDI numbers. E.G. 66 = F#\n",
    "2. Each row represents a time stamp\n",
    "3. Each chorale is 100 to 640 time stemps long. \n",
    "\n",
    "__Objective:__ \n",
    "1. Train a model that can predict the next time stamp (4 notes)\n",
    "2. Use this model to generate batch like music (One note at the time)"
   ]
  },
  {
   "cell_type": "code",
   "execution_count": 15,
   "id": "826b1bf3-adf0-41ca-b66e-c271507af397",
   "metadata": {},
   "outputs": [],
   "source": [
    "file_lst = glob(os.path.join(DATA_DIR, \"train/*.csv\"))"
   ]
  },
  {
   "cell_type": "code",
   "execution_count": 19,
   "id": "5367c161-2f53-4647-9825-eec5b4c43f1e",
   "metadata": {},
   "outputs": [],
   "source": [
    "df = pd.read_csv(file_lst[0])"
   ]
  },
  {
   "cell_type": "code",
   "execution_count": 20,
   "id": "ca903ebf-2daa-4137-a256-3a053c8c44c5",
   "metadata": {},
   "outputs": [
    {
     "data": {
      "text/html": [
       "<div>\n",
       "<style scoped>\n",
       "    .dataframe tbody tr th:only-of-type {\n",
       "        vertical-align: middle;\n",
       "    }\n",
       "\n",
       "    .dataframe tbody tr th {\n",
       "        vertical-align: top;\n",
       "    }\n",
       "\n",
       "    .dataframe thead th {\n",
       "        text-align: right;\n",
       "    }\n",
       "</style>\n",
       "<table border=\"1\" class=\"dataframe\">\n",
       "  <thead>\n",
       "    <tr style=\"text-align: right;\">\n",
       "      <th></th>\n",
       "      <th>note0</th>\n",
       "      <th>note1</th>\n",
       "      <th>note2</th>\n",
       "      <th>note3</th>\n",
       "    </tr>\n",
       "  </thead>\n",
       "  <tbody>\n",
       "    <tr>\n",
       "      <th>0</th>\n",
       "      <td>68</td>\n",
       "      <td>64</td>\n",
       "      <td>59</td>\n",
       "      <td>52</td>\n",
       "    </tr>\n",
       "    <tr>\n",
       "      <th>1</th>\n",
       "      <td>68</td>\n",
       "      <td>64</td>\n",
       "      <td>59</td>\n",
       "      <td>52</td>\n",
       "    </tr>\n",
       "    <tr>\n",
       "      <th>2</th>\n",
       "      <td>68</td>\n",
       "      <td>64</td>\n",
       "      <td>59</td>\n",
       "      <td>52</td>\n",
       "    </tr>\n",
       "    <tr>\n",
       "      <th>3</th>\n",
       "      <td>68</td>\n",
       "      <td>64</td>\n",
       "      <td>59</td>\n",
       "      <td>52</td>\n",
       "    </tr>\n",
       "    <tr>\n",
       "      <th>4</th>\n",
       "      <td>73</td>\n",
       "      <td>64</td>\n",
       "      <td>57</td>\n",
       "      <td>57</td>\n",
       "    </tr>\n",
       "  </tbody>\n",
       "</table>\n",
       "</div>"
      ],
      "text/plain": [
       "   note0  note1  note2  note3\n",
       "0     68     64     59     52\n",
       "1     68     64     59     52\n",
       "2     68     64     59     52\n",
       "3     68     64     59     52\n",
       "4     73     64     57     57"
      ]
     },
     "execution_count": 20,
     "metadata": {},
     "output_type": "execute_result"
    }
   ],
   "source": [
    "df.head()"
   ]
  },
  {
   "cell_type": "markdown",
   "id": "b3b965c9-3ae0-480c-847a-23829934c4b8",
   "metadata": {},
   "source": [
    "#### Chroales differ in their size (100-640)"
   ]
  },
  {
   "cell_type": "code",
   "execution_count": 22,
   "id": "2dbe6357-257b-43be-ad78-5599a034e8b4",
   "metadata": {},
   "outputs": [
    {
     "name": "stdout",
     "output_type": "stream",
     "text": [
      "<class 'pandas.core.frame.DataFrame'>\n",
      "RangeIndex: 260 entries, 0 to 259\n",
      "Data columns (total 4 columns):\n",
      " #   Column  Non-Null Count  Dtype\n",
      "---  ------  --------------  -----\n",
      " 0   note0   260 non-null    int64\n",
      " 1   note1   260 non-null    int64\n",
      " 2   note2   260 non-null    int64\n",
      " 3   note3   260 non-null    int64\n",
      "dtypes: int64(4)\n",
      "memory usage: 8.2 KB\n"
     ]
    }
   ],
   "source": [
    "df.info()"
   ]
  },
  {
   "cell_type": "code",
   "execution_count": 24,
   "id": "2cfc5bcc-528e-4ac3-8011-b206c5087461",
   "metadata": {},
   "outputs": [
    {
     "name": "stdout",
     "output_type": "stream",
     "text": [
      "<class 'pandas.core.frame.DataFrame'>\n",
      "RangeIndex: 240 entries, 0 to 239\n",
      "Data columns (total 4 columns):\n",
      " #   Column  Non-Null Count  Dtype\n",
      "---  ------  --------------  -----\n",
      " 0   note0   240 non-null    int64\n",
      " 1   note1   240 non-null    int64\n",
      " 2   note2   240 non-null    int64\n",
      " 3   note3   240 non-null    int64\n",
      "dtypes: int64(4)\n",
      "memory usage: 7.6 KB\n"
     ]
    }
   ],
   "source": [
    "pd.read_csv(file_lst[3]).info()"
   ]
  },
  {
   "cell_type": "markdown",
   "id": "7e4e8637-e87a-48c6-a593-71fa03dbfaa5",
   "metadata": {},
   "source": [
    "### Building the data pipeline\n",
    "\n",
    "__Consideration__:\n",
    "1. 0 Stands for not hitting a note on the piano. It's a pause. Pauses are importend for the melody so they will not be filtered out  \n",
    "2. Network-Architecture    \n",
    "    2.1 It must be a Seq2Seq Model   \n",
    "    2.2. Time Stamps/Input Size should be adjusted by needs.   \n",
    "    2.3 Output-Size must be 4  \n",
    "    \n",
    "3. Does normalization makes sense?   \n",
    "    3.1 Normalization makes sense if we are using Gradient-Descent  \n",
    "    3.2 Working with Distances  \n",
    "    3.3 Using Regularization Techniques  "
   ]
  },
  {
   "cell_type": "code",
   "execution_count": 50,
   "id": "913e71ec-d64f-4906-9430-31b32739e249",
   "metadata": {},
   "outputs": [],
   "source": [
    "dataset = tf.data.Dataset.list_files(os.path.join(DATA_DIR, \"train/*.csv\"), shuffle = True)"
   ]
  },
  {
   "cell_type": "code",
   "execution_count": 51,
   "id": "70b989fb-1e78-49db-a0a0-ac13ed8c6691",
   "metadata": {},
   "outputs": [],
   "source": [
    "dataset = dataset.interleave(lambda x: tf.data.TextLineDataset(x).skip(1), cycle_length = 5, num_parallel_calls=tf.data.AUTOTUNE)"
   ]
  },
  {
   "cell_type": "code",
   "execution_count": 52,
   "id": "c5720525-2abf-4fa9-a1cc-ac4d7681fb29",
   "metadata": {},
   "outputs": [],
   "source": [
    "def preprocess(line):\n",
    "    # tf.io.decode_csv() needs default records. Why? It think to define the datatypes of the filds which are read\n",
    "    default_records = [tf.constant(0, dtype=tf.int64) for x in range(4)]\n",
    "    return tf.io.decode_csv(line, record_defaults = default_records)"
   ]
  },
  {
   "cell_type": "code",
   "execution_count": 53,
   "id": "1aab85b3-ec60-4173-81ab-53a3e3eb4b1b",
   "metadata": {},
   "outputs": [],
   "source": [
    "dataset = dataset.cache()"
   ]
  },
  {
   "cell_type": "code",
   "execution_count": 54,
   "id": "6836329a-af8b-40b2-a534-ee2528a67dbf",
   "metadata": {},
   "outputs": [],
   "source": [
    "dataset = dataset.map(lambda x: preprocess(x))"
   ]
  },
  {
   "cell_type": "code",
   "execution_count": 60,
   "id": "4ebe8ef0-4855-409c-9e89-c1f062375b36",
   "metadata": {},
   "outputs": [],
   "source": [
    "dataset = dataset.batch(BATCH_SIZE, drop_remainder = True, num_parallel_calls = tf.data.AUTOTUNE)"
   ]
  },
  {
   "cell_type": "code",
   "execution_count": 47,
   "id": "7837c16c-c0ce-465e-831d-f52b61556833",
   "metadata": {},
   "outputs": [
    {
     "name": "stdout",
     "output_type": "stream",
     "text": [
      "(<tf.Tensor: shape=(), dtype=int64, numpy=67>, <tf.Tensor: shape=(), dtype=int64, numpy=62>, <tf.Tensor: shape=(), dtype=int64, numpy=59>, <tf.Tensor: shape=(), dtype=int64, numpy=55>)\n"
     ]
    }
   ],
   "source": [
    "for x in dataset.take(1):\n",
    "    print(x)"
   ]
  },
  {
   "cell_type": "code",
   "execution_count": null,
   "id": "90e30866-34eb-4edc-9098-6a522a991183",
   "metadata": {},
   "outputs": [],
   "source": []
  }
 ],
 "metadata": {
  "kernelspec": {
   "display_name": "Python 3 (ipykernel)",
   "language": "python",
   "name": "python3"
  },
  "language_info": {
   "codemirror_mode": {
    "name": "ipython",
    "version": 3
   },
   "file_extension": ".py",
   "mimetype": "text/x-python",
   "name": "python",
   "nbconvert_exporter": "python",
   "pygments_lexer": "ipython3",
   "version": "3.8.0"
  }
 },
 "nbformat": 4,
 "nbformat_minor": 5
}
