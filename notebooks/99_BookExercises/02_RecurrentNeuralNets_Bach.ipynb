{
 "cells": [
  {
   "cell_type": "markdown",
   "id": "2da77d0b-e8f0-4e5e-87d0-bc52c3663b3c",
   "metadata": {},
   "source": [
    "# Recurrent Neural Nets Bach"
   ]
  },
  {
   "cell_type": "code",
   "execution_count": 26,
   "id": "9b447c6d-50e8-4e51-9653-97c4d67dcd01",
   "metadata": {},
   "outputs": [],
   "source": [
    "import os \n",
    "import pandas as pd\n",
    "import numpy as np\n",
    "import tensorflow as tf\n",
    "from tensorflow import keras\n",
    "from glob import glob\n",
    "import seaborn as  sns\n",
    "import matplotlib.pyplot as plt"
   ]
  },
  {
   "cell_type": "code",
   "execution_count": 2,
   "id": "4d11dad0-9a3b-4064-a269-5ac4a40640fc",
   "metadata": {},
   "outputs": [],
   "source": [
    "tf.autograph.set_verbosity(\n",
    "    0, alsologtostdout=False\n",
    ")"
   ]
  },
  {
   "cell_type": "markdown",
   "id": "c54fcc75-88da-45e9-9ca2-2e3bf6f2e194",
   "metadata": {},
   "source": [
    "## GLOBAL PARAMETERS"
   ]
  },
  {
   "cell_type": "code",
   "execution_count": 3,
   "id": "c3ae695c-bf07-44bb-a41f-392fdcfb5dd5",
   "metadata": {},
   "outputs": [],
   "source": [
    "DATA_DIR = \"../../data/bach\""
   ]
  },
  {
   "cell_type": "code",
   "execution_count": 4,
   "id": "4cfd017a-61a4-4940-9b40-b1b67e5ae52a",
   "metadata": {},
   "outputs": [],
   "source": [
    "TRAIN_DIR = \"../../data/bach/train\""
   ]
  },
  {
   "cell_type": "code",
   "execution_count": 5,
   "id": "60db72e2-c56c-42f6-b55c-ac736c12731e",
   "metadata": {},
   "outputs": [],
   "source": [
    "TEST_DIR = \"../../data/bach/test\""
   ]
  },
  {
   "cell_type": "code",
   "execution_count": 6,
   "id": "b2312c97-2c57-43c4-a6ef-328de89d77fa",
   "metadata": {},
   "outputs": [],
   "source": [
    "VALID_DIR = \"../../data/bach/valid\""
   ]
  },
  {
   "cell_type": "code",
   "execution_count": null,
   "id": "80f3bf19-699a-44a2-ad26-cbbc1a06f6fb",
   "metadata": {},
   "outputs": [],
   "source": []
  },
  {
   "cell_type": "code",
   "execution_count": 7,
   "id": "f1b61d94-a56e-48c6-8537-4a2455e5193b",
   "metadata": {},
   "outputs": [],
   "source": [
    "TIME_STAMPS = 8"
   ]
  },
  {
   "cell_type": "code",
   "execution_count": 8,
   "id": "d6ca152c-101c-4b19-9f83-2d57fe3356e7",
   "metadata": {},
   "outputs": [],
   "source": [
    "INPUT_FEATURES = 4"
   ]
  },
  {
   "cell_type": "code",
   "execution_count": 9,
   "id": "04d0542e-e0fe-4431-891f-abd479435433",
   "metadata": {},
   "outputs": [],
   "source": [
    "BATCH_SIZE = 32"
   ]
  },
  {
   "cell_type": "markdown",
   "id": "950d565f-fad5-408d-a863-82ff2adfa44f",
   "metadata": {},
   "source": [
    "## Inspecting the data\n",
    "\n",
    "__Notes:__  \n",
    "0. A chorale seems to be some kind of melody. So a song consists of multiple chorales?\n",
    "1. Each number represents a note - called MIDI numbers. E.G. 66 = F#\n",
    "2. Each row represents a time stamp\n",
    "3. Each chorale is 100 to 640 time stemps long. \n",
    "\n",
    "__Objective:__ \n",
    "1. Train a model that can predict the next time stamp (4 notes)\n",
    "2. Use this model to generate batch like music (One note at the time)"
   ]
  },
  {
   "cell_type": "code",
   "execution_count": 10,
   "id": "826b1bf3-adf0-41ca-b66e-c271507af397",
   "metadata": {},
   "outputs": [],
   "source": [
    "file_lst = glob(os.path.join(DATA_DIR, \"train/*.csv\"))"
   ]
  },
  {
   "cell_type": "code",
   "execution_count": 11,
   "id": "5367c161-2f53-4647-9825-eec5b4c43f1e",
   "metadata": {},
   "outputs": [],
   "source": [
    "df = pd.read_csv(file_lst[0])"
   ]
  },
  {
   "cell_type": "code",
   "execution_count": 12,
   "id": "ca903ebf-2daa-4137-a256-3a053c8c44c5",
   "metadata": {},
   "outputs": [
    {
     "data": {
      "text/html": [
       "<div>\n",
       "<style scoped>\n",
       "    .dataframe tbody tr th:only-of-type {\n",
       "        vertical-align: middle;\n",
       "    }\n",
       "\n",
       "    .dataframe tbody tr th {\n",
       "        vertical-align: top;\n",
       "    }\n",
       "\n",
       "    .dataframe thead th {\n",
       "        text-align: right;\n",
       "    }\n",
       "</style>\n",
       "<table border=\"1\" class=\"dataframe\">\n",
       "  <thead>\n",
       "    <tr style=\"text-align: right;\">\n",
       "      <th></th>\n",
       "      <th>note0</th>\n",
       "      <th>note1</th>\n",
       "      <th>note2</th>\n",
       "      <th>note3</th>\n",
       "    </tr>\n",
       "  </thead>\n",
       "  <tbody>\n",
       "    <tr>\n",
       "      <th>0</th>\n",
       "      <td>68</td>\n",
       "      <td>64</td>\n",
       "      <td>59</td>\n",
       "      <td>52</td>\n",
       "    </tr>\n",
       "    <tr>\n",
       "      <th>1</th>\n",
       "      <td>68</td>\n",
       "      <td>64</td>\n",
       "      <td>59</td>\n",
       "      <td>52</td>\n",
       "    </tr>\n",
       "    <tr>\n",
       "      <th>2</th>\n",
       "      <td>68</td>\n",
       "      <td>64</td>\n",
       "      <td>59</td>\n",
       "      <td>52</td>\n",
       "    </tr>\n",
       "    <tr>\n",
       "      <th>3</th>\n",
       "      <td>68</td>\n",
       "      <td>64</td>\n",
       "      <td>59</td>\n",
       "      <td>52</td>\n",
       "    </tr>\n",
       "    <tr>\n",
       "      <th>4</th>\n",
       "      <td>73</td>\n",
       "      <td>64</td>\n",
       "      <td>57</td>\n",
       "      <td>57</td>\n",
       "    </tr>\n",
       "  </tbody>\n",
       "</table>\n",
       "</div>"
      ],
      "text/plain": [
       "   note0  note1  note2  note3\n",
       "0     68     64     59     52\n",
       "1     68     64     59     52\n",
       "2     68     64     59     52\n",
       "3     68     64     59     52\n",
       "4     73     64     57     57"
      ]
     },
     "execution_count": 12,
     "metadata": {},
     "output_type": "execute_result"
    }
   ],
   "source": [
    "df.head()"
   ]
  },
  {
   "cell_type": "markdown",
   "id": "b3b965c9-3ae0-480c-847a-23829934c4b8",
   "metadata": {},
   "source": [
    "#### Chroales differ in their size (100-640)"
   ]
  },
  {
   "cell_type": "code",
   "execution_count": 13,
   "id": "2dbe6357-257b-43be-ad78-5599a034e8b4",
   "metadata": {},
   "outputs": [
    {
     "name": "stdout",
     "output_type": "stream",
     "text": [
      "<class 'pandas.core.frame.DataFrame'>\n",
      "RangeIndex: 260 entries, 0 to 259\n",
      "Data columns (total 4 columns):\n",
      " #   Column  Non-Null Count  Dtype\n",
      "---  ------  --------------  -----\n",
      " 0   note0   260 non-null    int64\n",
      " 1   note1   260 non-null    int64\n",
      " 2   note2   260 non-null    int64\n",
      " 3   note3   260 non-null    int64\n",
      "dtypes: int64(4)\n",
      "memory usage: 8.2 KB\n"
     ]
    }
   ],
   "source": [
    "df.info()"
   ]
  },
  {
   "cell_type": "code",
   "execution_count": 14,
   "id": "2cfc5bcc-528e-4ac3-8011-b206c5087461",
   "metadata": {},
   "outputs": [
    {
     "name": "stdout",
     "output_type": "stream",
     "text": [
      "<class 'pandas.core.frame.DataFrame'>\n",
      "RangeIndex: 240 entries, 0 to 239\n",
      "Data columns (total 4 columns):\n",
      " #   Column  Non-Null Count  Dtype\n",
      "---  ------  --------------  -----\n",
      " 0   note0   240 non-null    int64\n",
      " 1   note1   240 non-null    int64\n",
      " 2   note2   240 non-null    int64\n",
      " 3   note3   240 non-null    int64\n",
      "dtypes: int64(4)\n",
      "memory usage: 7.6 KB\n"
     ]
    }
   ],
   "source": [
    "pd.read_csv(file_lst[3]).info()"
   ]
  },
  {
   "cell_type": "markdown",
   "id": "7e4e8637-e87a-48c6-a593-71fa03dbfaa5",
   "metadata": {},
   "source": [
    "### Building the data pipeline\n",
    "\n",
    "__Consideration__:\n",
    "1. 0 Stands for not hitting a note on the piano. It's a pause. Pauses are importend for the melody so they will not be filtered out  \n",
    "2. Network-Architecture     \n",
    "    2.1 It must be a Seq2Seq Model   \n",
    "    2.2. Time Stamps/Input Size should be adjusted by needs.   \n",
    "    2.3 Output-Size must be 4  \n",
    "    \n",
    "3. Does normalization makes sense?   \n",
    "    3.1 Normalization makes sense if we are using Gradient-Descent  \n",
    "    3.2 Working with Distances  \n",
    "    3.3 Using Regularization Techniques  \n",
    "    \n",
    "4. Whats gonna be our objective (Y):  \n",
    "    4.1 It would make sense to treat every following note in the dataset as Y \n",
    "\n",
    "5. Convention\n",
    "    5.1 Training an RNN  [Batch_size, time_stamps, num_features]"
   ]
  },
  {
   "cell_type": "code",
   "execution_count": 20,
   "id": "bb71d2ec-4ef6-40b7-b6f0-be178ae886e3",
   "metadata": {},
   "outputs": [],
   "source": [
    "data =  [pd.read_csv(x).values for x in file_lst] # Basically a ragged list. Each batch has a different length <-> This can not be putt into an np.array"
   ]
  },
  {
   "cell_type": "code",
   "execution_count": 21,
   "id": "be0f84d7-0bb9-453c-ba99-795738dab539",
   "metadata": {},
   "outputs": [],
   "source": [
    "batches_len = [len(x) for x in data]"
   ]
  },
  {
   "cell_type": "code",
   "execution_count": 29,
   "id": "31816d0d-f962-43d5-9cc3-e1669f465159",
   "metadata": {},
   "outputs": [
    {
     "data": {
      "text/plain": [
       "241.1703056768559"
      ]
     },
     "execution_count": 29,
     "metadata": {},
     "output_type": "execute_result"
    }
   ],
   "source": [
    "np.mean(batches_len)"
   ]
  },
  {
   "cell_type": "code",
   "execution_count": 31,
   "id": "ecbdeafe-5219-4cc5-9e93-6db7f22c8e3e",
   "metadata": {},
   "outputs": [
    {
     "data": {
      "text/plain": [
       "228.0"
      ]
     },
     "execution_count": 31,
     "metadata": {},
     "output_type": "execute_result"
    }
   ],
   "source": [
    "np.median(batches_len) # Most of the chroales have a length of 228 following chords. Could be the time stamp"
   ]
  },
  {
   "cell_type": "code",
   "execution_count": 28,
   "id": "d26878b8-7a59-4db1-aae6-27bc3d27ec37",
   "metadata": {},
   "outputs": [
    {
     "data": {
      "text/plain": [
       "<seaborn.axisgrid.FacetGrid at 0x7f066bfa8ac0>"
      ]
     },
     "execution_count": 28,
     "metadata": {},
     "output_type": "execute_result"
    },
    {
     "data": {
      "image/png": "[encoded data removed]",
      "text/plain": [
       "<Figure size 360x360 with 1 Axes>"
      ]
     },
     "metadata": {
      "needs_background": "light"
     },
     "output_type": "display_data"
    }
   ],
   "source": [
    "plt.Figure(figsize = (20,20))\n",
    "sns.displot(batches_len, kde = True)"
   ]
  },
  {
   "cell_type": "markdown",
   "id": "3e86bead-3adb-4af5-9fc6-a841fcd1fded",
   "metadata": {},
   "source": [
    "# Bringing the data into the right shape"
   ]
  },
  {
   "cell_type": "markdown",
   "id": "ce5f87cb-ae6a-4026-97db-696e331be879",
   "metadata": {},
   "source": [
    "### Filtering out time series which above the median"
   ]
  },
  {
   "cell_type": "code",
   "execution_count": 61,
   "id": "a24d924f-0d24-45ee-b97b-00ad2a476312",
   "metadata": {},
   "outputs": [],
   "source": [
    "data = [x for x in data if len(x)<=228]"
   ]
  },
  {
   "cell_type": "code",
   "execution_count": 70,
   "id": "9e45faf4-5e74-45b2-8e12-a48c94070340",
   "metadata": {},
   "outputs": [],
   "source": [
    "def add_padding(series, time_stamp_lim):\n",
    "    time_stamps, num_features = series.shape\n",
    "    new_series = np.zeros((time_stamp_lim, num_features))\n",
    "    new_series[:time_stamps] = series\n",
    "    return new_series"
   ]
  },
  {
   "cell_type": "code",
   "execution_count": 79,
   "id": "defe01b1-b520-4770-8bfd-a8cc2677e442",
   "metadata": {},
   "outputs": [],
   "source": [
    "data = np.array([add_padding(x, 228) for x in data]) # Now each time series is 228 time stamps long"
   ]
  },
  {
   "cell_type": "code",
   "execution_count": 81,
   "id": "b4cd8c5d-fb91-4f70-8d23-9f3c341119f8",
   "metadata": {},
   "outputs": [
    {
     "data": {
      "text/plain": [
       "(120, 228, 4)"
      ]
     },
     "execution_count": 81,
     "metadata": {},
     "output_type": "execute_result"
    }
   ],
   "source": [
    "data.shape # 120 Time series each 228 Time stamps long containing each 4 features"
   ]
  },
  {
   "cell_type": "markdown",
   "id": "92139d30-4478-4546-92dd-001ab07042a7",
   "metadata": {},
   "source": [
    "### Split into train and test set\n",
    "\n",
    "This is won't probably work because most of the data contain zeros at the end..."
   ]
  },
  {
   "cell_type": "code",
   "execution_count": 114,
   "id": "ef1d9291-5734-4b5b-867b-00f5f81fd3aa",
   "metadata": {},
   "outputs": [],
   "source": [
    "x_train, y_train = data[...,:227,:], data[...,-1,:] # Using the last chord as Y. So we try only to forecast one time stamp"
   ]
  },
  {
   "cell_type": "code",
   "execution_count": 115,
   "id": "869b207d-84a8-4d0b-a1d4-767e1eaee99e",
   "metadata": {},
   "outputs": [],
   "source": [
    "x_valid, y_valid = data[...,:227,:], data[...,-1,:] # Using the last chord as Y. So we try only to forecast one time stamp"
   ]
  },
  {
   "cell_type": "code",
   "execution_count": 116,
   "id": "6d3932de-a13c-424d-ad92-af2557887886",
   "metadata": {},
   "outputs": [
    {
     "data": {
      "text/plain": [
       "(120, 227, 4)"
      ]
     },
     "execution_count": 116,
     "metadata": {},
     "output_type": "execute_result"
    }
   ],
   "source": [
    "x_train.shape"
   ]
  },
  {
   "cell_type": "code",
   "execution_count": 117,
   "id": "7b28197a-c788-4766-a896-4cfb8dafe9be",
   "metadata": {},
   "outputs": [
    {
     "data": {
      "text/plain": [
       "(120, 4)"
      ]
     },
     "execution_count": 117,
     "metadata": {},
     "output_type": "execute_result"
    }
   ],
   "source": [
    "y_train.shape"
   ]
  },
  {
   "cell_type": "code",
   "execution_count": 139,
   "id": "0d849e20-2dae-4772-8f1d-71f2dacff840",
   "metadata": {},
   "outputs": [],
   "source": [
    "y_train = y_train[:,np.newaxis,:]"
   ]
  },
  {
   "cell_type": "code",
   "execution_count": 136,
   "id": "8aa9388d-58a6-4340-8083-020e692b141a",
   "metadata": {},
   "outputs": [
    {
     "data": {
      "text/plain": [
       "array([67., 62., 59., 43.])"
      ]
     },
     "execution_count": 136,
     "metadata": {},
     "output_type": "execute_result"
    }
   ],
   "source": [
    "y_train[0]"
   ]
  },
  {
   "cell_type": "markdown",
   "id": "387c09dd-dc0a-4b7a-b3af-ec5f5eb18801",
   "metadata": {},
   "source": [
    "## Constructing the model "
   ]
  },
  {
   "cell_type": "code",
   "execution_count": 146,
   "id": "d8392844-0531-40ad-ac94-959ce3304857",
   "metadata": {},
   "outputs": [],
   "source": [
    "model = keras.Sequential([\n",
    "    keras.layers.LSTM(100, return_sequences = True, input_shape = [None, 4]),\n",
    "    keras.layers.LSTM(4, return_sequences = True),\n",
    "])"
   ]
  },
  {
   "cell_type": "code",
   "execution_count": 147,
   "id": "f9005c19-a3eb-4770-ab21-47b4fb57db0e",
   "metadata": {},
   "outputs": [],
   "source": [
    "model.compile(loss=keras.losses.mean_squared_error)"
   ]
  },
  {
   "cell_type": "code",
   "execution_count": 148,
   "id": "5fed1a13-b706-459f-8d3b-6fd05398c4a0",
   "metadata": {},
   "outputs": [
    {
     "name": "stdout",
     "output_type": "stream",
     "text": [
      "Epoch 1/2\n",
      "4/4 [==============================] - 2s 20ms/step - loss: 508.4401\n",
      "Epoch 2/2\n",
      "4/4 [==============================] - 0s 20ms/step - loss: 502.9842\n"
     ]
    },
    {
     "data": {
      "text/plain": [
       "<keras.callbacks.History at 0x7f055569e5e0>"
      ]
     },
     "execution_count": 148,
     "metadata": {},
     "output_type": "execute_result"
    }
   ],
   "source": [
    "model.fit(x_train, y_train,  epochs=2)"
   ]
  },
  {
   "cell_type": "code",
   "execution_count": null,
   "id": "1453ed78-5d54-42ab-8d1e-44dadb52e7bb",
   "metadata": {},
   "outputs": [],
   "source": []
  },
  {
   "cell_type": "code",
   "execution_count": 133,
   "id": "89ee9ba4-7c8b-487d-9bf4-440ff844a5b9",
   "metadata": {},
   "outputs": [
    {
     "data": {
      "text/plain": [
       "(260, 3)"
      ]
     },
     "execution_count": 133,
     "metadata": {},
     "output_type": "execute_result"
    }
   ],
   "source": [
    "data[0][:,1:].shape"
   ]
  },
  {
   "cell_type": "code",
   "execution_count": 105,
   "id": "913e71ec-d64f-4906-9430-31b32739e249",
   "metadata": {},
   "outputs": [],
   "source": [
    "dataset = tf.data.Dataset.list_files(os.path.join(DATA_DIR, \"train/*.csv\"), shuffle = True)"
   ]
  },
  {
   "cell_type": "code",
   "execution_count": 106,
   "id": "70b989fb-1e78-49db-a0a0-ac13ed8c6691",
   "metadata": {},
   "outputs": [],
   "source": [
    "dataset = dataset.interleave(lambda x: tf.data.TextLineDataset(x).skip(1), cycle_length = 5, num_parallel_calls=tf.data.AUTOTUNE)"
   ]
  },
  {
   "cell_type": "code",
   "execution_count": 107,
   "id": "7837c16c-c0ce-465e-831d-f52b61556833",
   "metadata": {},
   "outputs": [
    {
     "name": "stdout",
     "output_type": "stream",
     "text": [
      "tf.Tensor(b'73,69,64,57', shape=(), dtype=string)\n",
      "tf.Tensor(b'73,69,64,57', shape=(), dtype=string)\n"
     ]
    }
   ],
   "source": [
    "for x in dataset.take(2):\n",
    "    print(x)"
   ]
  },
  {
   "cell_type": "code",
   "execution_count": 108,
   "id": "c5720525-2abf-4fa9-a1cc-ac4d7681fb29",
   "metadata": {},
   "outputs": [],
   "source": [
    "def preprocess(line):\n",
    "    # tf.io.decode_csv() needs default records. Why? It think to define the datatypes of the filds which are read\n",
    "    default_records = [tf.constant(0, dtype=tf.int64) for x in range(4)]\n",
    "    return tf.io.decode_csv(line, record_defaults = default_records)"
   ]
  },
  {
   "cell_type": "code",
   "execution_count": 109,
   "id": "1aab85b3-ec60-4173-81ab-53a3e3eb4b1b",
   "metadata": {},
   "outputs": [],
   "source": [
    "dataset = dataset.cache()"
   ]
  },
  {
   "cell_type": "code",
   "execution_count": 110,
   "id": "6836329a-af8b-40b2-a534-ee2528a67dbf",
   "metadata": {},
   "outputs": [],
   "source": [
    "dataset = dataset.map(lambda x: preprocess(x))"
   ]
  },
  {
   "cell_type": "code",
   "execution_count": 111,
   "id": "7e004b3f-96fb-4782-8579-6e017e4d2d93",
   "metadata": {},
   "outputs": [
    {
     "name": "stdout",
     "output_type": "stream",
     "text": [
      "(<tf.Tensor: shape=(), dtype=int64, numpy=65>, <tf.Tensor: shape=(), dtype=int64, numpy=60>, <tf.Tensor: shape=(), dtype=int64, numpy=57>, <tf.Tensor: shape=(), dtype=int64, numpy=53>)\n",
      "(<tf.Tensor: shape=(), dtype=int64, numpy=64>, <tf.Tensor: shape=(), dtype=int64, numpy=59>, <tf.Tensor: shape=(), dtype=int64, numpy=56>, <tf.Tensor: shape=(), dtype=int64, numpy=52>)\n"
     ]
    },
    {
     "name": "stderr",
     "output_type": "stream",
     "text": [
      "2021-10-12 12:29:22.207636: W tensorflow/core/kernels/data/cache_dataset_ops.cc:768] The calling iterator did not fully read the dataset being cached. In order to avoid unexpected truncation of the dataset, the partially cached contents of the dataset  will be discarded. This can happen if you have an input pipeline similar to `dataset.cache().take(k).repeat()`. You should use `dataset.take(k).cache().repeat()` instead.\n"
     ]
    }
   ],
   "source": [
    "for x in dataset.take(2):\n",
    "    print(x)"
   ]
  },
  {
   "cell_type": "code",
   "execution_count": 95,
   "id": "4ebe8ef0-4855-409c-9e89-c1f062375b36",
   "metadata": {},
   "outputs": [],
   "source": [
    "dataset = dataset.batch(BATCH_SIZE, drop_remainder = True, num_parallel_calls = tf.data.AUTOTUNE)"
   ]
  },
  {
   "cell_type": "code",
   "execution_count": 96,
   "id": "90e30866-34eb-4edc-9098-6a522a991183",
   "metadata": {},
   "outputs": [
    {
     "name": "stdout",
     "output_type": "stream",
     "text": [
      "(<tf.Tensor: shape=(32,), dtype=int64, numpy=\n",
      "array([67, 73, 69, 69, 74, 67, 73, 69, 69, 74, 67, 73, 69, 69, 74, 67, 73,\n",
      "       69, 69, 74, 69, 69, 76, 66, 74, 69, 69, 76, 66, 74, 69, 69])>, <tf.Tensor: shape=(32,), dtype=int64, numpy=\n",
      "array([62, 69, 64, 62, 69, 62, 69, 64, 62, 69, 62, 69, 64, 62, 69, 62, 69,\n",
      "       64, 62, 69, 62, 66, 64, 62, 71, 62, 66, 64, 62, 71, 62, 66])>, <tf.Tensor: shape=(32,), dtype=int64, numpy=\n",
      "array([59, 64, 61, 54, 66, 59, 64, 61, 54, 66, 59, 64, 61, 54, 66, 59, 64,\n",
      "       61, 54, 66, 57, 62, 59, 57, 66, 57, 62, 59, 57, 66, 57, 62])>, <tf.Tensor: shape=(32,), dtype=int64, numpy=\n",
      "array([55, 57, 57, 50, 62, 55, 57, 57, 50, 62, 55, 57, 57, 50, 61, 55, 57,\n",
      "       57, 50, 61, 54, 62, 56, 50, 59, 54, 62, 56, 50, 59, 54, 62])>)\n"
     ]
    },
    {
     "name": "stderr",
     "output_type": "stream",
     "text": [
      "2021-10-12 12:28:59.205660: W tensorflow/core/kernels/data/cache_dataset_ops.cc:768] The calling iterator did not fully read the dataset being cached. In order to avoid unexpected truncation of the dataset, the partially cached contents of the dataset  will be discarded. This can happen if you have an input pipeline similar to `dataset.cache().take(k).repeat()`. You should use `dataset.take(k).cache().repeat()` instead.\n"
     ]
    }
   ],
   "source": [
    "for x in dataset.take(1):\n",
    "    print(x)"
   ]
  },
  {
   "cell_type": "code",
   "execution_count": null,
   "id": "df5c3403-29ed-47f1-b42f-229875dd8f92",
   "metadata": {},
   "outputs": [],
   "source": []
  },
  {
   "cell_type": "code",
   "execution_count": null,
   "id": "35dd9a1e-3146-4df8-8718-6190e421094b",
   "metadata": {},
   "outputs": [],
   "source": []
  }
 ],
 "metadata": {
  "kernelspec": {
   "display_name": "Python 3 (ipykernel)",
   "language": "python",
   "name": "python3"
  },
  "language_info": {
   "codemirror_mode": {
    "name": "ipython",
    "version": 3
   },
   "file_extension": ".py",
   "mimetype": "text/x-python",
   "name": "python",
   "nbconvert_exporter": "python",
   "pygments_lexer": "ipython3",
   "version": "3.8.0"
  }
 },
 "nbformat": 4,
 "nbformat_minor": 5
}
