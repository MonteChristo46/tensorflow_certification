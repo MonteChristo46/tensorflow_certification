{
 "cells": [
  {
   "cell_type": "markdown",
   "id": "8ed89248-5f3b-42b5-bdbc-c6c5ddb6583e",
   "metadata": {},
   "source": [
    "# Sentiment Analysis"
   ]
  },
  {
   "cell_type": "code",
   "execution_count": 1,
   "id": "94e557ca-9038-4436-834e-b97fb787595e",
   "metadata": {},
   "outputs": [],
   "source": [
    "import tensorflow as tf\n",
    "from tensorflow import keras\n",
    "import numpy as np\n",
    "import tensorflow_datasets as tfds\n",
    "from collections import Counter\n",
    "import time\n",
    "import os"
   ]
  },
  {
   "cell_type": "markdown",
   "id": "116d2887-a9bd-486a-b21a-37f3dae6b304",
   "metadata": {},
   "source": [
    "## Loading the dataset"
   ]
  },
  {
   "cell_type": "code",
   "execution_count": 2,
   "id": "8d4ec66f-d8bf-47a8-ac4b-d766f827fef6",
   "metadata": {},
   "outputs": [],
   "source": [
    "(x_train, y_train), (x_test, y_test) = keras.datasets.imdb.load_data()"
   ]
  },
  {
   "cell_type": "code",
   "execution_count": 3,
   "id": "c61d9900-8bbf-4494-bbb7-d7f09676759e",
   "metadata": {},
   "outputs": [
    {
     "data": {
      "text/plain": [
       "(25000,)"
      ]
     },
     "execution_count": 3,
     "metadata": {},
     "output_type": "execute_result"
    }
   ],
   "source": [
    "x_train.shape # 25000 movie reviews. The list contains integer that reference to a word"
   ]
  },
  {
   "cell_type": "code",
   "execution_count": 4,
   "id": "060b3cc1-844b-4374-8601-da65662f0ee3",
   "metadata": {},
   "outputs": [
    {
     "data": {
      "text/plain": [
       "[1, 14, 22, 16, 43]"
      ]
     },
     "execution_count": 4,
     "metadata": {},
     "output_type": "execute_result"
    }
   ],
   "source": [
    "x_train[0][:5] # First 5 words of the first review"
   ]
  },
  {
   "cell_type": "code",
   "execution_count": 5,
   "id": "2093c3c5-6e57-4fe5-aad2-a30ae9f41565",
   "metadata": {},
   "outputs": [],
   "source": [
    "word_index = keras.datasets.imdb.get_word_index() # Basically the look up table for the words - key are the words and the values the ids"
   ]
  },
  {
   "cell_type": "code",
   "execution_count": 6,
   "id": "35a54fc4-3eb1-400f-97c5-9708bcfb1626",
   "metadata": {},
   "outputs": [],
   "source": [
    "id_to_word = {key+3: word for word, key in word_index.items()} # Key are now the ids and values the words"
   ]
  },
  {
   "cell_type": "code",
   "execution_count": 7,
   "id": "f17bf4e2-c510-42ca-9af9-ade896197ad1",
   "metadata": {},
   "outputs": [
    {
     "data": {
      "text/plain": [
       "[(34704, 'fawn'), (52009, 'tsukino'), (52010, 'nunnery')]"
      ]
     },
     "execution_count": 7,
     "metadata": {},
     "output_type": "execute_result"
    }
   ],
   "source": [
    "list(id_to_word.items())[:3] # First three key value pairs"
   ]
  },
  {
   "cell_type": "code",
   "execution_count": 8,
   "id": "4047ffd0-0e17-4247-b452-d3dff5c88777",
   "metadata": {},
   "outputs": [],
   "source": [
    "# The dataset holds the numbers 1,2 and 3 for nlp tags"
   ]
  },
  {
   "cell_type": "code",
   "execution_count": 9,
   "id": "1ed68fd0-c315-4c52-8938-43c47e064158",
   "metadata": {},
   "outputs": [],
   "source": [
    "for key, value in enumerate((\"<pad>\", \"<sos>\", \"<unk>\")):\n",
    "    id_to_word[key] = value"
   ]
  },
  {
   "cell_type": "code",
   "execution_count": 10,
   "id": "5a6e56d0-9b2c-476c-94bd-d68779497b72",
   "metadata": {},
   "outputs": [
    {
     "data": {
      "text/plain": [
       "'<pad>'"
      ]
     },
     "execution_count": 10,
     "metadata": {},
     "output_type": "execute_result"
    }
   ],
   "source": [
    "id_to_word[0]"
   ]
  },
  {
   "cell_type": "code",
   "execution_count": 11,
   "id": "e972be92-b1af-48df-a615-7aa0f834e596",
   "metadata": {},
   "outputs": [
    {
     "name": "stderr",
     "output_type": "stream",
     "text": [
      "2021-09-19 13:35:24.831479: I tensorflow/stream_executor/cuda/cuda_gpu_executor.cc:937] successful NUMA node read from SysFS had negative value (-1), but there must be at least one NUMA node, so returning NUMA node zero\n",
      "2021-09-19 13:35:24.837952: I tensorflow/stream_executor/cuda/cuda_gpu_executor.cc:937] successful NUMA node read from SysFS had negative value (-1), but there must be at least one NUMA node, so returning NUMA node zero\n",
      "2021-09-19 13:35:24.838560: I tensorflow/stream_executor/cuda/cuda_gpu_executor.cc:937] successful NUMA node read from SysFS had negative value (-1), but there must be at least one NUMA node, so returning NUMA node zero\n",
      "2021-09-19 13:35:24.839920: I tensorflow/core/platform/cpu_feature_guard.cc:142] This TensorFlow binary is optimized with oneAPI Deep Neural Network Library (oneDNN) to use the following CPU instructions in performance-critical operations:  AVX2 FMA\n",
      "To enable them in other operations, rebuild TensorFlow with the appropriate compiler flags.\n",
      "2021-09-19 13:35:24.840668: I tensorflow/stream_executor/cuda/cuda_gpu_executor.cc:937] successful NUMA node read from SysFS had negative value (-1), but there must be at least one NUMA node, so returning NUMA node zero\n",
      "2021-09-19 13:35:24.841185: I tensorflow/stream_executor/cuda/cuda_gpu_executor.cc:937] successful NUMA node read from SysFS had negative value (-1), but there must be at least one NUMA node, so returning NUMA node zero\n",
      "2021-09-19 13:35:24.841683: I tensorflow/stream_executor/cuda/cuda_gpu_executor.cc:937] successful NUMA node read from SysFS had negative value (-1), but there must be at least one NUMA node, so returning NUMA node zero\n",
      "2021-09-19 13:35:25.257985: I tensorflow/stream_executor/cuda/cuda_gpu_executor.cc:937] successful NUMA node read from SysFS had negative value (-1), but there must be at least one NUMA node, so returning NUMA node zero\n",
      "2021-09-19 13:35:25.258495: I tensorflow/stream_executor/cuda/cuda_gpu_executor.cc:937] successful NUMA node read from SysFS had negative value (-1), but there must be at least one NUMA node, so returning NUMA node zero\n",
      "2021-09-19 13:35:25.258958: I tensorflow/stream_executor/cuda/cuda_gpu_executor.cc:937] successful NUMA node read from SysFS had negative value (-1), but there must be at least one NUMA node, so returning NUMA node zero\n",
      "2021-09-19 13:35:25.259407: I tensorflow/core/common_runtime/gpu/gpu_device.cc:1510] Created device /job:localhost/replica:0/task:0/device:GPU:0 with 6109 MB memory:  -> device: 0, name: NVIDIA GeForce RTX 2070, pci bus id: 0000:0b:00.0, compute capability: 7.5\n"
     ]
    }
   ],
   "source": [
    "datasets, info = tfds.load(\"imdb_reviews\", as_supervised=True, with_info=True)"
   ]
  },
  {
   "cell_type": "code",
   "execution_count": 12,
   "id": "636f3c9f-cea4-4b13-8c8e-5f503ba71504",
   "metadata": {},
   "outputs": [
    {
     "data": {
      "text/plain": [
       "tfds.core.DatasetInfo(\n",
       "    name='imdb_reviews',\n",
       "    full_name='imdb_reviews/plain_text/1.0.0',\n",
       "    description=\"\"\"\n",
       "    Large Movie Review Dataset.\n",
       "    This is a dataset for binary sentiment classification containing substantially more data than previous benchmark datasets. We provide a set of 25,000 highly polar movie reviews for training, and 25,000 for testing. There is additional unlabeled data for use as well.\n",
       "    \"\"\",\n",
       "    config_description=\"\"\"\n",
       "    Plain text\n",
       "    \"\"\",\n",
       "    homepage='http://ai.stanford.edu/~amaas/data/sentiment/',\n",
       "    data_path='/home/daniel/tensorflow_datasets/imdb_reviews/plain_text/1.0.0',\n",
       "    download_size=80.23 MiB,\n",
       "    dataset_size=129.83 MiB,\n",
       "    features=FeaturesDict({\n",
       "        'label': ClassLabel(shape=(), dtype=tf.int64, num_classes=2),\n",
       "        'text': Text(shape=(), dtype=tf.string),\n",
       "    }),\n",
       "    supervised_keys=('text', 'label'),\n",
       "    disable_shuffling=False,\n",
       "    splits={\n",
       "        'test': <SplitInfo num_examples=25000, num_shards=1>,\n",
       "        'train': <SplitInfo num_examples=25000, num_shards=1>,\n",
       "        'unsupervised': <SplitInfo num_examples=50000, num_shards=1>,\n",
       "    },\n",
       "    citation=\"\"\"@InProceedings{maas-EtAl:2011:ACL-HLT2011,\n",
       "      author    = {Maas, Andrew L.  and  Daly, Raymond E.  and  Pham, Peter T.  and  Huang, Dan  and  Ng, Andrew Y.  and  Potts, Christopher},\n",
       "      title     = {Learning Word Vectors for Sentiment Analysis},\n",
       "      booktitle = {Proceedings of the 49th Annual Meeting of the Association for Computational Linguistics: Human Language Technologies},\n",
       "      month     = {June},\n",
       "      year      = {2011},\n",
       "      address   = {Portland, Oregon, USA},\n",
       "      publisher = {Association for Computational Linguistics},\n",
       "      pages     = {142--150},\n",
       "      url       = {http://www.aclweb.org/anthology/P11-1015}\n",
       "    }\"\"\",\n",
       ")"
      ]
     },
     "execution_count": 12,
     "metadata": {},
     "output_type": "execute_result"
    }
   ],
   "source": [
    "info"
   ]
  },
  {
   "cell_type": "code",
   "execution_count": 13,
   "id": "088e3c57-e168-4110-a403-4865862c379b",
   "metadata": {},
   "outputs": [],
   "source": [
    "train_size = info.splits[\"train\"].num_examples"
   ]
  },
  {
   "cell_type": "markdown",
   "id": "36c0beb5-c04f-43fe-a225-2ab5aaa36374",
   "metadata": {},
   "source": [
    "## Reading the Datasets"
   ]
  },
  {
   "cell_type": "code",
   "execution_count": 14,
   "id": "aefa3aca-3b35-4248-a1d5-617dd7d54e3a",
   "metadata": {},
   "outputs": [
    {
     "name": "stderr",
     "output_type": "stream",
     "text": [
      "2021-09-19 13:35:25.447426: I tensorflow/compiler/mlir/mlir_graph_optimization_pass.cc:185] None of the MLIR Optimization Passes are enabled (registered 2)\n"
     ]
    },
    {
     "name": "stdout",
     "output_type": "stream",
     "text": [
      "Text: b\"This was an absolutely terrible movie. Don't be lured in by Christopher Walken or Michael Ironside. Both are great actors, but this must simply be their worst role in history. Even their great acting could not redeem this movie's ridiculous storyline. This movie is an early nineties US propaganda piece. The most pathetic scenes were those when the Columbian rebels were making their cases for revolutions. Maria Conchita Alonso appeared phony, and her pseudo-love affair with Walken was nothing but a pathetic emotional plug in a movie that was devoid of any real meaning. I am disappointed that there are movies like this, ruining actor's like Christopher Walken's good name. I could barely sit through it.\"\n",
      "Label: 0\n",
      "________\n",
      "Text: b'I have been known to fall asleep during films, but this is usually due to a combination of things including, really tired, being warm and comfortable on the sette and having just eaten a lot. However on this occasion I fell asleep because the film was rubbish. The plot development was constant. Constantly slow and boring. Things seemed to happen, but with no explanation of what was causing them or why. I admit, I may have missed part of the film, but i watched the majority of it and everything just seemed to happen of its own accord without any real concern for anything else. I cant recommend this film at all.'\n",
      "Label: 0\n",
      "________\n",
      "Text: b'Mann photographs the Alberta Rocky Mountains in a superb fashion, and Jimmy Stewart and Walter Brennan give enjoyable performances as they always seem to do. <br /><br />But come on Hollywood - a Mountie telling the people of Dawson City, Yukon to elect themselves a marshal (yes a marshal!) and to enforce the law themselves, then gunfighters battling it out on the streets for control of the town? <br /><br />Nothing even remotely resembling that happened on the Canadian side of the border during the Klondike gold rush. Mr. Mann and company appear to have mistaken Dawson City for Deadwood, the Canadian North for the American Wild West.<br /><br />Canadian viewers be prepared for a Reefer Madness type of enjoyable howl with this ludicrous plot, or, to shake your head in disgust.'\n",
      "Label: 0\n",
      "________\n",
      "Text: b'This is the kind of film for a snowy Sunday afternoon when the rest of the world can go ahead with its own business as you descend into a big arm-chair and mellow for a couple of hours. Wonderful performances from Cher and Nicolas Cage (as always) gently row the plot along. There are no rapids to cross, no dangerous waters, just a warm and witty paddle through New York life at its best. A family film in every sense and one that deserves the praise it received.'\n",
      "Label: 1\n",
      "________\n"
     ]
    },
    {
     "name": "stderr",
     "output_type": "stream",
     "text": [
      "2021-09-19 13:35:25.500791: W tensorflow/core/kernels/data/cache_dataset_ops.cc:768] The calling iterator did not fully read the dataset being cached. In order to avoid unexpected truncation of the dataset, the partially cached contents of the dataset  will be discarded. This can happen if you have an input pipeline similar to `dataset.cache().take(k).repeat()`. You should use `dataset.take(k).cache().repeat()` instead.\n"
     ]
    }
   ],
   "source": [
    "for x_batch, y_batch in datasets[\"train\"].take(4):\n",
    "    print(\"Text: {}\".format(x_batch))\n",
    "    print(\"Label: {}\".format(y_batch))\n",
    "    print(\"________\")"
   ]
  },
  {
   "cell_type": "markdown",
   "id": "aae89972-0ef0-403d-8b69-bd4ca61ca90b",
   "metadata": {},
   "source": [
    "## Some Preprocessing (copied and pasted)"
   ]
  },
  {
   "cell_type": "code",
   "execution_count": 15,
   "id": "350b1381-e056-40c8-a9cc-f54bef372078",
   "metadata": {},
   "outputs": [],
   "source": [
    "def preprocess(X_batch, y_batch):\n",
    "    X_batch = tf.strings.substr(X_batch, 0, 300)\n",
    "    X_batch = tf.strings.regex_replace(X_batch, rb\"<br\\s*/?>\", b\" \")\n",
    "    X_batch = tf.strings.regex_replace(X_batch, b\"[^a-zA-Z']\", b\" \")\n",
    "    X_batch = tf.strings.split(X_batch) # Splits words based on whitespace\n",
    "    return X_batch.to_tensor(default_value=b\"<pad>\"), y_batch # Default value is padding all tensor will be made to the same length and filled with padding. Now we don't have a RaggedTensor anymore."
   ]
  },
  {
   "cell_type": "markdown",
   "id": "8d215012-3c8c-4792-b4d1-09bca85410c4",
   "metadata": {},
   "source": [
    "## Constructing Vocabular"
   ]
  },
  {
   "cell_type": "code",
   "execution_count": 16,
   "id": "ab1b4721-1606-4923-823d-51c14fe7c4ed",
   "metadata": {},
   "outputs": [
    {
     "data": {
      "text/plain": [
       "Counter({'HELLO': 1, 'MY': 1, 'GUY': 1})"
      ]
     },
     "execution_count": 16,
     "metadata": {},
     "output_type": "execute_result"
    }
   ],
   "source": [
    "Counter([\"HELLO\", \"MY\", \"GUY\"])"
   ]
  },
  {
   "cell_type": "code",
   "execution_count": 17,
   "id": "aecee1b0-05aa-44b3-914a-f6fe08310f3d",
   "metadata": {},
   "outputs": [],
   "source": [
    "vocabulary = Counter()"
   ]
  },
  {
   "cell_type": "code",
   "execution_count": 18,
   "id": "8350e12d-78fa-4d42-9e03-e54eb183e50f",
   "metadata": {},
   "outputs": [],
   "source": [
    "for x_batch, y_batch in datasets[\"train\"].batch(32).map(preprocess):\n",
    "    #print(x_batch.shape)\n",
    "    #print(x_batch[0])\n",
    "    #print(x_batch[0].shape)\n",
    "    #print(x_batch[0][0])\n",
    "    for review in x_batch:\n",
    "        vocabulary.update(list(review.numpy())) # Counter can not work with tensors gets something like this [\"word 1\", \"word 2\",...]"
   ]
  },
  {
   "cell_type": "code",
   "execution_count": 19,
   "id": "b62588f6-481e-4295-887c-eebb2a6abdb3",
   "metadata": {},
   "outputs": [
    {
     "data": {
      "text/plain": [
       "[(b'<pad>', 214309), (b'the', 61137), (b'a', 38564), (b'of', 33983)]"
      ]
     },
     "execution_count": 19,
     "metadata": {},
     "output_type": "execute_result"
    }
   ],
   "source": [
    "vocabulary.most_common(4)"
   ]
  },
  {
   "cell_type": "code",
   "execution_count": 20,
   "id": "f574b770-6a22-40aa-aa45-fb2a71ab4bbe",
   "metadata": {},
   "outputs": [
    {
     "data": {
      "text/plain": [
       "53893"
      ]
     },
     "execution_count": 20,
     "metadata": {},
     "output_type": "execute_result"
    }
   ],
   "source": [
    "len(vocabulary) # That seems like a lot let's only keept the first 10.000"
   ]
  },
  {
   "cell_type": "markdown",
   "id": "54c775d5-b174-441a-91bc-7696affe09b2",
   "metadata": {},
   "source": [
    "## Filtering Vocabulary"
   ]
  },
  {
   "cell_type": "code",
   "execution_count": 21,
   "id": "f151a609-d3e0-4678-8335-eddaffbd0a42",
   "metadata": {},
   "outputs": [],
   "source": [
    "vocab_size = 10000\n",
    "truncated_vocab = [ word for word, count in vocabulary.most_common()[:vocab_size]]"
   ]
  },
  {
   "cell_type": "code",
   "execution_count": 22,
   "id": "6b8e2591-ffe9-4bef-916e-13bf65eda736",
   "metadata": {},
   "outputs": [],
   "source": [
    "words = tf.constant(truncated_vocab)"
   ]
  },
  {
   "cell_type": "code",
   "execution_count": 23,
   "id": "a5d71572-14fd-41e7-8eb5-06362c6875ea",
   "metadata": {},
   "outputs": [],
   "source": [
    "word_ids = tf.range(len(truncated_vocab), dtype=tf.int64)"
   ]
  },
  {
   "cell_type": "code",
   "execution_count": 24,
   "id": "579a43d7-c20c-4501-a82d-168cf771959c",
   "metadata": {},
   "outputs": [],
   "source": [
    "vocab_init = tf.lookup.KeyValueTensorInitializer(words, word_ids) # Basically creating a lookupTable in TF or dict"
   ]
  },
  {
   "cell_type": "code",
   "execution_count": 25,
   "id": "8830b68e-878e-42eb-900d-c779ca6d8ce7",
   "metadata": {},
   "outputs": [],
   "source": [
    "num_oov_buckets = 10000"
   ]
  },
  {
   "cell_type": "code",
   "execution_count": 26,
   "id": "7502f0f9-1c7c-47d8-9881-7a3c10240d32",
   "metadata": {},
   "outputs": [],
   "source": [
    "table = tf.lookup.StaticVocabularyTable(vocab_init, num_oov_buckets) # WTF? Chapter 13!"
   ]
  },
  {
   "cell_type": "code",
   "execution_count": 27,
   "id": "f0324b1c-4391-4c36-8d1f-fa7702b5dff1",
   "metadata": {},
   "outputs": [
    {
     "data": {
      "text/plain": [
       "<tf.Tensor: shape=(5,), dtype=int64, numpy=array([13250,    41,   590,     7, 15613])>"
      ]
     },
     "execution_count": 27,
     "metadata": {},
     "output_type": "execute_result"
    }
   ],
   "source": [
    "table.lookup(tf.constant(\"Hello, my opinion is dqwnfdoidwwqdwqeq\".split()))"
   ]
  },
  {
   "cell_type": "code",
   "execution_count": null,
   "id": "a51e658c-3062-4899-8b32-4b8ed7956c99",
   "metadata": {},
   "outputs": [],
   "source": []
  },
  {
   "cell_type": "code",
   "execution_count": 28,
   "id": "c371e8b9-67c8-4c6e-926a-1e6aaa192647",
   "metadata": {},
   "outputs": [],
   "source": [
    "def encode_words(x_batch, y_batch):\n",
    "    return table.lookup(x_batch), y_batch"
   ]
  },
  {
   "cell_type": "markdown",
   "id": "8ba19979-72ef-4b60-ba4d-7d3b33c8281c",
   "metadata": {},
   "source": [
    "## Building the model"
   ]
  },
  {
   "cell_type": "code",
   "execution_count": 29,
   "id": "644e4ae7-2bd9-417d-8cfd-1a6fae3b81bc",
   "metadata": {},
   "outputs": [],
   "source": [
    "\n",
    "train_set = datasets[\"train\"].batch(32).map(preprocess)\n",
    "train_set = train_set.map(encode_words).prefetch(1)"
   ]
  },
  {
   "cell_type": "code",
   "execution_count": 30,
   "id": "a539a5f2-61fd-48ac-8bc1-78d958099bf6",
   "metadata": {},
   "outputs": [
    {
     "name": "stdout",
     "output_type": "stream",
     "text": [
      "tf.Tensor(\n",
      "[[  22   11   28 ...    0    0    0]\n",
      " [   6   21   70 ...    0    0    0]\n",
      " [4099 6881    1 ...    0    0    0]\n",
      " ...\n",
      " [  22   12  118 ...  331 1047    0]\n",
      " [1757 4101  451 ...    0    0    0]\n",
      " [3365 4392    6 ...    0    0    0]], shape=(32, 60), dtype=int64)\n",
      "tf.Tensor([0 0 0 1 1 1 0 0 0 0 0 1 1 0 1 0 1 1 1 0 1 1 1 1 1 0 0 0 1 0 0 0], shape=(32,), dtype=int64)\n"
     ]
    }
   ],
   "source": [
    "for X_batch, y_batch in train_set.take(1):\n",
    "    print(X_batch)\n",
    "    print(y_batch)"
   ]
  },
  {
   "cell_type": "markdown",
   "id": "c7efe6e5-bdeb-4b76-9a2c-edfb9ff990bc",
   "metadata": {},
   "source": [
    "### Defining the calmlbacks"
   ]
  },
  {
   "cell_type": "code",
   "execution_count": 31,
   "id": "9dd4cad8-4584-47e0-b400-0498675c6254",
   "metadata": {},
   "outputs": [],
   "source": [
    "root_logdir = \"logs\""
   ]
  },
  {
   "cell_type": "code",
   "execution_count": 32,
   "id": "3ee17287-b232-41cc-bb88-6fcc5b571fda",
   "metadata": {},
   "outputs": [],
   "source": [
    "def get_run_logdir() -> str:\n",
    "    run_id = time.strftime(\"run_%Y_%m_%d-%H-%M-%S\")\n",
    "    return os.path.join(root_logdir, run_id)"
   ]
  },
  {
   "cell_type": "code",
   "execution_count": 33,
   "id": "1e3e0c89-d0e1-4f47-a592-9632e4a784c1",
   "metadata": {},
   "outputs": [
    {
     "data": {
      "text/plain": [
       "'logs/run_2021_09_19-13-35-30'"
      ]
     },
     "execution_count": 33,
     "metadata": {},
     "output_type": "execute_result"
    }
   ],
   "source": [
    "get_run_logdir()"
   ]
  },
  {
   "cell_type": "code",
   "execution_count": 34,
   "id": "d09778e7-4305-4970-9789-3ed3aff1adab",
   "metadata": {},
   "outputs": [
    {
     "name": "stderr",
     "output_type": "stream",
     "text": [
      "2021-09-19 13:35:30.815441: I tensorflow/core/profiler/lib/profiler_session.cc:131] Profiler session initializing.\n",
      "2021-09-19 13:35:30.815468: I tensorflow/core/profiler/lib/profiler_session.cc:146] Profiler session started.\n",
      "2021-09-19 13:35:30.815503: I tensorflow/core/profiler/internal/gpu/cupti_tracer.cc:1614] Profiler found 1 GPUs\n",
      "2021-09-19 13:35:30.816059: W tensorflow/stream_executor/platform/default/dso_loader.cc:64] Could not load dynamic library 'libcupti.so.11.2'; dlerror: libcupti.so.11.2: cannot open shared object file: No such file or directory; LD_LIBRARY_PATH: /usr/local/cuda-11.2/lib64\n",
      "2021-09-19 13:35:30.917006: E tensorflow/core/profiler/internal/gpu/cupti_tracer.cc:1666] function cupti_interface_->Subscribe( &subscriber_, (CUpti_CallbackFunc)ApiCallback, this)failed with error CUPTI_ERROR_INSUFFICIENT_PRIVILEGES\n",
      "2021-09-19 13:35:30.917178: I tensorflow/core/profiler/lib/profiler_session.cc:164] Profiler session tear down.\n"
     ]
    }
   ],
   "source": [
    "tensorboard_cb = keras.callbacks.TensorBoard(get_run_logdir(),  update_freq= 1)"
   ]
  },
  {
   "cell_type": "code",
   "execution_count": 35,
   "id": "1836807b-f0e5-4438-903d-841282c6592f",
   "metadata": {},
   "outputs": [],
   "source": [
    "checkpoint_cb = keras.callbacks.ModelCheckpoint(\"shakespeare_text.h5\")"
   ]
  },
  {
   "cell_type": "code",
   "execution_count": 36,
   "id": "d65bb908-d6b2-4273-ae7f-f0b05cc944b1",
   "metadata": {},
   "outputs": [],
   "source": [
    "embed_size = 128\n",
    "model = keras.models.Sequential([\n",
    "    keras.layers.Embedding(vocab_size + num_oov_buckets, embed_size,\n",
    "                           mask_zero=True, # not shown in the book\n",
    "                           input_shape=[None]),\n",
    "    keras.layers.GRU(128, return_sequences=True),\n",
    "    keras.layers.GRU(128),\n",
    "    keras.layers.Dense(1, activation=\"sigmoid\")\n",
    "])\n"
   ]
  },
  {
   "cell_type": "code",
   "execution_count": 37,
   "id": "047b090b-4686-4c3d-bd3c-c211aab2a8d4",
   "metadata": {},
   "outputs": [],
   "source": [
    "model.compile(loss=\"binary_crossentropy\", optimizer=\"adam\", metrics=[\"accuracy\"])"
   ]
  },
  {
   "cell_type": "code",
   "execution_count": 38,
   "id": "b99e0edf-4e66-4eac-b245-0953d9066c70",
   "metadata": {},
   "outputs": [
    {
     "name": "stdout",
     "output_type": "stream",
     "text": [
      "Epoch 1/10\n"
     ]
    },
    {
     "name": "stderr",
     "output_type": "stream",
     "text": [
      "2021-09-19 13:35:37.377262: I tensorflow/stream_executor/cuda/cuda_dnn.cc:369] Loaded cuDNN version 8100\n"
     ]
    },
    {
     "name": "stdout",
     "output_type": "stream",
     "text": [
      " 12/782 [..............................] - ETA: 30s - loss: 0.6939 - accuracy: 0.4792"
     ]
    },
    {
     "name": "stderr",
     "output_type": "stream",
     "text": [
      "2021-09-19 13:35:38.765234: I tensorflow/core/profiler/lib/profiler_session.cc:131] Profiler session initializing.\n",
      "2021-09-19 13:35:38.765271: I tensorflow/core/profiler/lib/profiler_session.cc:146] Profiler session started.\n",
      "2021-09-19 13:35:38.765781: E tensorflow/core/profiler/internal/gpu/cupti_tracer.cc:1666] function cupti_interface_->Subscribe( &subscriber_, (CUpti_CallbackFunc)ApiCallback, this)failed with error CUPTI_ERROR_INSUFFICIENT_PRIVILEGES\n",
      "2021-09-19 13:35:38.782499: I tensorflow/core/profiler/lib/profiler_session.cc:66] Profiler session collecting data.\n",
      "2021-09-19 13:35:38.786780: I tensorflow/core/profiler/internal/gpu/cupti_collector.cc:673]  GpuTracer has collected 0 callback api events and 0 activity events. \n",
      "2021-09-19 13:35:38.788236: I tensorflow/core/profiler/lib/profiler_session.cc:164] Profiler session tear down.\n",
      "2021-09-19 13:35:38.792324: I tensorflow/core/profiler/rpc/client/save_profile.cc:136] Creating directory: logs/run_2021_09_19-13-35-30/train/plugins/profile/2021_09_19_13_35_38\n",
      "\n",
      "2021-09-19 13:35:38.794294: I tensorflow/core/profiler/rpc/client/save_profile.cc:142] Dumped gzipped tool data for trace.json.gz to logs/run_2021_09_19-13-35-30/train/plugins/profile/2021_09_19_13_35_38/daniel-ubuntu.trace.json.gz\n",
      "2021-09-19 13:35:38.805614: I tensorflow/core/profiler/rpc/client/save_profile.cc:136] Creating directory: logs/run_2021_09_19-13-35-30/train/plugins/profile/2021_09_19_13_35_38\n",
      "\n",
      "2021-09-19 13:35:38.808255: I tensorflow/core/profiler/rpc/client/save_profile.cc:142] Dumped gzipped tool data for memory_profile.json.gz to logs/run_2021_09_19-13-35-30/train/plugins/profile/2021_09_19_13_35_38/daniel-ubuntu.memory_profile.json.gz\n",
      "2021-09-19 13:35:38.808461: I tensorflow/core/profiler/rpc/client/capture_profile.cc:251] Creating directory: logs/run_2021_09_19-13-35-30/train/plugins/profile/2021_09_19_13_35_38\n",
      "Dumped tool data for xplane.pb to logs/run_2021_09_19-13-35-30/train/plugins/profile/2021_09_19_13_35_38/daniel-ubuntu.xplane.pb\n",
      "Dumped tool data for overview_page.pb to logs/run_2021_09_19-13-35-30/train/plugins/profile/2021_09_19_13_35_38/daniel-ubuntu.overview_page.pb\n",
      "Dumped tool data for input_pipeline.pb to logs/run_2021_09_19-13-35-30/train/plugins/profile/2021_09_19_13_35_38/daniel-ubuntu.input_pipeline.pb\n",
      "Dumped tool data for tensorflow_stats.pb to logs/run_2021_09_19-13-35-30/train/plugins/profile/2021_09_19_13_35_38/daniel-ubuntu.tensorflow_stats.pb\n",
      "Dumped tool data for kernel_stats.pb to logs/run_2021_09_19-13-35-30/train/plugins/profile/2021_09_19_13_35_38/daniel-ubuntu.kernel_stats.pb\n",
      "\n"
     ]
    },
    {
     "name": "stdout",
     "output_type": "stream",
     "text": [
      "782/782 [==============================] - 18s 15ms/step - loss: 0.5467 - accuracy: 0.7133\n",
      "Epoch 2/10\n",
      "782/782 [==============================] - 12s 15ms/step - loss: 0.3070 - accuracy: 0.8766\n",
      "Epoch 3/10\n",
      "782/782 [==============================] - 11s 15ms/step - loss: 0.1319 - accuracy: 0.9544\n",
      "Epoch 4/10\n",
      "782/782 [==============================] - 12s 15ms/step - loss: 0.0934 - accuracy: 0.9667\n",
      "Epoch 5/10\n",
      "782/782 [==============================] - 12s 15ms/step - loss: 0.0701 - accuracy: 0.9758\n",
      "Epoch 6/10\n",
      "782/782 [==============================] - 11s 14ms/step - loss: 0.0457 - accuracy: 0.9831\n",
      "Epoch 7/10\n",
      "782/782 [==============================] - 11s 14ms/step - loss: 0.0393 - accuracy: 0.9851\n",
      "Epoch 8/10\n",
      "782/782 [==============================] - 11s 14ms/step - loss: 0.0285 - accuracy: 0.9906\n",
      "Epoch 9/10\n",
      "782/782 [==============================] - 11s 14ms/step - loss: 0.0224 - accuracy: 0.9921\n",
      "Epoch 10/10\n",
      "782/782 [==============================] - 11s 14ms/step - loss: 0.0158 - accuracy: 0.9943\n"
     ]
    }
   ],
   "source": [
    "history = model.fit(train_set, epochs=10, callbacks=[tensorboard_cb, checkpoint_cb])"
   ]
  },
  {
   "cell_type": "code",
   "execution_count": null,
   "id": "42ac1f44-6265-4639-9be6-c1019be31c8b",
   "metadata": {},
   "outputs": [],
   "source": []
  }
 ],
 "metadata": {
  "kernelspec": {
   "display_name": "Python 3 (ipykernel)",
   "language": "python",
   "name": "python3"
  },
  "language_info": {
   "codemirror_mode": {
    "name": "ipython",
    "version": 3
   },
   "file_extension": ".py",
   "mimetype": "text/x-python",
   "name": "python",
   "nbconvert_exporter": "python",
   "pygments_lexer": "ipython3",
   "version": "3.8.0"
  }
 },
 "nbformat": 4,
 "nbformat_minor": 5
}
