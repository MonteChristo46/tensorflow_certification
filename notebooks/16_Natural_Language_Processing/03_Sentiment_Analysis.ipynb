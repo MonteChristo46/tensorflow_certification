{
 "cells": [
  {
   "cell_type": "markdown",
   "id": "8ed89248-5f3b-42b5-bdbc-c6c5ddb6583e",
   "metadata": {},
   "source": [
    "# Sentiment Analysis"
   ]
  },
  {
   "cell_type": "code",
   "execution_count": 1,
   "id": "94e557ca-9038-4436-834e-b97fb787595e",
   "metadata": {},
   "outputs": [],
   "source": [
    "import tensorflow as tf\n",
    "from tensorflow import keras\n",
    "import numpy as np\n",
    "import tensorflow_datasets as tfds\n",
    "from collections import Counter\n",
    "import time\n",
    "import os"
   ]
  },
  {
   "cell_type": "markdown",
   "id": "116d2887-a9bd-486a-b21a-37f3dae6b304",
   "metadata": {},
   "source": [
    "## Loading the dataset"
   ]
  },
  {
   "cell_type": "code",
   "execution_count": 2,
   "id": "8d4ec66f-d8bf-47a8-ac4b-d766f827fef6",
   "metadata": {},
   "outputs": [],
   "source": [
    "(x_train, y_train), (x_test, y_test) = keras.datasets.imdb.load_data()"
   ]
  },
  {
   "cell_type": "code",
   "execution_count": 3,
   "id": "42ac1f44-6265-4639-9be6-c1019be31c8b",
   "metadata": {},
   "outputs": [
    {
     "name": "stdout",
     "output_type": "stream",
     "text": [
      "(25000,)\n",
      "(25000,)\n"
     ]
    }
   ],
   "source": [
    "# Shapes\n",
    "print(x_train.shape)\n",
    "print(y_train.shape)"
   ]
  },
  {
   "cell_type": "code",
   "execution_count": 4,
   "id": "76f681c6-c7b3-4f45-92a9-f823bb69128e",
   "metadata": {},
   "outputs": [
    {
     "data": {
      "text/plain": [
       "[1, 14, 47, 8, 30, 31, 7, 4, 249, 108]"
      ]
     },
     "execution_count": 4,
     "metadata": {},
     "output_type": "execute_result"
    }
   ],
   "source": [
    "x_train[2][:10] # [Movie_Review_ID, Words]"
   ]
  },
  {
   "cell_type": "code",
   "execution_count": 5,
   "id": "097ac5c8-a66e-42af-8a1a-92bf1b036b7e",
   "metadata": {},
   "outputs": [],
   "source": [
    "# Each Integer represents a word according to a word index\n",
    "word_index = keras.datasets.imdb.get_word_index()"
   ]
  },
  {
   "cell_type": "code",
   "execution_count": 6,
   "id": "9e50279e-0d42-4da3-8784-7d29f90cc2b9",
   "metadata": {},
   "outputs": [],
   "source": [
    "# We add 3 because of the three special tokens <pad> <sos> <unk>\n",
    "word_index_dict = {id_+3: word for word, id_ in word_index.items()} # Words gonna start from index 3\n",
    "tags = [\"<pad>\", \"<sos>\", \"<unk>\"] # index 0 - 2 are gonna be tags\n",
    "for i in range(3):\n",
    "    word_index_dict[i] = tags[i]"
   ]
  },
  {
   "cell_type": "code",
   "execution_count": 7,
   "id": "e591151d-b982-4c23-af09-2fb304941c07",
   "metadata": {},
   "outputs": [
    {
     "data": {
      "text/plain": [
       "\"<sos> this has to be one of the worst films of the 1990s when my friends i were watching this film being the target audience it was aimed at we just sat watched the first half an hour with our jaws touching the floor at how bad it really was the rest of the time everyone else in the theatre just started talking to each other leaving or generally crying into their popcorn that they actually paid money they had earnt working to watch this feeble excuse for a film it must have looked like a great idea on paper but on film it looks like no one in the film has a clue what is going on crap acting crap costumes i can't get across how embarrasing this is to watch save yourself an hour a bit of your life\""
      ]
     },
     "execution_count": 7,
     "metadata": {},
     "output_type": "execute_result"
    }
   ],
   "source": [
    "# Example - Review from specific movie id\n",
    "\" \".join([word_index_dict[x] for x in x_train[2][:]])"
   ]
  },
  {
   "cell_type": "markdown",
   "id": "8a0aeb23-fed4-4ca2-9801-330f0bfd4db2",
   "metadata": {},
   "source": []
  },
  {
   "cell_type": "markdown",
   "id": "b4b982fb-1c64-4939-9965-22f9b8fb91bb",
   "metadata": {},
   "source": [
    "## Loading the dataset from TensorFlow Datasets\n",
    "Da kommen die Dinger gleich als TF.Dataset"
   ]
  },
  {
   "cell_type": "code",
   "execution_count": 8,
   "id": "170bf424-f19a-4e5f-809d-816b9374b7cb",
   "metadata": {},
   "outputs": [],
   "source": [
    "import tensorflow_datasets as tfds"
   ]
  },
  {
   "cell_type": "code",
   "execution_count": 9,
   "id": "76c568bd-5c36-45c2-b597-b5e81cbc9c6e",
   "metadata": {},
   "outputs": [
    {
     "name": "stderr",
     "output_type": "stream",
     "text": [
      "2021-10-18 00:20:33.335555: I tensorflow/stream_executor/cuda/cuda_gpu_executor.cc:937] successful NUMA node read from SysFS had negative value (-1), but there must be at least one NUMA node, so returning NUMA node zero\n",
      "2021-10-18 00:20:33.341101: I tensorflow/stream_executor/cuda/cuda_gpu_executor.cc:937] successful NUMA node read from SysFS had negative value (-1), but there must be at least one NUMA node, so returning NUMA node zero\n",
      "2021-10-18 00:20:33.341664: I tensorflow/stream_executor/cuda/cuda_gpu_executor.cc:937] successful NUMA node read from SysFS had negative value (-1), but there must be at least one NUMA node, so returning NUMA node zero\n",
      "2021-10-18 00:20:33.342416: I tensorflow/core/platform/cpu_feature_guard.cc:142] This TensorFlow binary is optimized with oneAPI Deep Neural Network Library (oneDNN) to use the following CPU instructions in performance-critical operations:  AVX2 FMA\n",
      "To enable them in other operations, rebuild TensorFlow with the appropriate compiler flags.\n",
      "2021-10-18 00:20:33.343166: I tensorflow/stream_executor/cuda/cuda_gpu_executor.cc:937] successful NUMA node read from SysFS had negative value (-1), but there must be at least one NUMA node, so returning NUMA node zero\n",
      "2021-10-18 00:20:33.343730: I tensorflow/stream_executor/cuda/cuda_gpu_executor.cc:937] successful NUMA node read from SysFS had negative value (-1), but there must be at least one NUMA node, so returning NUMA node zero\n",
      "2021-10-18 00:20:33.344228: I tensorflow/stream_executor/cuda/cuda_gpu_executor.cc:937] successful NUMA node read from SysFS had negative value (-1), but there must be at least one NUMA node, so returning NUMA node zero\n",
      "2021-10-18 00:20:33.751740: I tensorflow/stream_executor/cuda/cuda_gpu_executor.cc:937] successful NUMA node read from SysFS had negative value (-1), but there must be at least one NUMA node, so returning NUMA node zero\n",
      "2021-10-18 00:20:33.752240: I tensorflow/stream_executor/cuda/cuda_gpu_executor.cc:937] successful NUMA node read from SysFS had negative value (-1), but there must be at least one NUMA node, so returning NUMA node zero\n",
      "2021-10-18 00:20:33.752667: I tensorflow/stream_executor/cuda/cuda_gpu_executor.cc:937] successful NUMA node read from SysFS had negative value (-1), but there must be at least one NUMA node, so returning NUMA node zero\n",
      "2021-10-18 00:20:33.753071: I tensorflow/core/common_runtime/gpu/gpu_device.cc:1510] Created device /job:localhost/replica:0/task:0/device:GPU:0 with 6116 MB memory:  -> device: 0, name: NVIDIA GeForce RTX 2070, pci bus id: 0000:0b:00.0, compute capability: 7.5\n"
     ]
    }
   ],
   "source": [
    "datasets, info = tfds.load(\"imdb_reviews\", as_supervised = True, with_info = True)"
   ]
  },
  {
   "cell_type": "code",
   "execution_count": 10,
   "id": "04accc24-8393-4dfa-b468-45c9f31fcc89",
   "metadata": {},
   "outputs": [
    {
     "data": {
      "text/plain": [
       "tfds.core.DatasetInfo(\n",
       "    name='imdb_reviews',\n",
       "    full_name='imdb_reviews/plain_text/1.0.0',\n",
       "    description=\"\"\"\n",
       "    Large Movie Review Dataset.\n",
       "    This is a dataset for binary sentiment classification containing substantially more data than previous benchmark datasets. We provide a set of 25,000 highly polar movie reviews for training, and 25,000 for testing. There is additional unlabeled data for use as well.\n",
       "    \"\"\",\n",
       "    config_description=\"\"\"\n",
       "    Plain text\n",
       "    \"\"\",\n",
       "    homepage='http://ai.stanford.edu/~amaas/data/sentiment/',\n",
       "    data_path='/home/daniel/tensorflow_datasets/imdb_reviews/plain_text/1.0.0',\n",
       "    download_size=80.23 MiB,\n",
       "    dataset_size=129.83 MiB,\n",
       "    features=FeaturesDict({\n",
       "        'label': ClassLabel(shape=(), dtype=tf.int64, num_classes=2),\n",
       "        'text': Text(shape=(), dtype=tf.string),\n",
       "    }),\n",
       "    supervised_keys=('text', 'label'),\n",
       "    disable_shuffling=False,\n",
       "    splits={\n",
       "        'test': <SplitInfo num_examples=25000, num_shards=1>,\n",
       "        'train': <SplitInfo num_examples=25000, num_shards=1>,\n",
       "        'unsupervised': <SplitInfo num_examples=50000, num_shards=1>,\n",
       "    },\n",
       "    citation=\"\"\"@InProceedings{maas-EtAl:2011:ACL-HLT2011,\n",
       "      author    = {Maas, Andrew L.  and  Daly, Raymond E.  and  Pham, Peter T.  and  Huang, Dan  and  Ng, Andrew Y.  and  Potts, Christopher},\n",
       "      title     = {Learning Word Vectors for Sentiment Analysis},\n",
       "      booktitle = {Proceedings of the 49th Annual Meeting of the Association for Computational Linguistics: Human Language Technologies},\n",
       "      month     = {June},\n",
       "      year      = {2011},\n",
       "      address   = {Portland, Oregon, USA},\n",
       "      publisher = {Association for Computational Linguistics},\n",
       "      pages     = {142--150},\n",
       "      url       = {http://www.aclweb.org/anthology/P11-1015}\n",
       "    }\"\"\",\n",
       ")"
      ]
     },
     "execution_count": 10,
     "metadata": {},
     "output_type": "execute_result"
    }
   ],
   "source": [
    "info"
   ]
  },
  {
   "cell_type": "code",
   "execution_count": 11,
   "id": "b9b580ae-b07f-4217-b0f0-7dee5c7e9733",
   "metadata": {},
   "outputs": [],
   "source": [
    "train_size = info.splits[\"train\"]"
   ]
  },
  {
   "cell_type": "code",
   "execution_count": 12,
   "id": "b41a714b-705a-42d2-8184-3e6efa3d77ec",
   "metadata": {},
   "outputs": [],
   "source": [
    "def preprocess(X_batch, y_batch):\n",
    "    X_batch = tf.strings.substr(X_batch, 0, 300) # We only keep the first 300 words. \n",
    "    X_batch = tf.strings.regex_replace(X_batch, rb\"<br\\s*/?>\", b\" \")\n",
    "    X_batch = tf.strings.regex_replace(X_batch, b\"[^a-zA-Z']\", b\" \")\n",
    "     # X_Batch is a ragged tensor. Because some Movie Reviews have less then 300 words. That means we have a tensor with containing differen lst length\n",
    "    X_batch = tf.strings.split(X_batch)\n",
    "    X_batch = X_batch.to_tensor(default_value = b\"<pad>\") # Converting ragged tensor to a normal tensor by filling up the value with <pad>. Reviews now have same length\n",
    "\n",
    "    return X_batch, y_batch"
   ]
  },
  {
   "cell_type": "code",
   "execution_count": 13,
   "id": "0ad2d4fd-549d-4f5a-b441-96094b5219a6",
   "metadata": {},
   "outputs": [
    {
     "name": "stdout",
     "output_type": "stream",
     "text": [
      "tf.Tensor(b\"This was an absolutely terrible movie. Don't be lured in by Christopher Walken or Michael Ironside. Both are great actors, but this must simply be their worst role in history. Even their great acting could not redeem this movie's ridiculous storyline. This movie is an early nineties US propaganda piece. The most pathetic scenes were those when the Columbian rebels were making their cases for revolutions. Maria Conchita Alonso appeared phony, and her pseudo-love affair with Walken was nothing but a pathetic emotional plug in a movie that was devoid of any real meaning. I am disappointed that there are movies like this, ruining actor's like Christopher Walken's good name. I could barely sit through it.\", shape=(), dtype=string)\n",
      "\n",
      "\n",
      "tf.Tensor(0, shape=(), dtype=int64)\n"
     ]
    },
    {
     "name": "stderr",
     "output_type": "stream",
     "text": [
      "2021-10-18 00:20:33.933573: I tensorflow/compiler/mlir/mlir_graph_optimization_pass.cc:185] None of the MLIR Optimization Passes are enabled (registered 2)\n",
      "2021-10-18 00:20:33.977664: W tensorflow/core/kernels/data/cache_dataset_ops.cc:768] The calling iterator did not fully read the dataset being cached. In order to avoid unexpected truncation of the dataset, the partially cached contents of the dataset  will be discarded. This can happen if you have an input pipeline similar to `dataset.cache().take(k).repeat()`. You should use `dataset.take(k).cache().repeat()` instead.\n"
     ]
    }
   ],
   "source": [
    "for x,y  in datasets[\"train\"].take(1):\n",
    "    print(x) # The movie review\n",
    "    print(\"\\n\")\n",
    "    print(y) # Class zero means negativ class one means positive"
   ]
  },
  {
   "cell_type": "code",
   "execution_count": 14,
   "id": "6f567f88-c31b-4bee-bab8-6fcf5ece9e62",
   "metadata": {},
   "outputs": [],
   "source": [
    "train_dataset = datasets[\"train\"].batch(16)"
   ]
  },
  {
   "cell_type": "code",
   "execution_count": 15,
   "id": "a60edf33-1842-4439-87ea-29ff64adddb0",
   "metadata": {},
   "outputs": [
    {
     "data": {
      "text/plain": [
       "<CacheDataset shapes: ((None,), (None,)), types: (tf.string, tf.int64)>"
      ]
     },
     "execution_count": 15,
     "metadata": {},
     "output_type": "execute_result"
    }
   ],
   "source": [
    "train_dataset.cache()"
   ]
  },
  {
   "cell_type": "raw",
   "id": "a66489f2-082f-42d8-bc8a-aad87e42b137",
   "metadata": {},
   "source": [
    "for x,y  in train_dataset.take(32):\n",
    "    print(x.shape) # The movie review\n",
    "    print(y.shape) # Class zero means negativ class one means positive"
   ]
  },
  {
   "cell_type": "code",
   "execution_count": 16,
   "id": "aea2c98e-2271-46e6-9cff-af692a0c0bd5",
   "metadata": {},
   "outputs": [],
   "source": [
    "train_dataset = train_dataset.map(preprocess)"
   ]
  },
  {
   "cell_type": "raw",
   "id": "a342b568-fd5a-4794-afc0-4d3103055532",
   "metadata": {},
   "source": [
    "for x,y in train_dataset.take(1):\n",
    "    print(x) # The movie review\n",
    "    print(y)"
   ]
  },
  {
   "cell_type": "markdown",
   "id": "35c291e4-a981-436a-ada2-fa925fdff52e",
   "metadata": {},
   "source": [
    "## Finding most important words"
   ]
  },
  {
   "cell_type": "code",
   "execution_count": 17,
   "id": "5abf70d8-d7f0-44be-8a54-409a60ccfa43",
   "metadata": {},
   "outputs": [],
   "source": [
    "from collections import Counter"
   ]
  },
  {
   "cell_type": "code",
   "execution_count": 18,
   "id": "4cc1d9c2-1739-47cf-8b8d-76a232ffbd60",
   "metadata": {},
   "outputs": [],
   "source": [
    "vocabulary = Counter()"
   ]
  },
  {
   "cell_type": "code",
   "execution_count": 19,
   "id": "bae8bec6-7389-4b78-92c4-1596a9dd0aa4",
   "metadata": {},
   "outputs": [],
   "source": [
    "for x_batch, y_batch in train_dataset: \n",
    "    for review in x_batch: \n",
    "        vocabulary.update(list(review.numpy()))"
   ]
  },
  {
   "cell_type": "code",
   "execution_count": 20,
   "id": "d3137aa5-aacf-4539-af5d-6d696545ad19",
   "metadata": {},
   "outputs": [
    {
     "data": {
      "text/plain": [
       "[(b'<pad>', 185093),\n",
       " (b'the', 61137),\n",
       " (b'a', 38564),\n",
       " (b'of', 33983),\n",
       " (b'and', 33431),\n",
       " (b'to', 27707),\n",
       " (b'I', 27019),\n",
       " (b'is', 25719),\n",
       " (b'in', 18966),\n",
       " (b'this', 18490)]"
      ]
     },
     "execution_count": 20,
     "metadata": {},
     "output_type": "execute_result"
    }
   ],
   "source": [
    "vocabulary.most_common()[:10]"
   ]
  },
  {
   "cell_type": "markdown",
   "id": "f48774ae-baae-44bb-bfc8-614b89a947ae",
   "metadata": {},
   "source": [
    "## Truncating our Vocabulary"
   ]
  },
  {
   "cell_type": "code",
   "execution_count": 21,
   "id": "4cee3013-9c8f-458c-9f89-c68043d41a5b",
   "metadata": {},
   "outputs": [],
   "source": [
    "vocab_size = 10000"
   ]
  },
  {
   "cell_type": "code",
   "execution_count": 22,
   "id": "25b7b429-a122-452b-a909-b3b87b4ca02e",
   "metadata": {},
   "outputs": [],
   "source": [
    "truncated_vocab = [word for word, count in vocabulary.most_common()[:vocab_size]] # Only keeping the 10.000 Words"
   ]
  },
  {
   "cell_type": "markdown",
   "id": "666078d4-cebe-4fa9-8c7a-e9be2a1d8a6e",
   "metadata": {},
   "source": [
    "### Creating a lookup table for our words\n",
    "\n",
    "LoopupTable is a normal Key,Value Relationbship But if a new value is missing. A new Key will be generated for num_oov_buckets. "
   ]
  },
  {
   "cell_type": "code",
   "execution_count": 23,
   "id": "0b7743ff-91d4-4547-850c-f7b55c4b3653",
   "metadata": {},
   "outputs": [],
   "source": [
    "words = tf.constant(truncated_vocab)\n",
    "word_ids = tf.range(len(truncated_vocab), dtype = tf.int64)"
   ]
  },
  {
   "cell_type": "code",
   "execution_count": 24,
   "id": "cc864340-d59b-4213-930a-9dc200749619",
   "metadata": {},
   "outputs": [],
   "source": [
    "vocab_init = tf.lookup.KeyValueTensorInitializer(words, word_ids)"
   ]
  },
  {
   "cell_type": "code",
   "execution_count": 25,
   "id": "b3dc67bc-3541-4301-ae76-169f9c1a0687",
   "metadata": {},
   "outputs": [],
   "source": [
    "num_oov_buckets = 1000 # Max number of new key, which can be generated. ! MEANS THAT OUR TOTAL VOCAB SIZE IS NOW => num_oov_bucket+ vocab_size"
   ]
  },
  {
   "cell_type": "code",
   "execution_count": 26,
   "id": "f549fcf7-5913-4c38-a121-449e826a38ac",
   "metadata": {},
   "outputs": [],
   "source": [
    "lookup_table = tf.lookup.StaticVocabularyTable(vocab_init, num_oov_buckets=num_oov_buckets)"
   ]
  },
  {
   "cell_type": "code",
   "execution_count": 27,
   "id": "717f4e8d-80b6-45cd-8873-d2547ab0a009",
   "metadata": {},
   "outputs": [
    {
     "name": "stdout",
     "output_type": "stream",
     "text": [
      "22\n",
      "12\n",
      "11\n",
      "10000\n"
     ]
    }
   ],
   "source": [
    "word_to_id = {word: index for index, word in enumerate(truncated_vocab)}\n",
    "for word in b\"This movie was faaaaaantastic\".split():\n",
    "    print(word_to_id.get(word) or vocab_size)"
   ]
  },
  {
   "cell_type": "markdown",
   "id": "eda23aa1-b7b6-42f8-8ac3-5fd3c6e9a857",
   "metadata": {},
   "source": [
    "### Function for encoding words\n",
    "#### To Transform our words in the dataset to intergers"
   ]
  },
  {
   "cell_type": "code",
   "execution_count": 28,
   "id": "4942c8f9-6167-4537-9566-30c54a1831ab",
   "metadata": {},
   "outputs": [],
   "source": [
    "def encode_words(x_batch, y_batch): \n",
    "    return lookup_table.lookup(x_batch), y_batch"
   ]
  },
  {
   "cell_type": "code",
   "execution_count": 29,
   "id": "d8e51412-f5ab-47c4-8f60-00e869b2e3e0",
   "metadata": {},
   "outputs": [],
   "source": [
    "train_dataset = train_dataset.map(encode_words)"
   ]
  },
  {
   "cell_type": "code",
   "execution_count": 30,
   "id": "ed5401a7-1d9d-4362-ae68-80abd3401b80",
   "metadata": {},
   "outputs": [
    {
     "data": {
      "text/plain": [
       "<PrefetchDataset shapes: ((None, None), (None,)), types: (tf.int64, tf.int64)>"
      ]
     },
     "execution_count": 30,
     "metadata": {},
     "output_type": "execute_result"
    }
   ],
   "source": [
    "train_dataset.prefetch(1)"
   ]
  },
  {
   "cell_type": "markdown",
   "id": "c3ab7ec3-3b2f-43f9-bd15-755e1f113c7a",
   "metadata": {},
   "source": [
    "### Building the model \n",
    "\n",
    "Questions. \n",
    "\n",
    "1. Input Shape is strange\n",
    "2. Can we transform that something more probabolisity Y?"
   ]
  },
  {
   "cell_type": "code",
   "execution_count": 31,
   "id": "f2199dbd-ef80-48db-8a13-bb45d5350c8d",
   "metadata": {},
   "outputs": [],
   "source": [
    "def get_run_logdir() -> str:\n",
    "    run_id = time.strftime(\"run_%Y_%m_%d-%H-%M-%S\")\n",
    "    return os.path.join(\"./logs_sentiment\", run_id)"
   ]
  },
  {
   "cell_type": "code",
   "execution_count": 32,
   "id": "0e287ef3-0f20-49f2-b453-b7a6abea81d5",
   "metadata": {},
   "outputs": [],
   "source": [
    "embed_size = 128"
   ]
  },
  {
   "cell_type": "code",
   "execution_count": 33,
   "id": "ca330248-b191-44a0-bf0a-ff8b2c740347",
   "metadata": {},
   "outputs": [],
   "source": [
    "model = keras.models.Sequential(\n",
    "[\n",
    "    keras.layers.Embedding(vocab_size + num_oov_buckets, embed_size, input_shape = [None]),\n",
    "    keras.layers.GRU(128, return_sequences = True),\n",
    "    keras.layers.GRU(128),\n",
    "    keras.layers.Dense(1, activation = keras.activations.sigmoid)\n",
    "])"
   ]
  },
  {
   "cell_type": "code",
   "execution_count": 34,
   "id": "38059777-a1ae-4dd8-bf6c-f83b8a78ff71",
   "metadata": {},
   "outputs": [
    {
     "name": "stderr",
     "output_type": "stream",
     "text": [
      "2021-10-18 00:20:39.753884: I tensorflow/core/profiler/lib/profiler_session.cc:131] Profiler session initializing.\n",
      "2021-10-18 00:20:39.753910: I tensorflow/core/profiler/lib/profiler_session.cc:146] Profiler session started.\n",
      "2021-10-18 00:20:39.753941: I tensorflow/core/profiler/internal/gpu/cupti_tracer.cc:1614] Profiler found 1 GPUs\n",
      "2021-10-18 00:20:39.754375: W tensorflow/stream_executor/platform/default/dso_loader.cc:64] Could not load dynamic library 'libcupti.so.11.2'; dlerror: libcupti.so.11.2: cannot open shared object file: No such file or directory; LD_LIBRARY_PATH: /usr/local/cuda-11.2/lib64\n",
      "2021-10-18 00:20:39.855374: E tensorflow/core/profiler/internal/gpu/cupti_tracer.cc:1666] function cupti_interface_->Subscribe( &subscriber_, (CUpti_CallbackFunc)ApiCallback, this)failed with error CUPTI_ERROR_INSUFFICIENT_PRIVILEGES\n",
      "2021-10-18 00:20:39.855518: I tensorflow/core/profiler/lib/profiler_session.cc:164] Profiler session tear down.\n"
     ]
    }
   ],
   "source": [
    "tb_callback = keras.callbacks.TensorBoard(\"./logs_sentiment\",  update_freq= 1)"
   ]
  },
  {
   "cell_type": "code",
   "execution_count": 35,
   "id": "89dfc85a-8f58-4fac-9e29-0ab29d6f445a",
   "metadata": {},
   "outputs": [],
   "source": [
    "checkpoint_cb = keras.callbacks.ModelCheckpoint(\"./checkpoint_sentiment/checkpoint.h5\")"
   ]
  },
  {
   "cell_type": "code",
   "execution_count": 36,
   "id": "fc8d26ab-4c5e-4831-ac3c-3b4bd517b1a0",
   "metadata": {},
   "outputs": [],
   "source": [
    "model.compile(loss=keras.losses.binary_crossentropy, optimizer = \"adam\", metrics = [\"accuracy\"])"
   ]
  },
  {
   "cell_type": "code",
   "execution_count": 37,
   "id": "bfb812f3-788d-449f-8f2c-45140b15ec3d",
   "metadata": {},
   "outputs": [
    {
     "name": "stdout",
     "output_type": "stream",
     "text": [
      "Model: \"sequential\"\n",
      "_________________________________________________________________\n",
      "Layer (type)                 Output Shape              Param #   \n",
      "=================================================================\n",
      "embedding (Embedding)        (None, None, 128)         1408000   \n",
      "_________________________________________________________________\n",
      "gru (GRU)                    (None, None, 128)         99072     \n",
      "_________________________________________________________________\n",
      "gru_1 (GRU)                  (None, 128)               99072     \n",
      "_________________________________________________________________\n",
      "dense (Dense)                (None, 1)                 129       \n",
      "=================================================================\n",
      "Total params: 1,606,273\n",
      "Trainable params: 1,606,273\n",
      "Non-trainable params: 0\n",
      "_________________________________________________________________\n"
     ]
    }
   ],
   "source": [
    "model.summary()"
   ]
  },
  {
   "cell_type": "code",
   "execution_count": 38,
   "id": "663d8449-17e1-4257-b39d-45e8cf195cc6",
   "metadata": {},
   "outputs": [
    {
     "data": {
      "text/plain": [
       "'./logs_sentiment/run_2021_10_18-00-20-39'"
      ]
     },
     "execution_count": 38,
     "metadata": {},
     "output_type": "execute_result"
    }
   ],
   "source": [
    "get_run_logdir()"
   ]
  },
  {
   "cell_type": "code",
   "execution_count": 39,
   "id": "3e374990-1e4f-45a1-bb60-3d9882063ae9",
   "metadata": {},
   "outputs": [
    {
     "data": {
      "text/html": [
       "\n",
       "      <iframe id=\"tensorboard-frame-22f6cb3c87976f1f\" width=\"100%\" height=\"800\" frameborder=\"0\">\n",
       "      </iframe>\n",
       "      <script>\n",
       "        (function() {\n",
       "          const frame = document.getElementById(\"tensorboard-frame-22f6cb3c87976f1f\");\n",
       "          const url = new URL(\"/\", window.location);\n",
       "          const port = 6006;\n",
       "          if (port) {\n",
       "            url.port = port;\n",
       "          }\n",
       "          frame.src = url;\n",
       "        })();\n",
       "      </script>\n",
       "    "
      ],
      "text/plain": [
       "<IPython.core.display.HTML object>"
      ]
     },
     "metadata": {},
     "output_type": "display_data"
    }
   ],
   "source": [
    "%load_ext tensorboard\n",
    "%tensorboard --logdir=./logs_sentiment --port=6006"
   ]
  },
  {
   "cell_type": "markdown",
   "id": "cf812f1b-1031-4668-a49e-2cf04aa20b9d",
   "metadata": {},
   "source": [
    "model.fit(train_dataset, epochs = 5, callbacks = [tb_callback, checkpoint_cb])"
   ]
  },
  {
   "cell_type": "markdown",
   "id": "9f4f563a-cc82-465b-9225-fddaaa31e9dd",
   "metadata": {},
   "source": [
    "## WIth Tensorflow Hub Modules"
   ]
  },
  {
   "cell_type": "code",
   "execution_count": 63,
   "id": "789529d0-b0ff-45b6-8098-99b7a150a2a9",
   "metadata": {},
   "outputs": [],
   "source": [
    "datasets, info = tfds.load(\"imdb_reviews\", as_supervised = True, with_info = True)"
   ]
  },
  {
   "cell_type": "code",
   "execution_count": 64,
   "id": "90277b78-df02-4280-92e5-7b984d763f4e",
   "metadata": {},
   "outputs": [],
   "source": [
    "train_size = info.splits[\"train\"]"
   ]
  },
  {
   "cell_type": "code",
   "execution_count": 65,
   "id": "a0c8b827-eb36-4c44-9132-bc64c90a8659",
   "metadata": {},
   "outputs": [],
   "source": [
    "train_dataset = datasets[\"train\"].batch(16)"
   ]
  },
  {
   "cell_type": "code",
   "execution_count": 66,
   "id": "3e8c2dfe-06dd-4096-b5b8-c1cc7d442a35",
   "metadata": {},
   "outputs": [
    {
     "data": {
      "text/plain": [
       "<CacheDataset shapes: ((None,), (None,)), types: (tf.string, tf.int64)>"
      ]
     },
     "execution_count": 66,
     "metadata": {},
     "output_type": "execute_result"
    }
   ],
   "source": [
    "train_dataset.cache()"
   ]
  },
  {
   "cell_type": "raw",
   "id": "9ca8c2ff-3647-44e7-a577-3fc0c82feb2d",
   "metadata": {},
   "source": [
    "train_dataset = train_dataset.map(preprocess)"
   ]
  },
  {
   "cell_type": "code",
   "execution_count": 67,
   "id": "393a1c94-ac6a-4ff0-bf82-81edfcec9e7f",
   "metadata": {},
   "outputs": [],
   "source": [
    "train_dataset = train_dataset.prefetch(1)"
   ]
  },
  {
   "cell_type": "raw",
   "id": "9236d0c9-7987-42d8-8d5e-f8e8ac6fcf10",
   "metadata": {},
   "source": [
    "for item in train_dataset.take(1):\n",
    "    print(item)"
   ]
  },
  {
   "cell_type": "code",
   "execution_count": 69,
   "id": "6b7a5fc4-5b71-47e4-acfb-7be9ea7edfc6",
   "metadata": {},
   "outputs": [],
   "source": [
    "import tensorflow_hub as hub"
   ]
  },
  {
   "cell_type": "code",
   "execution_count": 84,
   "id": "938b89ed-8b1b-41e9-915b-356ded4e43f8",
   "metadata": {},
   "outputs": [],
   "source": [
    "model = keras.models.Sequential([\n",
    "    hub.KerasLayer(\"https://tfhub.dev/google/nnlm-en-dim50/2\",\n",
    "                           input_shape=[], dtype=tf.string),\n",
    "    \n",
    "    keras.layers.Dense(100, activation = \"relu\"),\n",
    "    keras.layers.BatchNormalization(),\n",
    "    keras.layers.Dense(150, activation = \"relu\"),\n",
    "    keras.layers.BatchNormalization(),\n",
    "    keras.layers.Dense(100, activation = \"relu\"),\n",
    "    keras.layers.BatchNormalization(),\n",
    "    keras.layers.Dense(1, activation = \"sigmoid\")\n",
    "    ])"
   ]
  },
  {
   "cell_type": "code",
   "execution_count": 85,
   "id": "5e1eaefe-9855-4861-a460-d8009aee88bf",
   "metadata": {},
   "outputs": [],
   "source": [
    "model.compile(loss = \"binary_crossentropy\", optimizer = \"adam\", metrics=[\"accuracy\"])"
   ]
  },
  {
   "cell_type": "code",
   "execution_count": 86,
   "id": "7e236e00-27a5-4447-9977-ed5b9730a3c6",
   "metadata": {},
   "outputs": [
    {
     "name": "stdout",
     "output_type": "stream",
     "text": [
      "Epoch 1/5\n",
      "1563/1563 [==============================] - 9s 5ms/step - loss: 0.5650 - accuracy: 0.7158\n",
      "Epoch 2/5\n",
      "1563/1563 [==============================] - 8s 5ms/step - loss: 0.5205 - accuracy: 0.7427\n",
      "Epoch 3/5\n",
      "1563/1563 [==============================] - 8s 5ms/step - loss: 0.5116 - accuracy: 0.7516\n",
      "Epoch 4/5\n",
      "1563/1563 [==============================] - 9s 5ms/step - loss: 0.5028 - accuracy: 0.7568\n",
      "Epoch 5/5\n",
      "1563/1563 [==============================] - 8s 5ms/step - loss: 0.4939 - accuracy: 0.7632\n"
     ]
    },
    {
     "data": {
      "text/plain": [
       "<keras.callbacks.History at 0x7fa3a6965c10>"
      ]
     },
     "execution_count": 86,
     "metadata": {},
     "output_type": "execute_result"
    }
   ],
   "source": [
    "model.fit(train_dataset, epochs = 5)"
   ]
  },
  {
   "cell_type": "code",
   "execution_count": null,
   "id": "0bf82e24-bf32-454d-9c98-9a7cf8fc1bde",
   "metadata": {},
   "outputs": [],
   "source": []
  }
 ],
 "metadata": {
  "kernelspec": {
   "display_name": "Python 3 (ipykernel)",
   "language": "python",
   "name": "python3"
  },
  "language_info": {
   "codemirror_mode": {
    "name": "ipython",
    "version": 3
   },
   "file_extension": ".py",
   "mimetype": "text/x-python",
   "name": "python",
   "nbconvert_exporter": "python",
   "pygments_lexer": "ipython3",
   "version": "3.8.0"
  }
 },
 "nbformat": 4,
 "nbformat_minor": 5
}
